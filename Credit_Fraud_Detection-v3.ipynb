{
 "cells": [
  {
   "cell_type": "code",
   "execution_count": 1,
   "metadata": {
    "collapsed": true
   },
   "outputs": [],
   "source": [
    "import numpy as np\n",
    "import pandas as pd"
   ]
  },
  {
   "cell_type": "code",
   "execution_count": 2,
   "metadata": {
    "collapsed": true
   },
   "outputs": [],
   "source": [
    "Credit = pd.read_csv('./Data/creditcard.csv')"
   ]
  },
  {
   "cell_type": "code",
   "execution_count": 3,
   "metadata": {},
   "outputs": [
    {
     "data": {
      "text/html": [
       "<div>\n",
       "<style>\n",
       "    .dataframe thead tr:only-child th {\n",
       "        text-align: right;\n",
       "    }\n",
       "\n",
       "    .dataframe thead th {\n",
       "        text-align: left;\n",
       "    }\n",
       "\n",
       "    .dataframe tbody tr th {\n",
       "        vertical-align: top;\n",
       "    }\n",
       "</style>\n",
       "<table border=\"1\" class=\"dataframe\">\n",
       "  <thead>\n",
       "    <tr style=\"text-align: right;\">\n",
       "      <th></th>\n",
       "      <th>Time</th>\n",
       "      <th>V1</th>\n",
       "      <th>V2</th>\n",
       "      <th>V3</th>\n",
       "      <th>V4</th>\n",
       "      <th>V5</th>\n",
       "      <th>V6</th>\n",
       "      <th>V7</th>\n",
       "      <th>V8</th>\n",
       "      <th>V9</th>\n",
       "      <th>...</th>\n",
       "      <th>V21</th>\n",
       "      <th>V22</th>\n",
       "      <th>V23</th>\n",
       "      <th>V24</th>\n",
       "      <th>V25</th>\n",
       "      <th>V26</th>\n",
       "      <th>V27</th>\n",
       "      <th>V28</th>\n",
       "      <th>Amount</th>\n",
       "      <th>Class</th>\n",
       "    </tr>\n",
       "  </thead>\n",
       "  <tbody>\n",
       "    <tr>\n",
       "      <th>0</th>\n",
       "      <td>0.0</td>\n",
       "      <td>-1.359807</td>\n",
       "      <td>-0.072781</td>\n",
       "      <td>2.536347</td>\n",
       "      <td>1.378155</td>\n",
       "      <td>-0.338321</td>\n",
       "      <td>0.462388</td>\n",
       "      <td>0.239599</td>\n",
       "      <td>0.098698</td>\n",
       "      <td>0.363787</td>\n",
       "      <td>...</td>\n",
       "      <td>-0.018307</td>\n",
       "      <td>0.277838</td>\n",
       "      <td>-0.110474</td>\n",
       "      <td>0.066928</td>\n",
       "      <td>0.128539</td>\n",
       "      <td>-0.189115</td>\n",
       "      <td>0.133558</td>\n",
       "      <td>-0.021053</td>\n",
       "      <td>149.62</td>\n",
       "      <td>0</td>\n",
       "    </tr>\n",
       "    <tr>\n",
       "      <th>1</th>\n",
       "      <td>0.0</td>\n",
       "      <td>1.191857</td>\n",
       "      <td>0.266151</td>\n",
       "      <td>0.166480</td>\n",
       "      <td>0.448154</td>\n",
       "      <td>0.060018</td>\n",
       "      <td>-0.082361</td>\n",
       "      <td>-0.078803</td>\n",
       "      <td>0.085102</td>\n",
       "      <td>-0.255425</td>\n",
       "      <td>...</td>\n",
       "      <td>-0.225775</td>\n",
       "      <td>-0.638672</td>\n",
       "      <td>0.101288</td>\n",
       "      <td>-0.339846</td>\n",
       "      <td>0.167170</td>\n",
       "      <td>0.125895</td>\n",
       "      <td>-0.008983</td>\n",
       "      <td>0.014724</td>\n",
       "      <td>2.69</td>\n",
       "      <td>0</td>\n",
       "    </tr>\n",
       "    <tr>\n",
       "      <th>2</th>\n",
       "      <td>1.0</td>\n",
       "      <td>-1.358354</td>\n",
       "      <td>-1.340163</td>\n",
       "      <td>1.773209</td>\n",
       "      <td>0.379780</td>\n",
       "      <td>-0.503198</td>\n",
       "      <td>1.800499</td>\n",
       "      <td>0.791461</td>\n",
       "      <td>0.247676</td>\n",
       "      <td>-1.514654</td>\n",
       "      <td>...</td>\n",
       "      <td>0.247998</td>\n",
       "      <td>0.771679</td>\n",
       "      <td>0.909412</td>\n",
       "      <td>-0.689281</td>\n",
       "      <td>-0.327642</td>\n",
       "      <td>-0.139097</td>\n",
       "      <td>-0.055353</td>\n",
       "      <td>-0.059752</td>\n",
       "      <td>378.66</td>\n",
       "      <td>0</td>\n",
       "    </tr>\n",
       "    <tr>\n",
       "      <th>3</th>\n",
       "      <td>1.0</td>\n",
       "      <td>-0.966272</td>\n",
       "      <td>-0.185226</td>\n",
       "      <td>1.792993</td>\n",
       "      <td>-0.863291</td>\n",
       "      <td>-0.010309</td>\n",
       "      <td>1.247203</td>\n",
       "      <td>0.237609</td>\n",
       "      <td>0.377436</td>\n",
       "      <td>-1.387024</td>\n",
       "      <td>...</td>\n",
       "      <td>-0.108300</td>\n",
       "      <td>0.005274</td>\n",
       "      <td>-0.190321</td>\n",
       "      <td>-1.175575</td>\n",
       "      <td>0.647376</td>\n",
       "      <td>-0.221929</td>\n",
       "      <td>0.062723</td>\n",
       "      <td>0.061458</td>\n",
       "      <td>123.50</td>\n",
       "      <td>0</td>\n",
       "    </tr>\n",
       "    <tr>\n",
       "      <th>4</th>\n",
       "      <td>2.0</td>\n",
       "      <td>-1.158233</td>\n",
       "      <td>0.877737</td>\n",
       "      <td>1.548718</td>\n",
       "      <td>0.403034</td>\n",
       "      <td>-0.407193</td>\n",
       "      <td>0.095921</td>\n",
       "      <td>0.592941</td>\n",
       "      <td>-0.270533</td>\n",
       "      <td>0.817739</td>\n",
       "      <td>...</td>\n",
       "      <td>-0.009431</td>\n",
       "      <td>0.798278</td>\n",
       "      <td>-0.137458</td>\n",
       "      <td>0.141267</td>\n",
       "      <td>-0.206010</td>\n",
       "      <td>0.502292</td>\n",
       "      <td>0.219422</td>\n",
       "      <td>0.215153</td>\n",
       "      <td>69.99</td>\n",
       "      <td>0</td>\n",
       "    </tr>\n",
       "  </tbody>\n",
       "</table>\n",
       "<p>5 rows × 31 columns</p>\n",
       "</div>"
      ],
      "text/plain": [
       "   Time        V1        V2        V3        V4        V5        V6        V7  \\\n",
       "0   0.0 -1.359807 -0.072781  2.536347  1.378155 -0.338321  0.462388  0.239599   \n",
       "1   0.0  1.191857  0.266151  0.166480  0.448154  0.060018 -0.082361 -0.078803   \n",
       "2   1.0 -1.358354 -1.340163  1.773209  0.379780 -0.503198  1.800499  0.791461   \n",
       "3   1.0 -0.966272 -0.185226  1.792993 -0.863291 -0.010309  1.247203  0.237609   \n",
       "4   2.0 -1.158233  0.877737  1.548718  0.403034 -0.407193  0.095921  0.592941   \n",
       "\n",
       "         V8        V9  ...         V21       V22       V23       V24  \\\n",
       "0  0.098698  0.363787  ...   -0.018307  0.277838 -0.110474  0.066928   \n",
       "1  0.085102 -0.255425  ...   -0.225775 -0.638672  0.101288 -0.339846   \n",
       "2  0.247676 -1.514654  ...    0.247998  0.771679  0.909412 -0.689281   \n",
       "3  0.377436 -1.387024  ...   -0.108300  0.005274 -0.190321 -1.175575   \n",
       "4 -0.270533  0.817739  ...   -0.009431  0.798278 -0.137458  0.141267   \n",
       "\n",
       "        V25       V26       V27       V28  Amount  Class  \n",
       "0  0.128539 -0.189115  0.133558 -0.021053  149.62      0  \n",
       "1  0.167170  0.125895 -0.008983  0.014724    2.69      0  \n",
       "2 -0.327642 -0.139097 -0.055353 -0.059752  378.66      0  \n",
       "3  0.647376 -0.221929  0.062723  0.061458  123.50      0  \n",
       "4 -0.206010  0.502292  0.219422  0.215153   69.99      0  \n",
       "\n",
       "[5 rows x 31 columns]"
      ]
     },
     "execution_count": 3,
     "metadata": {},
     "output_type": "execute_result"
    }
   ],
   "source": [
    "Credit.head()"
   ]
  },
  {
   "cell_type": "code",
   "execution_count": 4,
   "metadata": {},
   "outputs": [
    {
     "data": {
      "text/plain": [
       "(284807, 31)"
      ]
     },
     "execution_count": 4,
     "metadata": {},
     "output_type": "execute_result"
    }
   ],
   "source": [
    "Credit.shape"
   ]
  },
  {
   "cell_type": "code",
   "execution_count": 5,
   "metadata": {},
   "outputs": [
    {
     "name": "stdout",
     "output_type": "stream",
     "text": [
      "<class 'pandas.core.frame.DataFrame'>\n",
      "RangeIndex: 284807 entries, 0 to 284806\n",
      "Data columns (total 31 columns):\n",
      "Time      284807 non-null float64\n",
      "V1        284807 non-null float64\n",
      "V2        284807 non-null float64\n",
      "V3        284807 non-null float64\n",
      "V4        284807 non-null float64\n",
      "V5        284807 non-null float64\n",
      "V6        284807 non-null float64\n",
      "V7        284807 non-null float64\n",
      "V8        284807 non-null float64\n",
      "V9        284807 non-null float64\n",
      "V10       284807 non-null float64\n",
      "V11       284807 non-null float64\n",
      "V12       284807 non-null float64\n",
      "V13       284807 non-null float64\n",
      "V14       284807 non-null float64\n",
      "V15       284807 non-null float64\n",
      "V16       284807 non-null float64\n",
      "V17       284807 non-null float64\n",
      "V18       284807 non-null float64\n",
      "V19       284807 non-null float64\n",
      "V20       284807 non-null float64\n",
      "V21       284807 non-null float64\n",
      "V22       284807 non-null float64\n",
      "V23       284807 non-null float64\n",
      "V24       284807 non-null float64\n",
      "V25       284807 non-null float64\n",
      "V26       284807 non-null float64\n",
      "V27       284807 non-null float64\n",
      "V28       284807 non-null float64\n",
      "Amount    284807 non-null float64\n",
      "Class     284807 non-null int64\n",
      "dtypes: float64(30), int64(1)\n",
      "memory usage: 67.4 MB\n"
     ]
    }
   ],
   "source": [
    "Credit.info()"
   ]
  },
  {
   "cell_type": "code",
   "execution_count": 6,
   "metadata": {},
   "outputs": [
    {
     "data": {
      "text/plain": [
       "Time      False\n",
       "V1        False\n",
       "V2        False\n",
       "V3        False\n",
       "V4        False\n",
       "V5        False\n",
       "V6        False\n",
       "V7        False\n",
       "V8        False\n",
       "V9        False\n",
       "V10       False\n",
       "V11       False\n",
       "V12       False\n",
       "V13       False\n",
       "V14       False\n",
       "V15       False\n",
       "V16       False\n",
       "V17       False\n",
       "V18       False\n",
       "V19       False\n",
       "V20       False\n",
       "V21       False\n",
       "V22       False\n",
       "V23       False\n",
       "V24       False\n",
       "V25       False\n",
       "V26       False\n",
       "V27       False\n",
       "V28       False\n",
       "Amount    False\n",
       "Class     False\n",
       "dtype: bool"
      ]
     },
     "execution_count": 6,
     "metadata": {},
     "output_type": "execute_result"
    }
   ],
   "source": [
    "pd.isnull(Credit).any()"
   ]
  },
  {
   "cell_type": "code",
   "execution_count": 7,
   "metadata": {},
   "outputs": [
    {
     "data": {
      "text/html": [
       "<div>\n",
       "<style>\n",
       "    .dataframe thead tr:only-child th {\n",
       "        text-align: right;\n",
       "    }\n",
       "\n",
       "    .dataframe thead th {\n",
       "        text-align: left;\n",
       "    }\n",
       "\n",
       "    .dataframe tbody tr th {\n",
       "        vertical-align: top;\n",
       "    }\n",
       "</style>\n",
       "<table border=\"1\" class=\"dataframe\">\n",
       "  <thead>\n",
       "    <tr style=\"text-align: right;\">\n",
       "      <th></th>\n",
       "      <th>V1</th>\n",
       "      <th>V2</th>\n",
       "      <th>V3</th>\n",
       "      <th>V4</th>\n",
       "      <th>V5</th>\n",
       "      <th>V6</th>\n",
       "      <th>V7</th>\n",
       "      <th>V8</th>\n",
       "      <th>V9</th>\n",
       "      <th>V10</th>\n",
       "      <th>...</th>\n",
       "      <th>V21</th>\n",
       "      <th>V22</th>\n",
       "      <th>V23</th>\n",
       "      <th>V24</th>\n",
       "      <th>V25</th>\n",
       "      <th>V26</th>\n",
       "      <th>V27</th>\n",
       "      <th>V28</th>\n",
       "      <th>Amount</th>\n",
       "      <th>Class</th>\n",
       "    </tr>\n",
       "  </thead>\n",
       "  <tbody>\n",
       "    <tr>\n",
       "      <th>count</th>\n",
       "      <td>2.848070e+05</td>\n",
       "      <td>2.848070e+05</td>\n",
       "      <td>2.848070e+05</td>\n",
       "      <td>2.848070e+05</td>\n",
       "      <td>2.848070e+05</td>\n",
       "      <td>2.848070e+05</td>\n",
       "      <td>2.848070e+05</td>\n",
       "      <td>2.848070e+05</td>\n",
       "      <td>2.848070e+05</td>\n",
       "      <td>2.848070e+05</td>\n",
       "      <td>...</td>\n",
       "      <td>2.848070e+05</td>\n",
       "      <td>2.848070e+05</td>\n",
       "      <td>2.848070e+05</td>\n",
       "      <td>2.848070e+05</td>\n",
       "      <td>2.848070e+05</td>\n",
       "      <td>2.848070e+05</td>\n",
       "      <td>2.848070e+05</td>\n",
       "      <td>2.848070e+05</td>\n",
       "      <td>284807.000000</td>\n",
       "      <td>284807.000000</td>\n",
       "    </tr>\n",
       "    <tr>\n",
       "      <th>mean</th>\n",
       "      <td>3.919560e-15</td>\n",
       "      <td>5.688174e-16</td>\n",
       "      <td>-8.769071e-15</td>\n",
       "      <td>2.782312e-15</td>\n",
       "      <td>-1.552563e-15</td>\n",
       "      <td>2.010663e-15</td>\n",
       "      <td>-1.694249e-15</td>\n",
       "      <td>-1.927028e-16</td>\n",
       "      <td>-3.137024e-15</td>\n",
       "      <td>1.768627e-15</td>\n",
       "      <td>...</td>\n",
       "      <td>1.537294e-16</td>\n",
       "      <td>7.959909e-16</td>\n",
       "      <td>5.367590e-16</td>\n",
       "      <td>4.458112e-15</td>\n",
       "      <td>1.453003e-15</td>\n",
       "      <td>1.699104e-15</td>\n",
       "      <td>-3.660161e-16</td>\n",
       "      <td>-1.206049e-16</td>\n",
       "      <td>88.349619</td>\n",
       "      <td>0.001727</td>\n",
       "    </tr>\n",
       "    <tr>\n",
       "      <th>std</th>\n",
       "      <td>1.958696e+00</td>\n",
       "      <td>1.651309e+00</td>\n",
       "      <td>1.516255e+00</td>\n",
       "      <td>1.415869e+00</td>\n",
       "      <td>1.380247e+00</td>\n",
       "      <td>1.332271e+00</td>\n",
       "      <td>1.237094e+00</td>\n",
       "      <td>1.194353e+00</td>\n",
       "      <td>1.098632e+00</td>\n",
       "      <td>1.088850e+00</td>\n",
       "      <td>...</td>\n",
       "      <td>7.345240e-01</td>\n",
       "      <td>7.257016e-01</td>\n",
       "      <td>6.244603e-01</td>\n",
       "      <td>6.056471e-01</td>\n",
       "      <td>5.212781e-01</td>\n",
       "      <td>4.822270e-01</td>\n",
       "      <td>4.036325e-01</td>\n",
       "      <td>3.300833e-01</td>\n",
       "      <td>250.120109</td>\n",
       "      <td>0.041527</td>\n",
       "    </tr>\n",
       "    <tr>\n",
       "      <th>min</th>\n",
       "      <td>-5.640751e+01</td>\n",
       "      <td>-7.271573e+01</td>\n",
       "      <td>-4.832559e+01</td>\n",
       "      <td>-5.683171e+00</td>\n",
       "      <td>-1.137433e+02</td>\n",
       "      <td>-2.616051e+01</td>\n",
       "      <td>-4.355724e+01</td>\n",
       "      <td>-7.321672e+01</td>\n",
       "      <td>-1.343407e+01</td>\n",
       "      <td>-2.458826e+01</td>\n",
       "      <td>...</td>\n",
       "      <td>-3.483038e+01</td>\n",
       "      <td>-1.093314e+01</td>\n",
       "      <td>-4.480774e+01</td>\n",
       "      <td>-2.836627e+00</td>\n",
       "      <td>-1.029540e+01</td>\n",
       "      <td>-2.604551e+00</td>\n",
       "      <td>-2.256568e+01</td>\n",
       "      <td>-1.543008e+01</td>\n",
       "      <td>0.000000</td>\n",
       "      <td>0.000000</td>\n",
       "    </tr>\n",
       "    <tr>\n",
       "      <th>25%</th>\n",
       "      <td>-9.203734e-01</td>\n",
       "      <td>-5.985499e-01</td>\n",
       "      <td>-8.903648e-01</td>\n",
       "      <td>-8.486401e-01</td>\n",
       "      <td>-6.915971e-01</td>\n",
       "      <td>-7.682956e-01</td>\n",
       "      <td>-5.540759e-01</td>\n",
       "      <td>-2.086297e-01</td>\n",
       "      <td>-6.430976e-01</td>\n",
       "      <td>-5.354257e-01</td>\n",
       "      <td>...</td>\n",
       "      <td>-2.283949e-01</td>\n",
       "      <td>-5.423504e-01</td>\n",
       "      <td>-1.618463e-01</td>\n",
       "      <td>-3.545861e-01</td>\n",
       "      <td>-3.171451e-01</td>\n",
       "      <td>-3.269839e-01</td>\n",
       "      <td>-7.083953e-02</td>\n",
       "      <td>-5.295979e-02</td>\n",
       "      <td>5.600000</td>\n",
       "      <td>0.000000</td>\n",
       "    </tr>\n",
       "    <tr>\n",
       "      <th>50%</th>\n",
       "      <td>1.810880e-02</td>\n",
       "      <td>6.548556e-02</td>\n",
       "      <td>1.798463e-01</td>\n",
       "      <td>-1.984653e-02</td>\n",
       "      <td>-5.433583e-02</td>\n",
       "      <td>-2.741871e-01</td>\n",
       "      <td>4.010308e-02</td>\n",
       "      <td>2.235804e-02</td>\n",
       "      <td>-5.142873e-02</td>\n",
       "      <td>-9.291738e-02</td>\n",
       "      <td>...</td>\n",
       "      <td>-2.945017e-02</td>\n",
       "      <td>6.781943e-03</td>\n",
       "      <td>-1.119293e-02</td>\n",
       "      <td>4.097606e-02</td>\n",
       "      <td>1.659350e-02</td>\n",
       "      <td>-5.213911e-02</td>\n",
       "      <td>1.342146e-03</td>\n",
       "      <td>1.124383e-02</td>\n",
       "      <td>22.000000</td>\n",
       "      <td>0.000000</td>\n",
       "    </tr>\n",
       "    <tr>\n",
       "      <th>75%</th>\n",
       "      <td>1.315642e+00</td>\n",
       "      <td>8.037239e-01</td>\n",
       "      <td>1.027196e+00</td>\n",
       "      <td>7.433413e-01</td>\n",
       "      <td>6.119264e-01</td>\n",
       "      <td>3.985649e-01</td>\n",
       "      <td>5.704361e-01</td>\n",
       "      <td>3.273459e-01</td>\n",
       "      <td>5.971390e-01</td>\n",
       "      <td>4.539234e-01</td>\n",
       "      <td>...</td>\n",
       "      <td>1.863772e-01</td>\n",
       "      <td>5.285536e-01</td>\n",
       "      <td>1.476421e-01</td>\n",
       "      <td>4.395266e-01</td>\n",
       "      <td>3.507156e-01</td>\n",
       "      <td>2.409522e-01</td>\n",
       "      <td>9.104512e-02</td>\n",
       "      <td>7.827995e-02</td>\n",
       "      <td>77.165000</td>\n",
       "      <td>0.000000</td>\n",
       "    </tr>\n",
       "    <tr>\n",
       "      <th>max</th>\n",
       "      <td>2.454930e+00</td>\n",
       "      <td>2.205773e+01</td>\n",
       "      <td>9.382558e+00</td>\n",
       "      <td>1.687534e+01</td>\n",
       "      <td>3.480167e+01</td>\n",
       "      <td>7.330163e+01</td>\n",
       "      <td>1.205895e+02</td>\n",
       "      <td>2.000721e+01</td>\n",
       "      <td>1.559499e+01</td>\n",
       "      <td>2.374514e+01</td>\n",
       "      <td>...</td>\n",
       "      <td>2.720284e+01</td>\n",
       "      <td>1.050309e+01</td>\n",
       "      <td>2.252841e+01</td>\n",
       "      <td>4.584549e+00</td>\n",
       "      <td>7.519589e+00</td>\n",
       "      <td>3.517346e+00</td>\n",
       "      <td>3.161220e+01</td>\n",
       "      <td>3.384781e+01</td>\n",
       "      <td>25691.160000</td>\n",
       "      <td>1.000000</td>\n",
       "    </tr>\n",
       "  </tbody>\n",
       "</table>\n",
       "<p>8 rows × 30 columns</p>\n",
       "</div>"
      ],
      "text/plain": [
       "                 V1            V2            V3            V4            V5  \\\n",
       "count  2.848070e+05  2.848070e+05  2.848070e+05  2.848070e+05  2.848070e+05   \n",
       "mean   3.919560e-15  5.688174e-16 -8.769071e-15  2.782312e-15 -1.552563e-15   \n",
       "std    1.958696e+00  1.651309e+00  1.516255e+00  1.415869e+00  1.380247e+00   \n",
       "min   -5.640751e+01 -7.271573e+01 -4.832559e+01 -5.683171e+00 -1.137433e+02   \n",
       "25%   -9.203734e-01 -5.985499e-01 -8.903648e-01 -8.486401e-01 -6.915971e-01   \n",
       "50%    1.810880e-02  6.548556e-02  1.798463e-01 -1.984653e-02 -5.433583e-02   \n",
       "75%    1.315642e+00  8.037239e-01  1.027196e+00  7.433413e-01  6.119264e-01   \n",
       "max    2.454930e+00  2.205773e+01  9.382558e+00  1.687534e+01  3.480167e+01   \n",
       "\n",
       "                 V6            V7            V8            V9           V10  \\\n",
       "count  2.848070e+05  2.848070e+05  2.848070e+05  2.848070e+05  2.848070e+05   \n",
       "mean   2.010663e-15 -1.694249e-15 -1.927028e-16 -3.137024e-15  1.768627e-15   \n",
       "std    1.332271e+00  1.237094e+00  1.194353e+00  1.098632e+00  1.088850e+00   \n",
       "min   -2.616051e+01 -4.355724e+01 -7.321672e+01 -1.343407e+01 -2.458826e+01   \n",
       "25%   -7.682956e-01 -5.540759e-01 -2.086297e-01 -6.430976e-01 -5.354257e-01   \n",
       "50%   -2.741871e-01  4.010308e-02  2.235804e-02 -5.142873e-02 -9.291738e-02   \n",
       "75%    3.985649e-01  5.704361e-01  3.273459e-01  5.971390e-01  4.539234e-01   \n",
       "max    7.330163e+01  1.205895e+02  2.000721e+01  1.559499e+01  2.374514e+01   \n",
       "\n",
       "           ...                 V21           V22           V23           V24  \\\n",
       "count      ...        2.848070e+05  2.848070e+05  2.848070e+05  2.848070e+05   \n",
       "mean       ...        1.537294e-16  7.959909e-16  5.367590e-16  4.458112e-15   \n",
       "std        ...        7.345240e-01  7.257016e-01  6.244603e-01  6.056471e-01   \n",
       "min        ...       -3.483038e+01 -1.093314e+01 -4.480774e+01 -2.836627e+00   \n",
       "25%        ...       -2.283949e-01 -5.423504e-01 -1.618463e-01 -3.545861e-01   \n",
       "50%        ...       -2.945017e-02  6.781943e-03 -1.119293e-02  4.097606e-02   \n",
       "75%        ...        1.863772e-01  5.285536e-01  1.476421e-01  4.395266e-01   \n",
       "max        ...        2.720284e+01  1.050309e+01  2.252841e+01  4.584549e+00   \n",
       "\n",
       "                V25           V26           V27           V28         Amount  \\\n",
       "count  2.848070e+05  2.848070e+05  2.848070e+05  2.848070e+05  284807.000000   \n",
       "mean   1.453003e-15  1.699104e-15 -3.660161e-16 -1.206049e-16      88.349619   \n",
       "std    5.212781e-01  4.822270e-01  4.036325e-01  3.300833e-01     250.120109   \n",
       "min   -1.029540e+01 -2.604551e+00 -2.256568e+01 -1.543008e+01       0.000000   \n",
       "25%   -3.171451e-01 -3.269839e-01 -7.083953e-02 -5.295979e-02       5.600000   \n",
       "50%    1.659350e-02 -5.213911e-02  1.342146e-03  1.124383e-02      22.000000   \n",
       "75%    3.507156e-01  2.409522e-01  9.104512e-02  7.827995e-02      77.165000   \n",
       "max    7.519589e+00  3.517346e+00  3.161220e+01  3.384781e+01   25691.160000   \n",
       "\n",
       "               Class  \n",
       "count  284807.000000  \n",
       "mean        0.001727  \n",
       "std         0.041527  \n",
       "min         0.000000  \n",
       "25%         0.000000  \n",
       "50%         0.000000  \n",
       "75%         0.000000  \n",
       "max         1.000000  \n",
       "\n",
       "[8 rows x 30 columns]"
      ]
     },
     "execution_count": 7,
     "metadata": {},
     "output_type": "execute_result"
    }
   ],
   "source": [
    "Credit = Credit.drop(['Time'],axis=1)\n",
    "Credit.describe()"
   ]
  },
  {
   "cell_type": "code",
   "execution_count": 8,
   "metadata": {},
   "outputs": [
    {
     "data": {
      "image/png": "[encoded data removed]",
      "text/plain": [
       "<matplotlib.figure.Figure at 0x118d218d0>"
      ]
     },
     "metadata": {},
     "output_type": "display_data"
    }
   ],
   "source": [
    "import matplotlib.pyplot as plt\n",
    "count_classes = pd.value_counts(Credit['Class'], sort = True).sort_index()\n",
    "count_classes.plot(kind = 'bar')\n",
    "plt.title(\"Fraud Class Histogram\")\n",
    "plt.xlabel(\"Class\")\n",
    "plt.ylabel(\"Frequency\")\n",
    "plt.show()"
   ]
  },
  {
   "cell_type": "code",
   "execution_count": 9,
   "metadata": {
    "collapsed": true
   },
   "outputs": [],
   "source": [
    "# Test-train Split with Stratification\n",
    "from sklearn.model_selection import train_test_split\n",
    "\n",
    "X = Credit.iloc[:, Credit.columns != 'Class']  \n",
    "y = Credit.iloc[:, Credit.columns == 'Class']\n",
    "X_train_total, X_test, y_train_total, y_test = train_test_split(X,y,test_size = 0.25, stratify=y,\n",
    "                                                    random_state = 0)\n",
    "\n",
    "y_true = y_test.Class.values.ravel()"
   ]
  },
  {
   "cell_type": "code",
   "execution_count": 10,
   "metadata": {},
   "outputs": [
    {
     "data": {
      "text/plain": [
       "0    0.998273\n",
       "1    0.001727\n",
       "Name: Class, dtype: float64"
      ]
     },
     "execution_count": 10,
     "metadata": {},
     "output_type": "execute_result"
    }
   ],
   "source": [
    "y_test.Class.value_counts(normalize=True)"
   ]
  },
  {
   "cell_type": "code",
   "execution_count": 11,
   "metadata": {},
   "outputs": [
    {
     "data": {
      "text/plain": [
       "369"
      ]
     },
     "execution_count": 11,
     "metadata": {},
     "output_type": "execute_result"
    }
   ],
   "source": [
    "number_records_fraud_train = len(y_train_total[y_train_total.Class == 1])\n",
    "fraud_indices_train = np.array(y_train_total[y_train_total.Class == 1].index)\n",
    "number_records_fraud_train"
   ]
  },
  {
   "cell_type": "code",
   "execution_count": 12,
   "metadata": {
    "collapsed": true
   },
   "outputs": [],
   "source": [
    "# Undersample the Non-frauds in Training\n",
    "def Under_sample(Num_samples):\n",
    "    \n",
    "    # Picking the indices of the normal classes\n",
    "    normal_indices_train = y_train_total[y_train_total.Class == 0].index\n",
    "    \n",
    "    train_indices_list = []\n",
    "    \n",
    "    for i in range(Num_samples):\n",
    "        # Randomly select number_records_fraud from non-frauds\n",
    "        random_normal_indices = np.random.choice(normal_indices_train, number_records_fraud_train,\n",
    "                                                 replace = False)\n",
    "        \n",
    "        # Append the fraud with non-fraud indices\n",
    "        under_sample_indices = np.concatenate([fraud_indices_train,random_normal_indices])\n",
    "        train_indices_list.append(under_sample_indices)\n",
    "        \n",
    "    return(train_indices_list)"
   ]
  },
  {
   "cell_type": "code",
   "execution_count": 13,
   "metadata": {
    "collapsed": true
   },
   "outputs": [],
   "source": [
    "from sklearn.model_selection import train_test_split\n",
    "from sklearn.linear_model import LogisticRegression\n",
    "from sklearn.model_selection import KFold, cross_val_score\n",
    "from sklearn.metrics import confusion_matrix,precision_recall_curve,auc,roc_auc_score,roc_curve,recall_score,precision_score,classification_report\n",
    "import matplotlib.pyplot as plt"
   ]
  },
  {
   "cell_type": "code",
   "execution_count": 14,
   "metadata": {
    "collapsed": true
   },
   "outputs": [],
   "source": [
    "#Cross=validation \n",
    "\n",
    "def cv_score(clf, x, y):\n",
    "    result = 0\n",
    "    nfold = 5\n",
    "    i = 0\n",
    "    # split data into 5 train/val groups with shuffle\n",
    "    for train, val in KFold(nfold, shuffle=True).split(x): \n",
    "        i += 1\n",
    "        \n",
    "        clf.fit(x.iloc[train,:], y.iloc[train,:].values.ravel()) # fit\n",
    "        y_pred = clf.predict(x.iloc[val,:]) #predict\n",
    "        \n",
    "        #print(\"Recall Score:\", recall_score(y.iloc[test,:].values.ravel(), y_pred), \"for Fold \", i)\n",
    "        result += recall_score(y.iloc[val,:].values.ravel(), y_pred) # evaluate recall score on held-out data    \n",
    "    return result / nfold # average"
   ]
  },
  {
   "cell_type": "code",
   "execution_count": 15,
   "metadata": {
    "collapsed": true
   },
   "outputs": [],
   "source": [
    "#Logistic Regression to obtain the best regularization parameter\n",
    "\n",
    "def logistic_regression(X, y):\n",
    "    '''\n",
    "    Train Logistic Regression with various C's based on cross-validaion\n",
    "    '''\n",
    "    \n",
    "    Cs = [0.01, 0.1, 1, 10, 100]  #candidates for regularization parameter\n",
    "    max_score = 0\n",
    "    C_max = 0\n",
    "    \n",
    "    for c in Cs:\n",
    "        #print(\"C = \", c)\n",
    "        clf_c = LogisticRegression(C=c)\n",
    "        score_c = cv_score(clf_c, X, y)  #run cross-validation\n",
    "        #print(\"Average Recall Score:\", score_c)\n",
    "        #print(\"---------------------------------------------------\")\n",
    "        if score_c > max_score:\n",
    "            max_score = score_c\n",
    "            C_max = c\n",
    "            \n",
    "    #print(\"Best C parameter:\", C_max, \", \", \"Maximum Recall Score:\", max_score)  \n",
    "    #Recall.append(max_score)    \n",
    "    #Best_C.append(C_max)\n",
    "    return max_score, C_max\n"
   ]
  },
  {
   "cell_type": "code",
   "execution_count": 16,
   "metadata": {
    "collapsed": true
   },
   "outputs": [],
   "source": [
    "import itertools\n",
    "\n",
    "def plot_confusion_matrix(cm, classes,\n",
    "                          normalize=False,\n",
    "                          title='Confusion matrix',\n",
    "                          cmap=plt.cm.Blues):\n",
    "    '''\n",
    "    Prints and plots the confusion matrix.\n",
    "    Normalization can be applied by setting `normalize=True`.\n",
    "    '''\n",
    "    plt.figure(figsize=(8,8))\n",
    "    plt.imshow(cm, interpolation='nearest', cmap=cmap)\n",
    "    plt.title(title)\n",
    "    plt.colorbar()\n",
    "    tick_marks = np.arange(len(classes))\n",
    "    plt.xticks(tick_marks, classes, rotation=0)\n",
    "    plt.yticks(tick_marks, classes)\n",
    "\n",
    "    if normalize:\n",
    "        cm = cm.astype('float') / cm.sum(axis=1)[:, np.newaxis]\n",
    "        #print(\"Normalized confusion matrix\")\n",
    "    else:\n",
    "        1#print('Confusion matrix, without normalization')\n",
    "\n",
    "    #print(cm)\n",
    "\n",
    "    thresh = cm.max() / 2.\n",
    "    for i, j in itertools.product(range(cm.shape[0]), range(cm.shape[1])):\n",
    "        plt.text(j, i, cm[i, j],\n",
    "                 horizontalalignment=\"center\",\n",
    "                 color=\"white\" if cm[i, j] > thresh else \"black\")\n",
    "\n",
    "    plt.tight_layout()\n",
    "    plt.ylabel('True label')\n",
    "    plt.xlabel('Predicted label')"
   ]
  },
  {
   "cell_type": "code",
   "execution_count": 17,
   "metadata": {
    "collapsed": true
   },
   "outputs": [],
   "source": [
    "#train_indices to train instances\n",
    "\n",
    "#once train instances are available, it's time to train classifer, i.e. run cv function\n",
    "\n",
    "Num_of_samples = 20\n",
    "\n",
    "Training_indices = Under_sample(Num_of_samples)\n",
    "\n",
    "Recall = []\n",
    "Best_C = []\n",
    "\n",
    "for indices in Training_indices:\n",
    "    #1st: obtain each under-sampled training set using train indices\n",
    "    X_train_undersample = X_train_total.loc[indices, :]\n",
    "    y_train_undersample = y_train_total.loc[indices, :]\n",
    "    \n",
    "    #2nd: train a classifier for the current under-sampled training set by cross-validation\n",
    "    '''\n",
    "    #Logistic Regression\n",
    "    Cs = [0.01, 0.1, 1, 10, 100]  #candidates for regularization parameter\n",
    "    max_score = 0\n",
    "    C_max = 0\n",
    "    \n",
    "    for c in Cs:\n",
    "        #print(\"C = \", c)\n",
    "        clf_c = LogisticRegression(C=c)\n",
    "        score_c = cv_score(clf_c, X_train_undersample, y_train_undersample)\n",
    "        #print(\"Average Recall Score:\", score_c)\n",
    "        #print(\"---------------------------------------------------\")\n",
    "        if score_c > max_score:\n",
    "            max_score = score_c\n",
    "            C_max = c\n",
    "            \n",
    "    #print(\"Best C parameter:\", C_max, \", \", \"Maximum Recall Score:\", max_score)  \n",
    "    '''\n",
    "    \n",
    "    max_score, C_max = logistic_regression(X_train_undersample, y_train_undersample)\n",
    "    Recall.append(max_score)    \n",
    "    Best_C.append(C_max)"
   ]
  },
  {
   "cell_type": "code",
   "execution_count": 18,
   "metadata": {},
   "outputs": [
    {
     "data": {
      "text/plain": [
       "[0.92217521950652281,\n",
       " 0.92246435368970592,\n",
       " 0.91839371155160632,\n",
       " 0.92474136957432074,\n",
       " 0.92801824657305365,\n",
       " 0.91192487497282015,\n",
       " 0.9205651173561622,\n",
       " 0.92907818379804186,\n",
       " 0.93063531108189479,\n",
       " 0.92610934744268081,\n",
       " 0.91859960617932634,\n",
       " 0.94084848484848482,\n",
       " 0.9245183210983321,\n",
       " 0.92184195569913707,\n",
       " 0.92654140180481159,\n",
       " 0.92503650979978114,\n",
       " 0.9267403440107117,\n",
       " 0.90812165136535195,\n",
       " 0.92267376989207972,\n",
       " 0.92902480402480414]"
      ]
     },
     "execution_count": 18,
     "metadata": {},
     "output_type": "execute_result"
    }
   ],
   "source": [
    "Recall"
   ]
  },
  {
   "cell_type": "code",
   "execution_count": 19,
   "metadata": {},
   "outputs": [
    {
     "data": {
      "image/png": "[encoded data removed]",
      "text/plain": [
       "<matplotlib.figure.Figure at 0x11916b208>"
      ]
     },
     "metadata": {},
     "output_type": "display_data"
    }
   ],
   "source": [
    "plt.figure(figsize=(9, 9))\n",
    "plt.plot(Recall)\n",
    "plt.title(\"Average Recall Score for Each Sample\")\n",
    "plt.ylim(0.8,1)\n",
    "#plt.xlim(1, 20)\n",
    "plt.xlim(1, Num_of_samples)\n",
    "plt.xticks(range(0, Num_of_samples+1))\n",
    "plt.ylabel(\"Recall\")\n",
    "plt.xlabel(\"Sample ID\")\n",
    "plt.show()"
   ]
  },
  {
   "cell_type": "code",
   "execution_count": 20,
   "metadata": {
    "collapsed": true
   },
   "outputs": [],
   "source": [
    "# Fit each classifer on each undersampled training set with the associated best C\n",
    "\n",
    "Y_pred_list=[]\n",
    "\n",
    "for i in range(Num_of_samples):\n",
    "    X_train_undersample = X_train_total.loc[Training_indices[i], :]\n",
    "    y_train_undersample = y_train_total.loc[Training_indices[i], :]\n",
    "    \n",
    "    clf_best_c = LogisticRegression(C = Best_C[i])\n",
    "    clf_best_c.fit(X_train_undersample, y_train_undersample.values.ravel()) # fit\n",
    "    y_pred = clf_best_c.predict(X_test) #predict\n",
    "    Y_pred_list.append(y_pred) #append to the list of predictions"
   ]
  },
  {
   "cell_type": "code",
   "execution_count": 21,
   "metadata": {},
   "outputs": [
    {
     "data": {
      "text/plain": [
       "array([63033,  2308,  1022,   641,   464,   373,   316,   308,   234,\n",
       "         220,   213,   182,   162,   146,   143,   129,   113,   163,\n",
       "         177,   217,   638])"
      ]
     },
     "execution_count": 21,
     "metadata": {},
     "output_type": "execute_result"
    }
   ],
   "source": [
    "Pred_all_array = np.asarray(Y_pred_list)\n",
    "P_total = np.sum(Pred_all_array, axis=0)\n",
    "np.bincount(P_total)"
   ]
  },
  {
   "cell_type": "code",
   "execution_count": 22,
   "metadata": {},
   "outputs": [],
   "source": [
    "# Produce the final predict from the list of predictions \n",
    "    \n",
    "Pred_final = np.where(P_total<10, 0, 1)"
   ]
  },
  {
   "cell_type": "code",
   "execution_count": 23,
   "metadata": {},
   "outputs": [
    {
     "name": "stdout",
     "output_type": "stream",
     "text": [
      "Recall metric in the testing dataset:  0.90243902439\n",
      "Precision Score in the testing dataset:  0.0486202365309\n"
     ]
    },
    {
     "data": {
      "text/plain": [
       "<matplotlib.figure.Figure at 0x11772ef60>"
      ]
     },
     "metadata": {},
     "output_type": "display_data"
    },
    {
     "data": {
      "image/png": "[encoded data removed]",
      "text/plain": [
       "<matplotlib.figure.Figure at 0x11772efd0>"
      ]
     },
     "metadata": {},
     "output_type": "display_data"
    }
   ],
   "source": [
    "# Compute confusion matrix\n",
    "cnf_matrix = confusion_matrix(y_true, Pred_final)\n",
    "np.set_printoptions(precision=2)\n",
    "\n",
    "print(\"Recall metric in the testing dataset: \", cnf_matrix[1,1]/(cnf_matrix[1,0]+cnf_matrix[1,1]))\n",
    "print(\"Precision Score in the testing dataset: \", cnf_matrix[1,1]/(cnf_matrix[0,1]+cnf_matrix[1,1]))\n",
    "\n",
    "# Plot non-normalized confusion matrix\n",
    "class_names = [0,1]\n",
    "plt.figure()\n",
    "plot_confusion_matrix(cnf_matrix, classes=class_names, title='Confusion Matrix for Undersampled + 20 Logistic Regressions')\n",
    "plt.show()"
   ]
  },
  {
   "cell_type": "markdown",
   "metadata": {
    "collapsed": true
   },
   "source": [
    "# Over-sampling"
   ]
  },
  {
   "cell_type": "code",
   "execution_count": 24,
   "metadata": {
    "collapsed": true
   },
   "outputs": [],
   "source": [
    "from imblearn.over_sampling import RandomOverSampler\n",
    "from imblearn.over_sampling import SMOTE, ADASYN"
   ]
  },
  {
   "cell_type": "code",
   "execution_count": 25,
   "metadata": {
    "collapsed": true
   },
   "outputs": [],
   "source": [
    "#Naive random over-sampling\n",
    "\n",
    "Random_Over_Sample = RandomOverSampler(random_state=0)\n",
    "X_resampled_train, y_resampled_train = Random_Over_Sample.fit_sample(X_train_total, \n",
    "                                                         y_train_total.values.ravel())"
   ]
  },
  {
   "cell_type": "code",
   "execution_count": 27,
   "metadata": {},
   "outputs": [
    {
     "name": "stdout",
     "output_type": "stream",
     "text": [
      "[(0, 213236), (1, 213236)]\n"
     ]
    }
   ],
   "source": [
    "from collections import Counter\n",
    "print(sorted(Counter(y_resampled_train).items()))"
   ]
  },
  {
   "cell_type": "code",
   "execution_count": 28,
   "metadata": {
    "collapsed": true
   },
   "outputs": [],
   "source": [
    "X_resampled_train_df = pd.DataFrame(X_resampled_train, columns=X_train_total.columns)"
   ]
  },
  {
   "cell_type": "code",
   "execution_count": 29,
   "metadata": {
    "scrolled": true
   },
   "outputs": [
    {
     "data": {
      "text/html": [
       "<div>\n",
       "<style>\n",
       "    .dataframe thead tr:only-child th {\n",
       "        text-align: right;\n",
       "    }\n",
       "\n",
       "    .dataframe thead th {\n",
       "        text-align: left;\n",
       "    }\n",
       "\n",
       "    .dataframe tbody tr th {\n",
       "        vertical-align: top;\n",
       "    }\n",
       "</style>\n",
       "<table border=\"1\" class=\"dataframe\">\n",
       "  <thead>\n",
       "    <tr style=\"text-align: right;\">\n",
       "      <th></th>\n",
       "      <th>V1</th>\n",
       "      <th>V2</th>\n",
       "      <th>V3</th>\n",
       "      <th>V4</th>\n",
       "      <th>V5</th>\n",
       "      <th>V6</th>\n",
       "      <th>V7</th>\n",
       "      <th>V8</th>\n",
       "      <th>V9</th>\n",
       "      <th>V10</th>\n",
       "      <th>...</th>\n",
       "      <th>V20</th>\n",
       "      <th>V21</th>\n",
       "      <th>V22</th>\n",
       "      <th>V23</th>\n",
       "      <th>V24</th>\n",
       "      <th>V25</th>\n",
       "      <th>V26</th>\n",
       "      <th>V27</th>\n",
       "      <th>V28</th>\n",
       "      <th>Amount</th>\n",
       "    </tr>\n",
       "  </thead>\n",
       "  <tbody>\n",
       "    <tr>\n",
       "      <th>0</th>\n",
       "      <td>-3.347914</td>\n",
       "      <td>-3.361473</td>\n",
       "      <td>1.544786</td>\n",
       "      <td>1.762811</td>\n",
       "      <td>2.669098</td>\n",
       "      <td>-1.163306</td>\n",
       "      <td>-0.894963</td>\n",
       "      <td>0.442753</td>\n",
       "      <td>-0.319186</td>\n",
       "      <td>-0.313276</td>\n",
       "      <td>...</td>\n",
       "      <td>1.537452</td>\n",
       "      <td>0.233390</td>\n",
       "      <td>-0.723999</td>\n",
       "      <td>0.944597</td>\n",
       "      <td>-0.594740</td>\n",
       "      <td>0.680832</td>\n",
       "      <td>-0.363141</td>\n",
       "      <td>-0.129965</td>\n",
       "      <td>0.149183</td>\n",
       "      <td>287.28</td>\n",
       "    </tr>\n",
       "    <tr>\n",
       "      <th>1</th>\n",
       "      <td>-2.709431</td>\n",
       "      <td>-0.357075</td>\n",
       "      <td>0.764383</td>\n",
       "      <td>0.077630</td>\n",
       "      <td>-0.103980</td>\n",
       "      <td>-0.374977</td>\n",
       "      <td>-0.816368</td>\n",
       "      <td>0.791849</td>\n",
       "      <td>0.260995</td>\n",
       "      <td>-0.991852</td>\n",
       "      <td>...</td>\n",
       "      <td>-0.398313</td>\n",
       "      <td>0.069553</td>\n",
       "      <td>-0.026616</td>\n",
       "      <td>-0.828865</td>\n",
       "      <td>-0.316275</td>\n",
       "      <td>-0.500448</td>\n",
       "      <td>0.084505</td>\n",
       "      <td>-0.285052</td>\n",
       "      <td>-0.328693</td>\n",
       "      <td>15.95</td>\n",
       "    </tr>\n",
       "    <tr>\n",
       "      <th>2</th>\n",
       "      <td>-1.043819</td>\n",
       "      <td>-0.296518</td>\n",
       "      <td>0.306696</td>\n",
       "      <td>-2.191146</td>\n",
       "      <td>1.281874</td>\n",
       "      <td>-0.340129</td>\n",
       "      <td>1.069963</td>\n",
       "      <td>0.032010</td>\n",
       "      <td>0.094097</td>\n",
       "      <td>-1.556875</td>\n",
       "      <td>...</td>\n",
       "      <td>0.331988</td>\n",
       "      <td>-0.125172</td>\n",
       "      <td>-0.751551</td>\n",
       "      <td>0.258923</td>\n",
       "      <td>-1.210583</td>\n",
       "      <td>0.008129</td>\n",
       "      <td>-1.144667</td>\n",
       "      <td>0.080121</td>\n",
       "      <td>0.137747</td>\n",
       "      <td>136.38</td>\n",
       "    </tr>\n",
       "    <tr>\n",
       "      <th>3</th>\n",
       "      <td>-1.799744</td>\n",
       "      <td>-2.285001</td>\n",
       "      <td>-0.523871</td>\n",
       "      <td>-1.267247</td>\n",
       "      <td>1.618784</td>\n",
       "      <td>-0.791609</td>\n",
       "      <td>-1.090698</td>\n",
       "      <td>0.516999</td>\n",
       "      <td>-0.665132</td>\n",
       "      <td>-0.318559</td>\n",
       "      <td>...</td>\n",
       "      <td>0.706115</td>\n",
       "      <td>0.674089</td>\n",
       "      <td>1.182007</td>\n",
       "      <td>-0.509206</td>\n",
       "      <td>-0.183312</td>\n",
       "      <td>0.930281</td>\n",
       "      <td>0.308974</td>\n",
       "      <td>-0.121150</td>\n",
       "      <td>-0.455961</td>\n",
       "      <td>52.00</td>\n",
       "    </tr>\n",
       "    <tr>\n",
       "      <th>4</th>\n",
       "      <td>1.998482</td>\n",
       "      <td>-0.249065</td>\n",
       "      <td>-1.253748</td>\n",
       "      <td>0.224398</td>\n",
       "      <td>0.041799</td>\n",
       "      <td>-0.589313</td>\n",
       "      <td>0.026386</td>\n",
       "      <td>-0.092081</td>\n",
       "      <td>0.437735</td>\n",
       "      <td>0.250426</td>\n",
       "      <td>...</td>\n",
       "      <td>-0.221096</td>\n",
       "      <td>-0.255588</td>\n",
       "      <td>-0.718920</td>\n",
       "      <td>0.277660</td>\n",
       "      <td>-0.488993</td>\n",
       "      <td>-0.327426</td>\n",
       "      <td>0.209093</td>\n",
       "      <td>-0.081484</td>\n",
       "      <td>-0.073040</td>\n",
       "      <td>22.24</td>\n",
       "    </tr>\n",
       "  </tbody>\n",
       "</table>\n",
       "<p>5 rows × 29 columns</p>\n",
       "</div>"
      ],
      "text/plain": [
       "         V1        V2        V3        V4        V5        V6        V7  \\\n",
       "0 -3.347914 -3.361473  1.544786  1.762811  2.669098 -1.163306 -0.894963   \n",
       "1 -2.709431 -0.357075  0.764383  0.077630 -0.103980 -0.374977 -0.816368   \n",
       "2 -1.043819 -0.296518  0.306696 -2.191146  1.281874 -0.340129  1.069963   \n",
       "3 -1.799744 -2.285001 -0.523871 -1.267247  1.618784 -0.791609 -1.090698   \n",
       "4  1.998482 -0.249065 -1.253748  0.224398  0.041799 -0.589313  0.026386   \n",
       "\n",
       "         V8        V9       V10   ...         V20       V21       V22  \\\n",
       "0  0.442753 -0.319186 -0.313276   ...    1.537452  0.233390 -0.723999   \n",
       "1  0.791849  0.260995 -0.991852   ...   -0.398313  0.069553 -0.026616   \n",
       "2  0.032010  0.094097 -1.556875   ...    0.331988 -0.125172 -0.751551   \n",
       "3  0.516999 -0.665132 -0.318559   ...    0.706115  0.674089  1.182007   \n",
       "4 -0.092081  0.437735  0.250426   ...   -0.221096 -0.255588 -0.718920   \n",
       "\n",
       "        V23       V24       V25       V26       V27       V28  Amount  \n",
       "0  0.944597 -0.594740  0.680832 -0.363141 -0.129965  0.149183  287.28  \n",
       "1 -0.828865 -0.316275 -0.500448  0.084505 -0.285052 -0.328693   15.95  \n",
       "2  0.258923 -1.210583  0.008129 -1.144667  0.080121  0.137747  136.38  \n",
       "3 -0.509206 -0.183312  0.930281  0.308974 -0.121150 -0.455961   52.00  \n",
       "4  0.277660 -0.488993 -0.327426  0.209093 -0.081484 -0.073040   22.24  \n",
       "\n",
       "[5 rows x 29 columns]"
      ]
     },
     "execution_count": 29,
     "metadata": {},
     "output_type": "execute_result"
    }
   ],
   "source": [
    "X_resampled_train_df.head()"
   ]
  },
  {
   "cell_type": "code",
   "execution_count": 30,
   "metadata": {
    "collapsed": true
   },
   "outputs": [],
   "source": [
    "y_resampled_train_df = pd.DataFrame(y_resampled_train, columns=y_train_total.columns)"
   ]
  },
  {
   "cell_type": "code",
   "execution_count": 31,
   "metadata": {},
   "outputs": [
    {
     "data": {
      "text/html": [
       "<div>\n",
       "<style>\n",
       "    .dataframe thead tr:only-child th {\n",
       "        text-align: right;\n",
       "    }\n",
       "\n",
       "    .dataframe thead th {\n",
       "        text-align: left;\n",
       "    }\n",
       "\n",
       "    .dataframe tbody tr th {\n",
       "        vertical-align: top;\n",
       "    }\n",
       "</style>\n",
       "<table border=\"1\" class=\"dataframe\">\n",
       "  <thead>\n",
       "    <tr style=\"text-align: right;\">\n",
       "      <th></th>\n",
       "      <th>Class</th>\n",
       "    </tr>\n",
       "  </thead>\n",
       "  <tbody>\n",
       "    <tr>\n",
       "      <th>0</th>\n",
       "      <td>0</td>\n",
       "    </tr>\n",
       "    <tr>\n",
       "      <th>1</th>\n",
       "      <td>0</td>\n",
       "    </tr>\n",
       "    <tr>\n",
       "      <th>2</th>\n",
       "      <td>0</td>\n",
       "    </tr>\n",
       "    <tr>\n",
       "      <th>3</th>\n",
       "      <td>0</td>\n",
       "    </tr>\n",
       "    <tr>\n",
       "      <th>4</th>\n",
       "      <td>0</td>\n",
       "    </tr>\n",
       "  </tbody>\n",
       "</table>\n",
       "</div>"
      ],
      "text/plain": [
       "   Class\n",
       "0      0\n",
       "1      0\n",
       "2      0\n",
       "3      0\n",
       "4      0"
      ]
     },
     "execution_count": 31,
     "metadata": {},
     "output_type": "execute_result"
    }
   ],
   "source": [
    "y_resampled_train_df.head()"
   ]
  },
  {
   "cell_type": "code",
   "execution_count": 32,
   "metadata": {},
   "outputs": [
    {
     "name": "stdout",
     "output_type": "stream",
     "text": [
      "Best C parameter: 0.1 ,  Maximum Recall Score: 0.925595125117\n"
     ]
    }
   ],
   "source": [
    "# Train a logistic regression on the randomly over-sampled training set\n",
    "\n",
    "Cs = [0.01, 0.1, 1, 10, 100]  #candidates for regularization parameter\n",
    "max_score = 0\n",
    "C_max = 0\n",
    "    \n",
    "for c in Cs:\n",
    "    clf_c = LogisticRegression(C=c)\n",
    "    score_c = cv_score(clf_c, X_resampled_train_df, y_resampled_train_df)\n",
    "    if score_c > max_score:\n",
    "        max_score = score_c\n",
    "        C_max = c\n",
    "            \n",
    "print(\"Best C parameter:\", C_max, \", \", \"Maximum Recall Score:\", max_score)  "
   ]
  },
  {
   "cell_type": "code",
   "execution_count": 33,
   "metadata": {
    "collapsed": true
   },
   "outputs": [],
   "source": [
    "# Train a logistic regression on the new randomly over-sampled training set\n",
    "max_score, C_max = logistic_regression(X_resampled_train_df, y_resampled_train_df)"
   ]
  },
  {
   "cell_type": "code",
   "execution_count": 34,
   "metadata": {
    "collapsed": true
   },
   "outputs": [],
   "source": [
    "# Evaluate the classifer on test data\n",
    "clf_best_c = LogisticRegression(C=C_max)\n",
    "clf_best_c.fit(X_resampled_train_df, y_resampled_train_df.values.ravel())\n",
    "y_pred_RanOverSample = clf_best_c.predict(X_test)"
   ]
  },
  {
   "cell_type": "code",
   "execution_count": 35,
   "metadata": {},
   "outputs": [
    {
     "data": {
      "text/plain": [
       "0.90243902439024393"
      ]
     },
     "execution_count": 35,
     "metadata": {},
     "output_type": "execute_result"
    }
   ],
   "source": [
    "recall_score(y_true, y_pred_RanOverSample)"
   ]
  },
  {
   "cell_type": "code",
   "execution_count": 36,
   "metadata": {},
   "outputs": [
    {
     "data": {
      "text/plain": [
       "0.065719360568383664"
      ]
     },
     "execution_count": 36,
     "metadata": {},
     "output_type": "execute_result"
    }
   ],
   "source": [
    "precision_score(y_true, y_pred_RanOverSample)"
   ]
  },
  {
   "cell_type": "code",
   "execution_count": 37,
   "metadata": {},
   "outputs": [
    {
     "name": "stdout",
     "output_type": "stream",
     "text": [
      "Recall Score in the testing dataset:  0.90243902439\n",
      "Precision Score in the testing dataset:  0.0657193605684\n"
     ]
    },
    {
     "data": {
      "text/plain": [
       "<matplotlib.figure.Figure at 0x11a156400>"
      ]
     },
     "metadata": {},
     "output_type": "display_data"
    },
    {
     "data": {
      "image/png": "[encoded data removed]",
      "text/plain": [
       "<matplotlib.figure.Figure at 0x11d7e1c88>"
      ]
     },
     "metadata": {},
     "output_type": "display_data"
    }
   ],
   "source": [
    "# Compute confusion matrix\n",
    "cnf_matrix = confusion_matrix(y_true, y_pred_RanOverSample)\n",
    "np.set_printoptions(precision=2)\n",
    "\n",
    "print(\"Recall Score in the testing dataset: \", cnf_matrix[1,1]/(cnf_matrix[1,0]+cnf_matrix[1,1]))\n",
    "print(\"Precision Score in the testing dataset: \", cnf_matrix[1,1]/(cnf_matrix[0,1]+cnf_matrix[1,1]))\n",
    "\n",
    "# Plot non-normalized confusion matrix\n",
    "class_names = [0,1]\n",
    "plt.figure()\n",
    "plot_confusion_matrix(cnf_matrix, classes=class_names, title='Confusion Matrix for Random Oversample + Logistic Regression')\n",
    "plt.show()"
   ]
  },
  {
   "cell_type": "code",
   "execution_count": null,
   "metadata": {
    "collapsed": true
   },
   "outputs": [],
   "source": []
  },
  {
   "cell_type": "code",
   "execution_count": 38,
   "metadata": {
    "collapsed": true
   },
   "outputs": [],
   "source": [
    "#Synthetic Minority Oversampling Technique (SMOTE)\n",
    "\n",
    "X_SMOTE_train, y_SMOTE_train = SMOTE().fit_sample(X_train_total,\n",
    "                                              y_train_total.values.ravel())\n"
   ]
  },
  {
   "cell_type": "code",
   "execution_count": 39,
   "metadata": {},
   "outputs": [
    {
     "name": "stdout",
     "output_type": "stream",
     "text": [
      "[(0, 213236), (1, 213236)]\n"
     ]
    }
   ],
   "source": [
    "print(sorted(Counter(y_SMOTE_train).items()))"
   ]
  },
  {
   "cell_type": "code",
   "execution_count": 40,
   "metadata": {
    "collapsed": true
   },
   "outputs": [],
   "source": [
    "X_SMOTE_train_df = pd.DataFrame(X_SMOTE_train, columns=X_train_total.columns)"
   ]
  },
  {
   "cell_type": "code",
   "execution_count": 41,
   "metadata": {},
   "outputs": [
    {
     "data": {
      "text/html": [
       "<div>\n",
       "<style>\n",
       "    .dataframe thead tr:only-child th {\n",
       "        text-align: right;\n",
       "    }\n",
       "\n",
       "    .dataframe thead th {\n",
       "        text-align: left;\n",
       "    }\n",
       "\n",
       "    .dataframe tbody tr th {\n",
       "        vertical-align: top;\n",
       "    }\n",
       "</style>\n",
       "<table border=\"1\" class=\"dataframe\">\n",
       "  <thead>\n",
       "    <tr style=\"text-align: right;\">\n",
       "      <th></th>\n",
       "      <th>V1</th>\n",
       "      <th>V2</th>\n",
       "      <th>V3</th>\n",
       "      <th>V4</th>\n",
       "      <th>V5</th>\n",
       "      <th>V6</th>\n",
       "      <th>V7</th>\n",
       "      <th>V8</th>\n",
       "      <th>V9</th>\n",
       "      <th>V10</th>\n",
       "      <th>...</th>\n",
       "      <th>V20</th>\n",
       "      <th>V21</th>\n",
       "      <th>V22</th>\n",
       "      <th>V23</th>\n",
       "      <th>V24</th>\n",
       "      <th>V25</th>\n",
       "      <th>V26</th>\n",
       "      <th>V27</th>\n",
       "      <th>V28</th>\n",
       "      <th>Amount</th>\n",
       "    </tr>\n",
       "  </thead>\n",
       "  <tbody>\n",
       "    <tr>\n",
       "      <th>0</th>\n",
       "      <td>-3.347914</td>\n",
       "      <td>-3.361473</td>\n",
       "      <td>1.544786</td>\n",
       "      <td>1.762811</td>\n",
       "      <td>2.669098</td>\n",
       "      <td>-1.163306</td>\n",
       "      <td>-0.894963</td>\n",
       "      <td>0.442753</td>\n",
       "      <td>-0.319186</td>\n",
       "      <td>-0.313276</td>\n",
       "      <td>...</td>\n",
       "      <td>1.537452</td>\n",
       "      <td>0.233390</td>\n",
       "      <td>-0.723999</td>\n",
       "      <td>0.944597</td>\n",
       "      <td>-0.594740</td>\n",
       "      <td>0.680832</td>\n",
       "      <td>-0.363141</td>\n",
       "      <td>-0.129965</td>\n",
       "      <td>0.149183</td>\n",
       "      <td>287.28</td>\n",
       "    </tr>\n",
       "    <tr>\n",
       "      <th>1</th>\n",
       "      <td>-2.709431</td>\n",
       "      <td>-0.357075</td>\n",
       "      <td>0.764383</td>\n",
       "      <td>0.077630</td>\n",
       "      <td>-0.103980</td>\n",
       "      <td>-0.374977</td>\n",
       "      <td>-0.816368</td>\n",
       "      <td>0.791849</td>\n",
       "      <td>0.260995</td>\n",
       "      <td>-0.991852</td>\n",
       "      <td>...</td>\n",
       "      <td>-0.398313</td>\n",
       "      <td>0.069553</td>\n",
       "      <td>-0.026616</td>\n",
       "      <td>-0.828865</td>\n",
       "      <td>-0.316275</td>\n",
       "      <td>-0.500448</td>\n",
       "      <td>0.084505</td>\n",
       "      <td>-0.285052</td>\n",
       "      <td>-0.328693</td>\n",
       "      <td>15.95</td>\n",
       "    </tr>\n",
       "    <tr>\n",
       "      <th>2</th>\n",
       "      <td>-1.043819</td>\n",
       "      <td>-0.296518</td>\n",
       "      <td>0.306696</td>\n",
       "      <td>-2.191146</td>\n",
       "      <td>1.281874</td>\n",
       "      <td>-0.340129</td>\n",
       "      <td>1.069963</td>\n",
       "      <td>0.032010</td>\n",
       "      <td>0.094097</td>\n",
       "      <td>-1.556875</td>\n",
       "      <td>...</td>\n",
       "      <td>0.331988</td>\n",
       "      <td>-0.125172</td>\n",
       "      <td>-0.751551</td>\n",
       "      <td>0.258923</td>\n",
       "      <td>-1.210583</td>\n",
       "      <td>0.008129</td>\n",
       "      <td>-1.144667</td>\n",
       "      <td>0.080121</td>\n",
       "      <td>0.137747</td>\n",
       "      <td>136.38</td>\n",
       "    </tr>\n",
       "    <tr>\n",
       "      <th>3</th>\n",
       "      <td>-1.799744</td>\n",
       "      <td>-2.285001</td>\n",
       "      <td>-0.523871</td>\n",
       "      <td>-1.267247</td>\n",
       "      <td>1.618784</td>\n",
       "      <td>-0.791609</td>\n",
       "      <td>-1.090698</td>\n",
       "      <td>0.516999</td>\n",
       "      <td>-0.665132</td>\n",
       "      <td>-0.318559</td>\n",
       "      <td>...</td>\n",
       "      <td>0.706115</td>\n",
       "      <td>0.674089</td>\n",
       "      <td>1.182007</td>\n",
       "      <td>-0.509206</td>\n",
       "      <td>-0.183312</td>\n",
       "      <td>0.930281</td>\n",
       "      <td>0.308974</td>\n",
       "      <td>-0.121150</td>\n",
       "      <td>-0.455961</td>\n",
       "      <td>52.00</td>\n",
       "    </tr>\n",
       "    <tr>\n",
       "      <th>4</th>\n",
       "      <td>1.998482</td>\n",
       "      <td>-0.249065</td>\n",
       "      <td>-1.253748</td>\n",
       "      <td>0.224398</td>\n",
       "      <td>0.041799</td>\n",
       "      <td>-0.589313</td>\n",
       "      <td>0.026386</td>\n",
       "      <td>-0.092081</td>\n",
       "      <td>0.437735</td>\n",
       "      <td>0.250426</td>\n",
       "      <td>...</td>\n",
       "      <td>-0.221096</td>\n",
       "      <td>-0.255588</td>\n",
       "      <td>-0.718920</td>\n",
       "      <td>0.277660</td>\n",
       "      <td>-0.488993</td>\n",
       "      <td>-0.327426</td>\n",
       "      <td>0.209093</td>\n",
       "      <td>-0.081484</td>\n",
       "      <td>-0.073040</td>\n",
       "      <td>22.24</td>\n",
       "    </tr>\n",
       "  </tbody>\n",
       "</table>\n",
       "<p>5 rows × 29 columns</p>\n",
       "</div>"
      ],
      "text/plain": [
       "         V1        V2        V3        V4        V5        V6        V7  \\\n",
       "0 -3.347914 -3.361473  1.544786  1.762811  2.669098 -1.163306 -0.894963   \n",
       "1 -2.709431 -0.357075  0.764383  0.077630 -0.103980 -0.374977 -0.816368   \n",
       "2 -1.043819 -0.296518  0.306696 -2.191146  1.281874 -0.340129  1.069963   \n",
       "3 -1.799744 -2.285001 -0.523871 -1.267247  1.618784 -0.791609 -1.090698   \n",
       "4  1.998482 -0.249065 -1.253748  0.224398  0.041799 -0.589313  0.026386   \n",
       "\n",
       "         V8        V9       V10   ...         V20       V21       V22  \\\n",
       "0  0.442753 -0.319186 -0.313276   ...    1.537452  0.233390 -0.723999   \n",
       "1  0.791849  0.260995 -0.991852   ...   -0.398313  0.069553 -0.026616   \n",
       "2  0.032010  0.094097 -1.556875   ...    0.331988 -0.125172 -0.751551   \n",
       "3  0.516999 -0.665132 -0.318559   ...    0.706115  0.674089  1.182007   \n",
       "4 -0.092081  0.437735  0.250426   ...   -0.221096 -0.255588 -0.718920   \n",
       "\n",
       "        V23       V24       V25       V26       V27       V28  Amount  \n",
       "0  0.944597 -0.594740  0.680832 -0.363141 -0.129965  0.149183  287.28  \n",
       "1 -0.828865 -0.316275 -0.500448  0.084505 -0.285052 -0.328693   15.95  \n",
       "2  0.258923 -1.210583  0.008129 -1.144667  0.080121  0.137747  136.38  \n",
       "3 -0.509206 -0.183312  0.930281  0.308974 -0.121150 -0.455961   52.00  \n",
       "4  0.277660 -0.488993 -0.327426  0.209093 -0.081484 -0.073040   22.24  \n",
       "\n",
       "[5 rows x 29 columns]"
      ]
     },
     "execution_count": 41,
     "metadata": {},
     "output_type": "execute_result"
    }
   ],
   "source": [
    "X_SMOTE_train_df.head()"
   ]
  },
  {
   "cell_type": "code",
   "execution_count": 42,
   "metadata": {
    "collapsed": true
   },
   "outputs": [],
   "source": [
    "y_SMOTE_train_df = pd.DataFrame(y_SMOTE_train, columns=y_train_total.columns)"
   ]
  },
  {
   "cell_type": "code",
   "execution_count": 43,
   "metadata": {},
   "outputs": [
    {
     "data": {
      "text/html": [
       "<div>\n",
       "<style>\n",
       "    .dataframe thead tr:only-child th {\n",
       "        text-align: right;\n",
       "    }\n",
       "\n",
       "    .dataframe thead th {\n",
       "        text-align: left;\n",
       "    }\n",
       "\n",
       "    .dataframe tbody tr th {\n",
       "        vertical-align: top;\n",
       "    }\n",
       "</style>\n",
       "<table border=\"1\" class=\"dataframe\">\n",
       "  <thead>\n",
       "    <tr style=\"text-align: right;\">\n",
       "      <th></th>\n",
       "      <th>Class</th>\n",
       "    </tr>\n",
       "  </thead>\n",
       "  <tbody>\n",
       "    <tr>\n",
       "      <th>0</th>\n",
       "      <td>0</td>\n",
       "    </tr>\n",
       "    <tr>\n",
       "      <th>1</th>\n",
       "      <td>0</td>\n",
       "    </tr>\n",
       "    <tr>\n",
       "      <th>2</th>\n",
       "      <td>0</td>\n",
       "    </tr>\n",
       "    <tr>\n",
       "      <th>3</th>\n",
       "      <td>0</td>\n",
       "    </tr>\n",
       "    <tr>\n",
       "      <th>4</th>\n",
       "      <td>0</td>\n",
       "    </tr>\n",
       "  </tbody>\n",
       "</table>\n",
       "</div>"
      ],
      "text/plain": [
       "   Class\n",
       "0      0\n",
       "1      0\n",
       "2      0\n",
       "3      0\n",
       "4      0"
      ]
     },
     "execution_count": 43,
     "metadata": {},
     "output_type": "execute_result"
    }
   ],
   "source": [
    "y_SMOTE_train_df.head()"
   ]
  },
  {
   "cell_type": "code",
   "execution_count": 97,
   "metadata": {
    "collapsed": true
   },
   "outputs": [],
   "source": [
    "# Train a logistic regression on the new SMOTE training set\n",
    "max_score, C_max = logistic_regression(X_SMOTE_train_df, y_SMOTE_train_df)"
   ]
  },
  {
   "cell_type": "code",
   "execution_count": 99,
   "metadata": {},
   "outputs": [
    {
     "name": "stdout",
     "output_type": "stream",
     "text": [
      "Best C parameter: 10 ,  Maximum Recall Score: 0.940719341035\n"
     ]
    }
   ],
   "source": [
    "print(\"Best C parameter:\", C_max, \", \", \"Maximum Recall Score:\", max_score)"
   ]
  },
  {
   "cell_type": "code",
   "execution_count": 89,
   "metadata": {
    "collapsed": true
   },
   "outputs": [],
   "source": [
    "# Evaluate the classifer on test data\n",
    "clf_best_smote = LogisticRegression(C=C_max)\n",
    "clf_best_smote.fit(X_SMOTE_train_df, y_SMOTE_train_df.values.ravel())\n",
    "y_pred_SMOTE = clf_best_smote.predict(X_test)"
   ]
  },
  {
   "cell_type": "code",
   "execution_count": 91,
   "metadata": {},
   "outputs": [
    {
     "data": {
      "text/plain": [
       "0.89430894308943087"
      ]
     },
     "execution_count": 91,
     "metadata": {},
     "output_type": "execute_result"
    }
   ],
   "source": [
    "recall_score(y_true, y_pred_SMOTE)"
   ]
  },
  {
   "cell_type": "code",
   "execution_count": 92,
   "metadata": {},
   "outputs": [
    {
     "data": {
      "text/plain": [
       "0.085403726708074529"
      ]
     },
     "execution_count": 92,
     "metadata": {},
     "output_type": "execute_result"
    }
   ],
   "source": [
    "precision_score(y_true, y_pred_SMOTE)"
   ]
  },
  {
   "cell_type": "code",
   "execution_count": 93,
   "metadata": {},
   "outputs": [
    {
     "data": {
      "text/plain": [
       "array([[69901,  1178],\n",
       "       [   13,   110]])"
      ]
     },
     "execution_count": 93,
     "metadata": {},
     "output_type": "execute_result"
    }
   ],
   "source": [
    "confusion_matrix(y_true, y_pred_SMOTE)"
   ]
  },
  {
   "cell_type": "code",
   "execution_count": 145,
   "metadata": {},
   "outputs": [
    {
     "name": "stdout",
     "output_type": "stream",
     "text": [
      "Recall Score in the testing dataset:  0.894308943089\n",
      "Precision Score in the testing dataset:  0.0854037267081\n"
     ]
    },
    {
     "data": {
      "text/plain": [
       "<matplotlib.figure.Figure at 0x130b3c518>"
      ]
     },
     "metadata": {},
     "output_type": "display_data"
    },
    {
     "data": {
      "image/png": "[encoded data removed]",
      "text/plain": [
       "<matplotlib.figure.Figure at 0x11922bf98>"
      ]
     },
     "metadata": {},
     "output_type": "display_data"
    }
   ],
   "source": [
    "# Compute confusion matrix\n",
    "cnf_matrix = confusion_matrix(y_true, y_pred_SMOTE)\n",
    "np.set_printoptions(precision=2)\n",
    "\n",
    "print(\"Recall Score in the testing dataset: \", cnf_matrix[1,1]/(cnf_matrix[1,0]+cnf_matrix[1,1]))\n",
    "print(\"Precision Score in the testing dataset: \", cnf_matrix[1,1]/(cnf_matrix[0,1]+cnf_matrix[1,1]))\n",
    "\n",
    "# Plot non-normalized confusion matrix\n",
    "class_names = [0,1]\n",
    "plt.figure()\n",
    "plot_confusion_matrix(cnf_matrix, classes=class_names, title='Confusion Matrix for SMOTE + Logistic Regression')\n",
    "plt.show()"
   ]
  },
  {
   "cell_type": "code",
   "execution_count": null,
   "metadata": {
    "collapsed": true
   },
   "outputs": [],
   "source": []
  },
  {
   "cell_type": "code",
   "execution_count": null,
   "metadata": {
    "collapsed": true
   },
   "outputs": [],
   "source": []
  },
  {
   "cell_type": "code",
   "execution_count": 104,
   "metadata": {
    "collapsed": true
   },
   "outputs": [],
   "source": [
    "#Adaptive Synthetic (ADASYN)\n",
    "X_ADASYN_train, y_ADASYN_train = ADASYN().fit_sample(X_train_total,\n",
    "                                              y_train_total.values.ravel())"
   ]
  },
  {
   "cell_type": "code",
   "execution_count": 105,
   "metadata": {},
   "outputs": [
    {
     "name": "stdout",
     "output_type": "stream",
     "text": [
      "[(0, 213236), (1, 213294)]\n"
     ]
    }
   ],
   "source": [
    "print(sorted(Counter(y_ADASYN_train).items()))"
   ]
  },
  {
   "cell_type": "code",
   "execution_count": 106,
   "metadata": {
    "collapsed": true
   },
   "outputs": [],
   "source": [
    "X_ADASYN_train_df = pd.DataFrame(X_ADASYN_train, columns=X_train_total.columns)"
   ]
  },
  {
   "cell_type": "code",
   "execution_count": 107,
   "metadata": {},
   "outputs": [
    {
     "data": {
      "text/html": [
       "<div>\n",
       "<style>\n",
       "    .dataframe thead tr:only-child th {\n",
       "        text-align: right;\n",
       "    }\n",
       "\n",
       "    .dataframe thead th {\n",
       "        text-align: left;\n",
       "    }\n",
       "\n",
       "    .dataframe tbody tr th {\n",
       "        vertical-align: top;\n",
       "    }\n",
       "</style>\n",
       "<table border=\"1\" class=\"dataframe\">\n",
       "  <thead>\n",
       "    <tr style=\"text-align: right;\">\n",
       "      <th></th>\n",
       "      <th>V1</th>\n",
       "      <th>V2</th>\n",
       "      <th>V3</th>\n",
       "      <th>V4</th>\n",
       "      <th>V5</th>\n",
       "      <th>V6</th>\n",
       "      <th>V7</th>\n",
       "      <th>V8</th>\n",
       "      <th>V9</th>\n",
       "      <th>V10</th>\n",
       "      <th>...</th>\n",
       "      <th>V20</th>\n",
       "      <th>V21</th>\n",
       "      <th>V22</th>\n",
       "      <th>V23</th>\n",
       "      <th>V24</th>\n",
       "      <th>V25</th>\n",
       "      <th>V26</th>\n",
       "      <th>V27</th>\n",
       "      <th>V28</th>\n",
       "      <th>Amount</th>\n",
       "    </tr>\n",
       "  </thead>\n",
       "  <tbody>\n",
       "    <tr>\n",
       "      <th>0</th>\n",
       "      <td>-3.347914</td>\n",
       "      <td>-3.361473</td>\n",
       "      <td>1.544786</td>\n",
       "      <td>1.762811</td>\n",
       "      <td>2.669098</td>\n",
       "      <td>-1.163306</td>\n",
       "      <td>-0.894963</td>\n",
       "      <td>0.442753</td>\n",
       "      <td>-0.319186</td>\n",
       "      <td>-0.313276</td>\n",
       "      <td>...</td>\n",
       "      <td>1.537452</td>\n",
       "      <td>0.233390</td>\n",
       "      <td>-0.723999</td>\n",
       "      <td>0.944597</td>\n",
       "      <td>-0.594740</td>\n",
       "      <td>0.680832</td>\n",
       "      <td>-0.363141</td>\n",
       "      <td>-0.129965</td>\n",
       "      <td>0.149183</td>\n",
       "      <td>287.28</td>\n",
       "    </tr>\n",
       "    <tr>\n",
       "      <th>1</th>\n",
       "      <td>-2.709431</td>\n",
       "      <td>-0.357075</td>\n",
       "      <td>0.764383</td>\n",
       "      <td>0.077630</td>\n",
       "      <td>-0.103980</td>\n",
       "      <td>-0.374977</td>\n",
       "      <td>-0.816368</td>\n",
       "      <td>0.791849</td>\n",
       "      <td>0.260995</td>\n",
       "      <td>-0.991852</td>\n",
       "      <td>...</td>\n",
       "      <td>-0.398313</td>\n",
       "      <td>0.069553</td>\n",
       "      <td>-0.026616</td>\n",
       "      <td>-0.828865</td>\n",
       "      <td>-0.316275</td>\n",
       "      <td>-0.500448</td>\n",
       "      <td>0.084505</td>\n",
       "      <td>-0.285052</td>\n",
       "      <td>-0.328693</td>\n",
       "      <td>15.95</td>\n",
       "    </tr>\n",
       "    <tr>\n",
       "      <th>2</th>\n",
       "      <td>-1.043819</td>\n",
       "      <td>-0.296518</td>\n",
       "      <td>0.306696</td>\n",
       "      <td>-2.191146</td>\n",
       "      <td>1.281874</td>\n",
       "      <td>-0.340129</td>\n",
       "      <td>1.069963</td>\n",
       "      <td>0.032010</td>\n",
       "      <td>0.094097</td>\n",
       "      <td>-1.556875</td>\n",
       "      <td>...</td>\n",
       "      <td>0.331988</td>\n",
       "      <td>-0.125172</td>\n",
       "      <td>-0.751551</td>\n",
       "      <td>0.258923</td>\n",
       "      <td>-1.210583</td>\n",
       "      <td>0.008129</td>\n",
       "      <td>-1.144667</td>\n",
       "      <td>0.080121</td>\n",
       "      <td>0.137747</td>\n",
       "      <td>136.38</td>\n",
       "    </tr>\n",
       "    <tr>\n",
       "      <th>3</th>\n",
       "      <td>-1.799744</td>\n",
       "      <td>-2.285001</td>\n",
       "      <td>-0.523871</td>\n",
       "      <td>-1.267247</td>\n",
       "      <td>1.618784</td>\n",
       "      <td>-0.791609</td>\n",
       "      <td>-1.090698</td>\n",
       "      <td>0.516999</td>\n",
       "      <td>-0.665132</td>\n",
       "      <td>-0.318559</td>\n",
       "      <td>...</td>\n",
       "      <td>0.706115</td>\n",
       "      <td>0.674089</td>\n",
       "      <td>1.182007</td>\n",
       "      <td>-0.509206</td>\n",
       "      <td>-0.183312</td>\n",
       "      <td>0.930281</td>\n",
       "      <td>0.308974</td>\n",
       "      <td>-0.121150</td>\n",
       "      <td>-0.455961</td>\n",
       "      <td>52.00</td>\n",
       "    </tr>\n",
       "    <tr>\n",
       "      <th>4</th>\n",
       "      <td>1.998482</td>\n",
       "      <td>-0.249065</td>\n",
       "      <td>-1.253748</td>\n",
       "      <td>0.224398</td>\n",
       "      <td>0.041799</td>\n",
       "      <td>-0.589313</td>\n",
       "      <td>0.026386</td>\n",
       "      <td>-0.092081</td>\n",
       "      <td>0.437735</td>\n",
       "      <td>0.250426</td>\n",
       "      <td>...</td>\n",
       "      <td>-0.221096</td>\n",
       "      <td>-0.255588</td>\n",
       "      <td>-0.718920</td>\n",
       "      <td>0.277660</td>\n",
       "      <td>-0.488993</td>\n",
       "      <td>-0.327426</td>\n",
       "      <td>0.209093</td>\n",
       "      <td>-0.081484</td>\n",
       "      <td>-0.073040</td>\n",
       "      <td>22.24</td>\n",
       "    </tr>\n",
       "  </tbody>\n",
       "</table>\n",
       "<p>5 rows × 29 columns</p>\n",
       "</div>"
      ],
      "text/plain": [
       "         V1        V2        V3        V4        V5        V6        V7  \\\n",
       "0 -3.347914 -3.361473  1.544786  1.762811  2.669098 -1.163306 -0.894963   \n",
       "1 -2.709431 -0.357075  0.764383  0.077630 -0.103980 -0.374977 -0.816368   \n",
       "2 -1.043819 -0.296518  0.306696 -2.191146  1.281874 -0.340129  1.069963   \n",
       "3 -1.799744 -2.285001 -0.523871 -1.267247  1.618784 -0.791609 -1.090698   \n",
       "4  1.998482 -0.249065 -1.253748  0.224398  0.041799 -0.589313  0.026386   \n",
       "\n",
       "         V8        V9       V10   ...         V20       V21       V22  \\\n",
       "0  0.442753 -0.319186 -0.313276   ...    1.537452  0.233390 -0.723999   \n",
       "1  0.791849  0.260995 -0.991852   ...   -0.398313  0.069553 -0.026616   \n",
       "2  0.032010  0.094097 -1.556875   ...    0.331988 -0.125172 -0.751551   \n",
       "3  0.516999 -0.665132 -0.318559   ...    0.706115  0.674089  1.182007   \n",
       "4 -0.092081  0.437735  0.250426   ...   -0.221096 -0.255588 -0.718920   \n",
       "\n",
       "        V23       V24       V25       V26       V27       V28  Amount  \n",
       "0  0.944597 -0.594740  0.680832 -0.363141 -0.129965  0.149183  287.28  \n",
       "1 -0.828865 -0.316275 -0.500448  0.084505 -0.285052 -0.328693   15.95  \n",
       "2  0.258923 -1.210583  0.008129 -1.144667  0.080121  0.137747  136.38  \n",
       "3 -0.509206 -0.183312  0.930281  0.308974 -0.121150 -0.455961   52.00  \n",
       "4  0.277660 -0.488993 -0.327426  0.209093 -0.081484 -0.073040   22.24  \n",
       "\n",
       "[5 rows x 29 columns]"
      ]
     },
     "execution_count": 107,
     "metadata": {},
     "output_type": "execute_result"
    }
   ],
   "source": [
    "X_ADASYN_train_df.head()"
   ]
  },
  {
   "cell_type": "code",
   "execution_count": 108,
   "metadata": {
    "collapsed": true
   },
   "outputs": [],
   "source": [
    "y_ADASYN_train_df = pd.DataFrame(y_ADASYN_train, columns=y_train_total.columns)"
   ]
  },
  {
   "cell_type": "code",
   "execution_count": 109,
   "metadata": {},
   "outputs": [
    {
     "data": {
      "text/html": [
       "<div>\n",
       "<style>\n",
       "    .dataframe thead tr:only-child th {\n",
       "        text-align: right;\n",
       "    }\n",
       "\n",
       "    .dataframe thead th {\n",
       "        text-align: left;\n",
       "    }\n",
       "\n",
       "    .dataframe tbody tr th {\n",
       "        vertical-align: top;\n",
       "    }\n",
       "</style>\n",
       "<table border=\"1\" class=\"dataframe\">\n",
       "  <thead>\n",
       "    <tr style=\"text-align: right;\">\n",
       "      <th></th>\n",
       "      <th>Class</th>\n",
       "    </tr>\n",
       "  </thead>\n",
       "  <tbody>\n",
       "    <tr>\n",
       "      <th>0</th>\n",
       "      <td>0</td>\n",
       "    </tr>\n",
       "    <tr>\n",
       "      <th>1</th>\n",
       "      <td>0</td>\n",
       "    </tr>\n",
       "    <tr>\n",
       "      <th>2</th>\n",
       "      <td>0</td>\n",
       "    </tr>\n",
       "    <tr>\n",
       "      <th>3</th>\n",
       "      <td>0</td>\n",
       "    </tr>\n",
       "    <tr>\n",
       "      <th>4</th>\n",
       "      <td>0</td>\n",
       "    </tr>\n",
       "  </tbody>\n",
       "</table>\n",
       "</div>"
      ],
      "text/plain": [
       "   Class\n",
       "0      0\n",
       "1      0\n",
       "2      0\n",
       "3      0\n",
       "4      0"
      ]
     },
     "execution_count": 109,
     "metadata": {},
     "output_type": "execute_result"
    }
   ],
   "source": [
    "y_ADASYN_train_df.head()"
   ]
  },
  {
   "cell_type": "code",
   "execution_count": 110,
   "metadata": {
    "collapsed": true
   },
   "outputs": [],
   "source": [
    "# Train a logistic regression on the new ADASYN training set\n",
    "max_score, C_max = logistic_regression(X_ADASYN_train_df, y_ADASYN_train_df)"
   ]
  },
  {
   "cell_type": "code",
   "execution_count": 111,
   "metadata": {},
   "outputs": [
    {
     "name": "stdout",
     "output_type": "stream",
     "text": [
      "Best C parameter: 1 ,  Maximum Recall Score: 0.742322606993\n"
     ]
    }
   ],
   "source": [
    "print(\"Best C parameter:\", C_max, \", \", \"Maximum Recall Score:\", max_score)"
   ]
  },
  {
   "cell_type": "code",
   "execution_count": 114,
   "metadata": {
    "collapsed": true
   },
   "outputs": [],
   "source": [
    "# Evaluate the classifer on test data\n",
    "clf_best_adasyn = LogisticRegression(C=C_max)\n",
    "clf_best_adasyn.fit(X_ADASYN_train_df, y_ADASYN_train_df.values.ravel())\n",
    "y_pred_ADASYN = clf_best_adasyn.predict(X_test)"
   ]
  },
  {
   "cell_type": "code",
   "execution_count": 115,
   "metadata": {},
   "outputs": [
    {
     "data": {
      "text/plain": [
       "0.92682926829268297"
      ]
     },
     "execution_count": 115,
     "metadata": {},
     "output_type": "execute_result"
    }
   ],
   "source": [
    "recall_score(y_true, y_pred_ADASYN)"
   ]
  },
  {
   "cell_type": "code",
   "execution_count": 117,
   "metadata": {},
   "outputs": [
    {
     "data": {
      "text/plain": [
       "0.019417475728155338"
      ]
     },
     "execution_count": 117,
     "metadata": {},
     "output_type": "execute_result"
    }
   ],
   "source": [
    "precision_score(y_true, y_pred_ADASYN)"
   ]
  },
  {
   "cell_type": "code",
   "execution_count": 118,
   "metadata": {},
   "outputs": [
    {
     "data": {
      "text/plain": [
       "array([[65322,  5757],\n",
       "       [    9,   114]])"
      ]
     },
     "execution_count": 118,
     "metadata": {},
     "output_type": "execute_result"
    }
   ],
   "source": [
    "confusion_matrix(y_true, y_pred_ADASYN)"
   ]
  },
  {
   "cell_type": "code",
   "execution_count": 145,
   "metadata": {},
   "outputs": [
    {
     "name": "stdout",
     "output_type": "stream",
     "text": [
      "Recall Score in the testing dataset:  0.894308943089\n",
      "Precision Score in the testing dataset:  0.0854037267081\n"
     ]
    },
    {
     "data": {
      "text/plain": [
       "<matplotlib.figure.Figure at 0x130b3c518>"
      ]
     },
     "metadata": {},
     "output_type": "display_data"
    },
    {
     "data": {
      "image/png": "[encoded data removed]",
      "text/plain": [
       "<matplotlib.figure.Figure at 0x11922bf98>"
      ]
     },
     "metadata": {},
     "output_type": "display_data"
    }
   ],
   "source": [
    "# Compute confusion matrix\n",
    "cnf_matrix = confusion_matrix(y_true, y_pred_ADASYN)\n",
    "np.set_printoptions(precision=2)\n",
    "\n",
    "print(\"Recall Score in the testing dataset: \", cnf_matrix[1,1]/(cnf_matrix[1,0]+cnf_matrix[1,1]))\n",
    "print(\"Precision Score in the testing dataset: \", cnf_matrix[1,1]/(cnf_matrix[0,1]+cnf_matrix[1,1]))\n",
    "\n",
    "# Plot non-normalized confusion matrix\n",
    "class_names = [0,1]\n",
    "plt.figure()\n",
    "plot_confusion_matrix(cnf_matrix, classes=class_names, title='Confusion Matrix for ADASYN + Logistic Regression')\n",
    "plt.show()"
   ]
  },
  {
   "cell_type": "code",
   "execution_count": null,
   "metadata": {
    "collapsed": true
   },
   "outputs": [],
   "source": []
  },
  {
   "cell_type": "code",
   "execution_count": null,
   "metadata": {
    "collapsed": true
   },
   "outputs": [],
   "source": []
  },
  {
   "cell_type": "code",
   "execution_count": null,
   "metadata": {
    "collapsed": true
   },
   "outputs": [],
   "source": []
  },
  {
   "cell_type": "code",
   "execution_count": 48,
   "metadata": {
    "collapsed": true
   },
   "outputs": [],
   "source": [
    "#Random Forest\n",
    "from sklearn.ensemble import RandomForestClassifier, ExtraTreesClassifier"
   ]
  },
  {
   "cell_type": "code",
   "execution_count": 51,
   "metadata": {},
   "outputs": [],
   "source": [
    "def random_forest(X,y):\n",
    "    \n",
    "    RANDOM_STATE = 123\n",
    "    #max_features_candidates = ['sqrt', 'log2', None]\n",
    "    min_estimators = 25\n",
    "    max_estimators = 75\n",
    "    num_estimators_best = 0\n",
    "    #max_features_best = ''\n",
    "    max_score = 0\n",
    "    \n",
    "    #for item in max_features_candidates:\n",
    "    for i in range(min_estimators, max_estimators + 1):\n",
    "        rf_try = RandomForestClassifier(n_estimators=i, warm_start=True, max_features='sqrt',\n",
    "                                        random_state=RANDOM_STATE)\n",
    "        score_rf = cv_score(rf_try, X, y)\n",
    "            \n",
    "        if score_rf > max_score:\n",
    "            max_score = score_rf\n",
    "            num_estimators_best = i\n",
    "            #max_features_best = item\n",
    "            \n",
    "    return max_score, num_estimators_best #, max_features_best"
   ]
  },
  {
   "cell_type": "code",
   "execution_count": null,
   "metadata": {},
   "outputs": [
    {
     "name": "stderr",
     "output_type": "stream",
     "text": [
      "/Applications/anaconda/lib/python3.6/site-packages/sklearn/ensemble/forest.py:304: UserWarning: Warm-start fitting without increasing n_estimators does not fit new trees.\n",
      "  warn(\"Warm-start fitting without increasing n_estimators does not \"\n",
      "/Applications/anaconda/lib/python3.6/site-packages/sklearn/ensemble/forest.py:304: UserWarning: Warm-start fitting without increasing n_estimators does not fit new trees.\n",
      "  warn(\"Warm-start fitting without increasing n_estimators does not \"\n",
      "/Applications/anaconda/lib/python3.6/site-packages/sklearn/ensemble/forest.py:304: UserWarning: Warm-start fitting without increasing n_estimators does not fit new trees.\n",
      "  warn(\"Warm-start fitting without increasing n_estimators does not \"\n",
      "/Applications/anaconda/lib/python3.6/site-packages/sklearn/ensemble/forest.py:304: UserWarning: Warm-start fitting without increasing n_estimators does not fit new trees.\n",
      "  warn(\"Warm-start fitting without increasing n_estimators does not \"\n",
      "/Applications/anaconda/lib/python3.6/site-packages/sklearn/ensemble/forest.py:304: UserWarning: Warm-start fitting without increasing n_estimators does not fit new trees.\n",
      "  warn(\"Warm-start fitting without increasing n_estimators does not \"\n",
      "/Applications/anaconda/lib/python3.6/site-packages/sklearn/ensemble/forest.py:304: UserWarning: Warm-start fitting without increasing n_estimators does not fit new trees.\n",
      "  warn(\"Warm-start fitting without increasing n_estimators does not \"\n",
      "/Applications/anaconda/lib/python3.6/site-packages/sklearn/ensemble/forest.py:304: UserWarning: Warm-start fitting without increasing n_estimators does not fit new trees.\n",
      "  warn(\"Warm-start fitting without increasing n_estimators does not \"\n",
      "/Applications/anaconda/lib/python3.6/site-packages/sklearn/ensemble/forest.py:304: UserWarning: Warm-start fitting without increasing n_estimators does not fit new trees.\n",
      "  warn(\"Warm-start fitting without increasing n_estimators does not \"\n",
      "/Applications/anaconda/lib/python3.6/site-packages/sklearn/ensemble/forest.py:304: UserWarning: Warm-start fitting without increasing n_estimators does not fit new trees.\n",
      "  warn(\"Warm-start fitting without increasing n_estimators does not \"\n",
      "/Applications/anaconda/lib/python3.6/site-packages/sklearn/ensemble/forest.py:304: UserWarning: Warm-start fitting without increasing n_estimators does not fit new trees.\n",
      "  warn(\"Warm-start fitting without increasing n_estimators does not \"\n",
      "/Applications/anaconda/lib/python3.6/site-packages/sklearn/ensemble/forest.py:304: UserWarning: Warm-start fitting without increasing n_estimators does not fit new trees.\n",
      "  warn(\"Warm-start fitting without increasing n_estimators does not \"\n",
      "/Applications/anaconda/lib/python3.6/site-packages/sklearn/ensemble/forest.py:304: UserWarning: Warm-start fitting without increasing n_estimators does not fit new trees.\n",
      "  warn(\"Warm-start fitting without increasing n_estimators does not \"\n",
      "/Applications/anaconda/lib/python3.6/site-packages/sklearn/ensemble/forest.py:304: UserWarning: Warm-start fitting without increasing n_estimators does not fit new trees.\n",
      "  warn(\"Warm-start fitting without increasing n_estimators does not \"\n",
      "/Applications/anaconda/lib/python3.6/site-packages/sklearn/ensemble/forest.py:304: UserWarning: Warm-start fitting without increasing n_estimators does not fit new trees.\n",
      "  warn(\"Warm-start fitting without increasing n_estimators does not \"\n",
      "/Applications/anaconda/lib/python3.6/site-packages/sklearn/ensemble/forest.py:304: UserWarning: Warm-start fitting without increasing n_estimators does not fit new trees.\n",
      "  warn(\"Warm-start fitting without increasing n_estimators does not \"\n",
      "/Applications/anaconda/lib/python3.6/site-packages/sklearn/ensemble/forest.py:304: UserWarning: Warm-start fitting without increasing n_estimators does not fit new trees.\n",
      "  warn(\"Warm-start fitting without increasing n_estimators does not \"\n",
      "/Applications/anaconda/lib/python3.6/site-packages/sklearn/ensemble/forest.py:304: UserWarning: Warm-start fitting without increasing n_estimators does not fit new trees.\n",
      "  warn(\"Warm-start fitting without increasing n_estimators does not \"\n",
      "/Applications/anaconda/lib/python3.6/site-packages/sklearn/ensemble/forest.py:304: UserWarning: Warm-start fitting without increasing n_estimators does not fit new trees.\n",
      "  warn(\"Warm-start fitting without increasing n_estimators does not \"\n",
      "/Applications/anaconda/lib/python3.6/site-packages/sklearn/ensemble/forest.py:304: UserWarning: Warm-start fitting without increasing n_estimators does not fit new trees.\n",
      "  warn(\"Warm-start fitting without increasing n_estimators does not \"\n",
      "/Applications/anaconda/lib/python3.6/site-packages/sklearn/ensemble/forest.py:304: UserWarning: Warm-start fitting without increasing n_estimators does not fit new trees.\n",
      "  warn(\"Warm-start fitting without increasing n_estimators does not \"\n",
      "/Applications/anaconda/lib/python3.6/site-packages/sklearn/ensemble/forest.py:304: UserWarning: Warm-start fitting without increasing n_estimators does not fit new trees.\n",
      "  warn(\"Warm-start fitting without increasing n_estimators does not \"\n",
      "/Applications/anaconda/lib/python3.6/site-packages/sklearn/ensemble/forest.py:304: UserWarning: Warm-start fitting without increasing n_estimators does not fit new trees.\n",
      "  warn(\"Warm-start fitting without increasing n_estimators does not \"\n",
      "/Applications/anaconda/lib/python3.6/site-packages/sklearn/ensemble/forest.py:304: UserWarning: Warm-start fitting without increasing n_estimators does not fit new trees.\n",
      "  warn(\"Warm-start fitting without increasing n_estimators does not \"\n",
      "/Applications/anaconda/lib/python3.6/site-packages/sklearn/ensemble/forest.py:304: UserWarning: Warm-start fitting without increasing n_estimators does not fit new trees.\n",
      "  warn(\"Warm-start fitting without increasing n_estimators does not \"\n",
      "/Applications/anaconda/lib/python3.6/site-packages/sklearn/ensemble/forest.py:304: UserWarning: Warm-start fitting without increasing n_estimators does not fit new trees.\n",
      "  warn(\"Warm-start fitting without increasing n_estimators does not \"\n",
      "/Applications/anaconda/lib/python3.6/site-packages/sklearn/ensemble/forest.py:304: UserWarning: Warm-start fitting without increasing n_estimators does not fit new trees.\n",
      "  warn(\"Warm-start fitting without increasing n_estimators does not \"\n",
      "/Applications/anaconda/lib/python3.6/site-packages/sklearn/ensemble/forest.py:304: UserWarning: Warm-start fitting without increasing n_estimators does not fit new trees.\n",
      "  warn(\"Warm-start fitting without increasing n_estimators does not \"\n",
      "/Applications/anaconda/lib/python3.6/site-packages/sklearn/ensemble/forest.py:304: UserWarning: Warm-start fitting without increasing n_estimators does not fit new trees.\n",
      "  warn(\"Warm-start fitting without increasing n_estimators does not \"\n",
      "/Applications/anaconda/lib/python3.6/site-packages/sklearn/ensemble/forest.py:304: UserWarning: Warm-start fitting without increasing n_estimators does not fit new trees.\n",
      "  warn(\"Warm-start fitting without increasing n_estimators does not \"\n"
     ]
    }
   ],
   "source": [
    "# Train a random forest on the new SMOTE training set\n",
    "max_score, num_estimators_best = random_forest(X_SMOTE_train_df, y_SMOTE_train_df)"
   ]
  },
  {
   "cell_type": "code",
   "execution_count": 111,
   "metadata": {},
   "outputs": [
    {
     "name": "stdout",
     "output_type": "stream",
     "text": [
      "Best C parameter: 1 ,  Maximum Recall Score: 0.742322606993\n"
     ]
    }
   ],
   "source": [
    "print(\"Best number of max_features:\", max_features_best, \", \", \"Best num_estimator:\", num_estimators_best \", \", \"Maximum Recall Score:\", max_score)"
   ]
  },
  {
   "cell_type": "code",
   "execution_count": null,
   "metadata": {
    "collapsed": true
   },
   "outputs": [],
   "source": []
  }
 ],
 "metadata": {
  "kernelspec": {
   "display_name": "Python 3",
   "language": "python",
   "name": "python3"
  },
  "language_info": {
   "codemirror_mode": {
    "name": "ipython",
    "version": 3
   },
   "file_extension": ".py",
   "mimetype": "text/x-python",
   "name": "python",
   "nbconvert_exporter": "python",
   "pygments_lexer": "ipython3",
   "version": "3.6.1"
  }
 },
 "nbformat": 4,
 "nbformat_minor": 2
}
