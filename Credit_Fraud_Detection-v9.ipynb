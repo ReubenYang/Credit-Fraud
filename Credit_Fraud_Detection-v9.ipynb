{
 "cells": [
  {
   "cell_type": "code",
   "execution_count": 1,
   "metadata": {
    "collapsed": true
   },
   "outputs": [],
   "source": [
    "import numpy as np\n",
    "import pandas as pd\n",
    "import matplotlib.pyplot as plt\n",
    "import seaborn as sns"
   ]
  },
  {
   "cell_type": "markdown",
   "metadata": {},
   "source": [
    "# Read Data"
   ]
  },
  {
   "cell_type": "code",
   "execution_count": 2,
   "metadata": {
    "collapsed": true
   },
   "outputs": [],
   "source": [
    "Credit = pd.read_csv('./Data/creditcard.csv')"
   ]
  },
  {
   "cell_type": "code",
   "execution_count": 3,
   "metadata": {},
   "outputs": [
    {
     "data": {
      "text/html": [
       "<div>\n",
       "<style>\n",
       "    .dataframe thead tr:only-child th {\n",
       "        text-align: right;\n",
       "    }\n",
       "\n",
       "    .dataframe thead th {\n",
       "        text-align: left;\n",
       "    }\n",
       "\n",
       "    .dataframe tbody tr th {\n",
       "        vertical-align: top;\n",
       "    }\n",
       "</style>\n",
       "<table border=\"1\" class=\"dataframe\">\n",
       "  <thead>\n",
       "    <tr style=\"text-align: right;\">\n",
       "      <th></th>\n",
       "      <th>Time</th>\n",
       "      <th>V1</th>\n",
       "      <th>V2</th>\n",
       "      <th>V3</th>\n",
       "      <th>V4</th>\n",
       "      <th>V5</th>\n",
       "      <th>V6</th>\n",
       "      <th>V7</th>\n",
       "      <th>V8</th>\n",
       "      <th>V9</th>\n",
       "      <th>...</th>\n",
       "      <th>V21</th>\n",
       "      <th>V22</th>\n",
       "      <th>V23</th>\n",
       "      <th>V24</th>\n",
       "      <th>V25</th>\n",
       "      <th>V26</th>\n",
       "      <th>V27</th>\n",
       "      <th>V28</th>\n",
       "      <th>Amount</th>\n",
       "      <th>Class</th>\n",
       "    </tr>\n",
       "  </thead>\n",
       "  <tbody>\n",
       "    <tr>\n",
       "      <th>0</th>\n",
       "      <td>0.0</td>\n",
       "      <td>-1.359807</td>\n",
       "      <td>-0.072781</td>\n",
       "      <td>2.536347</td>\n",
       "      <td>1.378155</td>\n",
       "      <td>-0.338321</td>\n",
       "      <td>0.462388</td>\n",
       "      <td>0.239599</td>\n",
       "      <td>0.098698</td>\n",
       "      <td>0.363787</td>\n",
       "      <td>...</td>\n",
       "      <td>-0.018307</td>\n",
       "      <td>0.277838</td>\n",
       "      <td>-0.110474</td>\n",
       "      <td>0.066928</td>\n",
       "      <td>0.128539</td>\n",
       "      <td>-0.189115</td>\n",
       "      <td>0.133558</td>\n",
       "      <td>-0.021053</td>\n",
       "      <td>149.62</td>\n",
       "      <td>0</td>\n",
       "    </tr>\n",
       "    <tr>\n",
       "      <th>1</th>\n",
       "      <td>0.0</td>\n",
       "      <td>1.191857</td>\n",
       "      <td>0.266151</td>\n",
       "      <td>0.166480</td>\n",
       "      <td>0.448154</td>\n",
       "      <td>0.060018</td>\n",
       "      <td>-0.082361</td>\n",
       "      <td>-0.078803</td>\n",
       "      <td>0.085102</td>\n",
       "      <td>-0.255425</td>\n",
       "      <td>...</td>\n",
       "      <td>-0.225775</td>\n",
       "      <td>-0.638672</td>\n",
       "      <td>0.101288</td>\n",
       "      <td>-0.339846</td>\n",
       "      <td>0.167170</td>\n",
       "      <td>0.125895</td>\n",
       "      <td>-0.008983</td>\n",
       "      <td>0.014724</td>\n",
       "      <td>2.69</td>\n",
       "      <td>0</td>\n",
       "    </tr>\n",
       "    <tr>\n",
       "      <th>2</th>\n",
       "      <td>1.0</td>\n",
       "      <td>-1.358354</td>\n",
       "      <td>-1.340163</td>\n",
       "      <td>1.773209</td>\n",
       "      <td>0.379780</td>\n",
       "      <td>-0.503198</td>\n",
       "      <td>1.800499</td>\n",
       "      <td>0.791461</td>\n",
       "      <td>0.247676</td>\n",
       "      <td>-1.514654</td>\n",
       "      <td>...</td>\n",
       "      <td>0.247998</td>\n",
       "      <td>0.771679</td>\n",
       "      <td>0.909412</td>\n",
       "      <td>-0.689281</td>\n",
       "      <td>-0.327642</td>\n",
       "      <td>-0.139097</td>\n",
       "      <td>-0.055353</td>\n",
       "      <td>-0.059752</td>\n",
       "      <td>378.66</td>\n",
       "      <td>0</td>\n",
       "    </tr>\n",
       "    <tr>\n",
       "      <th>3</th>\n",
       "      <td>1.0</td>\n",
       "      <td>-0.966272</td>\n",
       "      <td>-0.185226</td>\n",
       "      <td>1.792993</td>\n",
       "      <td>-0.863291</td>\n",
       "      <td>-0.010309</td>\n",
       "      <td>1.247203</td>\n",
       "      <td>0.237609</td>\n",
       "      <td>0.377436</td>\n",
       "      <td>-1.387024</td>\n",
       "      <td>...</td>\n",
       "      <td>-0.108300</td>\n",
       "      <td>0.005274</td>\n",
       "      <td>-0.190321</td>\n",
       "      <td>-1.175575</td>\n",
       "      <td>0.647376</td>\n",
       "      <td>-0.221929</td>\n",
       "      <td>0.062723</td>\n",
       "      <td>0.061458</td>\n",
       "      <td>123.50</td>\n",
       "      <td>0</td>\n",
       "    </tr>\n",
       "    <tr>\n",
       "      <th>4</th>\n",
       "      <td>2.0</td>\n",
       "      <td>-1.158233</td>\n",
       "      <td>0.877737</td>\n",
       "      <td>1.548718</td>\n",
       "      <td>0.403034</td>\n",
       "      <td>-0.407193</td>\n",
       "      <td>0.095921</td>\n",
       "      <td>0.592941</td>\n",
       "      <td>-0.270533</td>\n",
       "      <td>0.817739</td>\n",
       "      <td>...</td>\n",
       "      <td>-0.009431</td>\n",
       "      <td>0.798278</td>\n",
       "      <td>-0.137458</td>\n",
       "      <td>0.141267</td>\n",
       "      <td>-0.206010</td>\n",
       "      <td>0.502292</td>\n",
       "      <td>0.219422</td>\n",
       "      <td>0.215153</td>\n",
       "      <td>69.99</td>\n",
       "      <td>0</td>\n",
       "    </tr>\n",
       "  </tbody>\n",
       "</table>\n",
       "<p>5 rows × 31 columns</p>\n",
       "</div>"
      ],
      "text/plain": [
       "   Time        V1        V2        V3        V4        V5        V6        V7  \\\n",
       "0   0.0 -1.359807 -0.072781  2.536347  1.378155 -0.338321  0.462388  0.239599   \n",
       "1   0.0  1.191857  0.266151  0.166480  0.448154  0.060018 -0.082361 -0.078803   \n",
       "2   1.0 -1.358354 -1.340163  1.773209  0.379780 -0.503198  1.800499  0.791461   \n",
       "3   1.0 -0.966272 -0.185226  1.792993 -0.863291 -0.010309  1.247203  0.237609   \n",
       "4   2.0 -1.158233  0.877737  1.548718  0.403034 -0.407193  0.095921  0.592941   \n",
       "\n",
       "         V8        V9  ...         V21       V22       V23       V24  \\\n",
       "0  0.098698  0.363787  ...   -0.018307  0.277838 -0.110474  0.066928   \n",
       "1  0.085102 -0.255425  ...   -0.225775 -0.638672  0.101288 -0.339846   \n",
       "2  0.247676 -1.514654  ...    0.247998  0.771679  0.909412 -0.689281   \n",
       "3  0.377436 -1.387024  ...   -0.108300  0.005274 -0.190321 -1.175575   \n",
       "4 -0.270533  0.817739  ...   -0.009431  0.798278 -0.137458  0.141267   \n",
       "\n",
       "        V25       V26       V27       V28  Amount  Class  \n",
       "0  0.128539 -0.189115  0.133558 -0.021053  149.62      0  \n",
       "1  0.167170  0.125895 -0.008983  0.014724    2.69      0  \n",
       "2 -0.327642 -0.139097 -0.055353 -0.059752  378.66      0  \n",
       "3  0.647376 -0.221929  0.062723  0.061458  123.50      0  \n",
       "4 -0.206010  0.502292  0.219422  0.215153   69.99      0  \n",
       "\n",
       "[5 rows x 31 columns]"
      ]
     },
     "execution_count": 3,
     "metadata": {},
     "output_type": "execute_result"
    }
   ],
   "source": [
    "Credit.head()"
   ]
  },
  {
   "cell_type": "code",
   "execution_count": 4,
   "metadata": {},
   "outputs": [
    {
     "data": {
      "text/plain": [
       "(284807, 31)"
      ]
     },
     "execution_count": 4,
     "metadata": {},
     "output_type": "execute_result"
    }
   ],
   "source": [
    "Credit.shape"
   ]
  },
  {
   "cell_type": "code",
   "execution_count": 5,
   "metadata": {},
   "outputs": [
    {
     "name": "stdout",
     "output_type": "stream",
     "text": [
      "<class 'pandas.core.frame.DataFrame'>\n",
      "RangeIndex: 284807 entries, 0 to 284806\n",
      "Data columns (total 31 columns):\n",
      "Time      284807 non-null float64\n",
      "V1        284807 non-null float64\n",
      "V2        284807 non-null float64\n",
      "V3        284807 non-null float64\n",
      "V4        284807 non-null float64\n",
      "V5        284807 non-null float64\n",
      "V6        284807 non-null float64\n",
      "V7        284807 non-null float64\n",
      "V8        284807 non-null float64\n",
      "V9        284807 non-null float64\n",
      "V10       284807 non-null float64\n",
      "V11       284807 non-null float64\n",
      "V12       284807 non-null float64\n",
      "V13       284807 non-null float64\n",
      "V14       284807 non-null float64\n",
      "V15       284807 non-null float64\n",
      "V16       284807 non-null float64\n",
      "V17       284807 non-null float64\n",
      "V18       284807 non-null float64\n",
      "V19       284807 non-null float64\n",
      "V20       284807 non-null float64\n",
      "V21       284807 non-null float64\n",
      "V22       284807 non-null float64\n",
      "V23       284807 non-null float64\n",
      "V24       284807 non-null float64\n",
      "V25       284807 non-null float64\n",
      "V26       284807 non-null float64\n",
      "V27       284807 non-null float64\n",
      "V28       284807 non-null float64\n",
      "Amount    284807 non-null float64\n",
      "Class     284807 non-null int64\n",
      "dtypes: float64(30), int64(1)\n",
      "memory usage: 67.4 MB\n"
     ]
    }
   ],
   "source": [
    "Credit.info()"
   ]
  },
  {
   "cell_type": "code",
   "execution_count": 6,
   "metadata": {},
   "outputs": [
    {
     "data": {
      "text/plain": [
       "Time      False\n",
       "V1        False\n",
       "V2        False\n",
       "V3        False\n",
       "V4        False\n",
       "V5        False\n",
       "V6        False\n",
       "V7        False\n",
       "V8        False\n",
       "V9        False\n",
       "V10       False\n",
       "V11       False\n",
       "V12       False\n",
       "V13       False\n",
       "V14       False\n",
       "V15       False\n",
       "V16       False\n",
       "V17       False\n",
       "V18       False\n",
       "V19       False\n",
       "V20       False\n",
       "V21       False\n",
       "V22       False\n",
       "V23       False\n",
       "V24       False\n",
       "V25       False\n",
       "V26       False\n",
       "V27       False\n",
       "V28       False\n",
       "Amount    False\n",
       "Class     False\n",
       "dtype: bool"
      ]
     },
     "execution_count": 6,
     "metadata": {},
     "output_type": "execute_result"
    }
   ],
   "source": [
    "# Check if there's any missing value\n",
    "pd.isnull(Credit).any()"
   ]
  },
  {
   "cell_type": "markdown",
   "metadata": {},
   "source": [
    "### No missing value for any of the variables. Use V1 - V28 as predictors for fraud detection."
   ]
  },
  {
   "cell_type": "code",
   "execution_count": 7,
   "metadata": {},
   "outputs": [
    {
     "data": {
      "text/html": [
       "<div>\n",
       "<style>\n",
       "    .dataframe thead tr:only-child th {\n",
       "        text-align: right;\n",
       "    }\n",
       "\n",
       "    .dataframe thead th {\n",
       "        text-align: left;\n",
       "    }\n",
       "\n",
       "    .dataframe tbody tr th {\n",
       "        vertical-align: top;\n",
       "    }\n",
       "</style>\n",
       "<table border=\"1\" class=\"dataframe\">\n",
       "  <thead>\n",
       "    <tr style=\"text-align: right;\">\n",
       "      <th></th>\n",
       "      <th>V1</th>\n",
       "      <th>V2</th>\n",
       "      <th>V3</th>\n",
       "      <th>V4</th>\n",
       "      <th>V5</th>\n",
       "      <th>V6</th>\n",
       "      <th>V7</th>\n",
       "      <th>V8</th>\n",
       "      <th>V9</th>\n",
       "      <th>V10</th>\n",
       "      <th>...</th>\n",
       "      <th>V20</th>\n",
       "      <th>V21</th>\n",
       "      <th>V22</th>\n",
       "      <th>V23</th>\n",
       "      <th>V24</th>\n",
       "      <th>V25</th>\n",
       "      <th>V26</th>\n",
       "      <th>V27</th>\n",
       "      <th>V28</th>\n",
       "      <th>Class</th>\n",
       "    </tr>\n",
       "  </thead>\n",
       "  <tbody>\n",
       "    <tr>\n",
       "      <th>count</th>\n",
       "      <td>2.848070e+05</td>\n",
       "      <td>2.848070e+05</td>\n",
       "      <td>2.848070e+05</td>\n",
       "      <td>2.848070e+05</td>\n",
       "      <td>2.848070e+05</td>\n",
       "      <td>2.848070e+05</td>\n",
       "      <td>2.848070e+05</td>\n",
       "      <td>2.848070e+05</td>\n",
       "      <td>2.848070e+05</td>\n",
       "      <td>2.848070e+05</td>\n",
       "      <td>...</td>\n",
       "      <td>2.848070e+05</td>\n",
       "      <td>2.848070e+05</td>\n",
       "      <td>2.848070e+05</td>\n",
       "      <td>2.848070e+05</td>\n",
       "      <td>2.848070e+05</td>\n",
       "      <td>2.848070e+05</td>\n",
       "      <td>2.848070e+05</td>\n",
       "      <td>2.848070e+05</td>\n",
       "      <td>2.848070e+05</td>\n",
       "      <td>284807.000000</td>\n",
       "    </tr>\n",
       "    <tr>\n",
       "      <th>mean</th>\n",
       "      <td>3.919560e-15</td>\n",
       "      <td>5.688174e-16</td>\n",
       "      <td>-8.769071e-15</td>\n",
       "      <td>2.782312e-15</td>\n",
       "      <td>-1.552563e-15</td>\n",
       "      <td>2.010663e-15</td>\n",
       "      <td>-1.694249e-15</td>\n",
       "      <td>-1.927028e-16</td>\n",
       "      <td>-3.137024e-15</td>\n",
       "      <td>1.768627e-15</td>\n",
       "      <td>...</td>\n",
       "      <td>5.085503e-16</td>\n",
       "      <td>1.537294e-16</td>\n",
       "      <td>7.959909e-16</td>\n",
       "      <td>5.367590e-16</td>\n",
       "      <td>4.458112e-15</td>\n",
       "      <td>1.453003e-15</td>\n",
       "      <td>1.699104e-15</td>\n",
       "      <td>-3.660161e-16</td>\n",
       "      <td>-1.206049e-16</td>\n",
       "      <td>0.001727</td>\n",
       "    </tr>\n",
       "    <tr>\n",
       "      <th>std</th>\n",
       "      <td>1.958696e+00</td>\n",
       "      <td>1.651309e+00</td>\n",
       "      <td>1.516255e+00</td>\n",
       "      <td>1.415869e+00</td>\n",
       "      <td>1.380247e+00</td>\n",
       "      <td>1.332271e+00</td>\n",
       "      <td>1.237094e+00</td>\n",
       "      <td>1.194353e+00</td>\n",
       "      <td>1.098632e+00</td>\n",
       "      <td>1.088850e+00</td>\n",
       "      <td>...</td>\n",
       "      <td>7.709250e-01</td>\n",
       "      <td>7.345240e-01</td>\n",
       "      <td>7.257016e-01</td>\n",
       "      <td>6.244603e-01</td>\n",
       "      <td>6.056471e-01</td>\n",
       "      <td>5.212781e-01</td>\n",
       "      <td>4.822270e-01</td>\n",
       "      <td>4.036325e-01</td>\n",
       "      <td>3.300833e-01</td>\n",
       "      <td>0.041527</td>\n",
       "    </tr>\n",
       "    <tr>\n",
       "      <th>min</th>\n",
       "      <td>-5.640751e+01</td>\n",
       "      <td>-7.271573e+01</td>\n",
       "      <td>-4.832559e+01</td>\n",
       "      <td>-5.683171e+00</td>\n",
       "      <td>-1.137433e+02</td>\n",
       "      <td>-2.616051e+01</td>\n",
       "      <td>-4.355724e+01</td>\n",
       "      <td>-7.321672e+01</td>\n",
       "      <td>-1.343407e+01</td>\n",
       "      <td>-2.458826e+01</td>\n",
       "      <td>...</td>\n",
       "      <td>-5.449772e+01</td>\n",
       "      <td>-3.483038e+01</td>\n",
       "      <td>-1.093314e+01</td>\n",
       "      <td>-4.480774e+01</td>\n",
       "      <td>-2.836627e+00</td>\n",
       "      <td>-1.029540e+01</td>\n",
       "      <td>-2.604551e+00</td>\n",
       "      <td>-2.256568e+01</td>\n",
       "      <td>-1.543008e+01</td>\n",
       "      <td>0.000000</td>\n",
       "    </tr>\n",
       "    <tr>\n",
       "      <th>25%</th>\n",
       "      <td>-9.203734e-01</td>\n",
       "      <td>-5.985499e-01</td>\n",
       "      <td>-8.903648e-01</td>\n",
       "      <td>-8.486401e-01</td>\n",
       "      <td>-6.915971e-01</td>\n",
       "      <td>-7.682956e-01</td>\n",
       "      <td>-5.540759e-01</td>\n",
       "      <td>-2.086297e-01</td>\n",
       "      <td>-6.430976e-01</td>\n",
       "      <td>-5.354257e-01</td>\n",
       "      <td>...</td>\n",
       "      <td>-2.117214e-01</td>\n",
       "      <td>-2.283949e-01</td>\n",
       "      <td>-5.423504e-01</td>\n",
       "      <td>-1.618463e-01</td>\n",
       "      <td>-3.545861e-01</td>\n",
       "      <td>-3.171451e-01</td>\n",
       "      <td>-3.269839e-01</td>\n",
       "      <td>-7.083953e-02</td>\n",
       "      <td>-5.295979e-02</td>\n",
       "      <td>0.000000</td>\n",
       "    </tr>\n",
       "    <tr>\n",
       "      <th>50%</th>\n",
       "      <td>1.810880e-02</td>\n",
       "      <td>6.548556e-02</td>\n",
       "      <td>1.798463e-01</td>\n",
       "      <td>-1.984653e-02</td>\n",
       "      <td>-5.433583e-02</td>\n",
       "      <td>-2.741871e-01</td>\n",
       "      <td>4.010308e-02</td>\n",
       "      <td>2.235804e-02</td>\n",
       "      <td>-5.142873e-02</td>\n",
       "      <td>-9.291738e-02</td>\n",
       "      <td>...</td>\n",
       "      <td>-6.248109e-02</td>\n",
       "      <td>-2.945017e-02</td>\n",
       "      <td>6.781943e-03</td>\n",
       "      <td>-1.119293e-02</td>\n",
       "      <td>4.097606e-02</td>\n",
       "      <td>1.659350e-02</td>\n",
       "      <td>-5.213911e-02</td>\n",
       "      <td>1.342146e-03</td>\n",
       "      <td>1.124383e-02</td>\n",
       "      <td>0.000000</td>\n",
       "    </tr>\n",
       "    <tr>\n",
       "      <th>75%</th>\n",
       "      <td>1.315642e+00</td>\n",
       "      <td>8.037239e-01</td>\n",
       "      <td>1.027196e+00</td>\n",
       "      <td>7.433413e-01</td>\n",
       "      <td>6.119264e-01</td>\n",
       "      <td>3.985649e-01</td>\n",
       "      <td>5.704361e-01</td>\n",
       "      <td>3.273459e-01</td>\n",
       "      <td>5.971390e-01</td>\n",
       "      <td>4.539234e-01</td>\n",
       "      <td>...</td>\n",
       "      <td>1.330408e-01</td>\n",
       "      <td>1.863772e-01</td>\n",
       "      <td>5.285536e-01</td>\n",
       "      <td>1.476421e-01</td>\n",
       "      <td>4.395266e-01</td>\n",
       "      <td>3.507156e-01</td>\n",
       "      <td>2.409522e-01</td>\n",
       "      <td>9.104512e-02</td>\n",
       "      <td>7.827995e-02</td>\n",
       "      <td>0.000000</td>\n",
       "    </tr>\n",
       "    <tr>\n",
       "      <th>max</th>\n",
       "      <td>2.454930e+00</td>\n",
       "      <td>2.205773e+01</td>\n",
       "      <td>9.382558e+00</td>\n",
       "      <td>1.687534e+01</td>\n",
       "      <td>3.480167e+01</td>\n",
       "      <td>7.330163e+01</td>\n",
       "      <td>1.205895e+02</td>\n",
       "      <td>2.000721e+01</td>\n",
       "      <td>1.559499e+01</td>\n",
       "      <td>2.374514e+01</td>\n",
       "      <td>...</td>\n",
       "      <td>3.942090e+01</td>\n",
       "      <td>2.720284e+01</td>\n",
       "      <td>1.050309e+01</td>\n",
       "      <td>2.252841e+01</td>\n",
       "      <td>4.584549e+00</td>\n",
       "      <td>7.519589e+00</td>\n",
       "      <td>3.517346e+00</td>\n",
       "      <td>3.161220e+01</td>\n",
       "      <td>3.384781e+01</td>\n",
       "      <td>1.000000</td>\n",
       "    </tr>\n",
       "  </tbody>\n",
       "</table>\n",
       "<p>8 rows × 29 columns</p>\n",
       "</div>"
      ],
      "text/plain": [
       "                 V1            V2            V3            V4            V5  \\\n",
       "count  2.848070e+05  2.848070e+05  2.848070e+05  2.848070e+05  2.848070e+05   \n",
       "mean   3.919560e-15  5.688174e-16 -8.769071e-15  2.782312e-15 -1.552563e-15   \n",
       "std    1.958696e+00  1.651309e+00  1.516255e+00  1.415869e+00  1.380247e+00   \n",
       "min   -5.640751e+01 -7.271573e+01 -4.832559e+01 -5.683171e+00 -1.137433e+02   \n",
       "25%   -9.203734e-01 -5.985499e-01 -8.903648e-01 -8.486401e-01 -6.915971e-01   \n",
       "50%    1.810880e-02  6.548556e-02  1.798463e-01 -1.984653e-02 -5.433583e-02   \n",
       "75%    1.315642e+00  8.037239e-01  1.027196e+00  7.433413e-01  6.119264e-01   \n",
       "max    2.454930e+00  2.205773e+01  9.382558e+00  1.687534e+01  3.480167e+01   \n",
       "\n",
       "                 V6            V7            V8            V9           V10  \\\n",
       "count  2.848070e+05  2.848070e+05  2.848070e+05  2.848070e+05  2.848070e+05   \n",
       "mean   2.010663e-15 -1.694249e-15 -1.927028e-16 -3.137024e-15  1.768627e-15   \n",
       "std    1.332271e+00  1.237094e+00  1.194353e+00  1.098632e+00  1.088850e+00   \n",
       "min   -2.616051e+01 -4.355724e+01 -7.321672e+01 -1.343407e+01 -2.458826e+01   \n",
       "25%   -7.682956e-01 -5.540759e-01 -2.086297e-01 -6.430976e-01 -5.354257e-01   \n",
       "50%   -2.741871e-01  4.010308e-02  2.235804e-02 -5.142873e-02 -9.291738e-02   \n",
       "75%    3.985649e-01  5.704361e-01  3.273459e-01  5.971390e-01  4.539234e-01   \n",
       "max    7.330163e+01  1.205895e+02  2.000721e+01  1.559499e+01  2.374514e+01   \n",
       "\n",
       "           ...                 V20           V21           V22           V23  \\\n",
       "count      ...        2.848070e+05  2.848070e+05  2.848070e+05  2.848070e+05   \n",
       "mean       ...        5.085503e-16  1.537294e-16  7.959909e-16  5.367590e-16   \n",
       "std        ...        7.709250e-01  7.345240e-01  7.257016e-01  6.244603e-01   \n",
       "min        ...       -5.449772e+01 -3.483038e+01 -1.093314e+01 -4.480774e+01   \n",
       "25%        ...       -2.117214e-01 -2.283949e-01 -5.423504e-01 -1.618463e-01   \n",
       "50%        ...       -6.248109e-02 -2.945017e-02  6.781943e-03 -1.119293e-02   \n",
       "75%        ...        1.330408e-01  1.863772e-01  5.285536e-01  1.476421e-01   \n",
       "max        ...        3.942090e+01  2.720284e+01  1.050309e+01  2.252841e+01   \n",
       "\n",
       "                V24           V25           V26           V27           V28  \\\n",
       "count  2.848070e+05  2.848070e+05  2.848070e+05  2.848070e+05  2.848070e+05   \n",
       "mean   4.458112e-15  1.453003e-15  1.699104e-15 -3.660161e-16 -1.206049e-16   \n",
       "std    6.056471e-01  5.212781e-01  4.822270e-01  4.036325e-01  3.300833e-01   \n",
       "min   -2.836627e+00 -1.029540e+01 -2.604551e+00 -2.256568e+01 -1.543008e+01   \n",
       "25%   -3.545861e-01 -3.171451e-01 -3.269839e-01 -7.083953e-02 -5.295979e-02   \n",
       "50%    4.097606e-02  1.659350e-02 -5.213911e-02  1.342146e-03  1.124383e-02   \n",
       "75%    4.395266e-01  3.507156e-01  2.409522e-01  9.104512e-02  7.827995e-02   \n",
       "max    4.584549e+00  7.519589e+00  3.517346e+00  3.161220e+01  3.384781e+01   \n",
       "\n",
       "               Class  \n",
       "count  284807.000000  \n",
       "mean        0.001727  \n",
       "std         0.041527  \n",
       "min         0.000000  \n",
       "25%         0.000000  \n",
       "50%         0.000000  \n",
       "75%         0.000000  \n",
       "max         1.000000  \n",
       "\n",
       "[8 rows x 29 columns]"
      ]
     },
     "execution_count": 7,
     "metadata": {},
     "output_type": "execute_result"
    }
   ],
   "source": [
    "Credit = Credit.drop(['Time', 'Amount'],axis=1)\n",
    "Credit.describe()"
   ]
  },
  {
   "cell_type": "markdown",
   "metadata": {},
   "source": [
    "## The predictors are all coded and transformed after PCA. The correlation matrix below confirms this."
   ]
  },
  {
   "cell_type": "code",
   "execution_count": 8,
   "metadata": {},
   "outputs": [
    {
     "data": {
      "text/html": [
       "<div>\n",
       "<style>\n",
       "    .dataframe thead tr:only-child th {\n",
       "        text-align: right;\n",
       "    }\n",
       "\n",
       "    .dataframe thead th {\n",
       "        text-align: left;\n",
       "    }\n",
       "\n",
       "    .dataframe tbody tr th {\n",
       "        vertical-align: top;\n",
       "    }\n",
       "</style>\n",
       "<table border=\"1\" class=\"dataframe\">\n",
       "  <thead>\n",
       "    <tr style=\"text-align: right;\">\n",
       "      <th></th>\n",
       "      <th>V1</th>\n",
       "      <th>V2</th>\n",
       "      <th>V3</th>\n",
       "      <th>V4</th>\n",
       "      <th>V5</th>\n",
       "      <th>V6</th>\n",
       "      <th>V7</th>\n",
       "      <th>V8</th>\n",
       "      <th>V9</th>\n",
       "      <th>V10</th>\n",
       "      <th>...</th>\n",
       "      <th>V19</th>\n",
       "      <th>V20</th>\n",
       "      <th>V21</th>\n",
       "      <th>V22</th>\n",
       "      <th>V23</th>\n",
       "      <th>V24</th>\n",
       "      <th>V25</th>\n",
       "      <th>V26</th>\n",
       "      <th>V27</th>\n",
       "      <th>V28</th>\n",
       "    </tr>\n",
       "  </thead>\n",
       "  <tbody>\n",
       "    <tr>\n",
       "      <th>V1</th>\n",
       "      <td>1.0</td>\n",
       "      <td>0.0</td>\n",
       "      <td>-0.0</td>\n",
       "      <td>0.0</td>\n",
       "      <td>0.0</td>\n",
       "      <td>0.0</td>\n",
       "      <td>0.0</td>\n",
       "      <td>-0.0</td>\n",
       "      <td>0.0</td>\n",
       "      <td>0.0</td>\n",
       "      <td>...</td>\n",
       "      <td>0.0</td>\n",
       "      <td>0.0</td>\n",
       "      <td>-0.0</td>\n",
       "      <td>0.0</td>\n",
       "      <td>0.0</td>\n",
       "      <td>0.0</td>\n",
       "      <td>-0.0</td>\n",
       "      <td>-0.0</td>\n",
       "      <td>0.0</td>\n",
       "      <td>0.0</td>\n",
       "    </tr>\n",
       "    <tr>\n",
       "      <th>V2</th>\n",
       "      <td>0.0</td>\n",
       "      <td>1.0</td>\n",
       "      <td>0.0</td>\n",
       "      <td>-0.0</td>\n",
       "      <td>-0.0</td>\n",
       "      <td>0.0</td>\n",
       "      <td>0.0</td>\n",
       "      <td>-0.0</td>\n",
       "      <td>-0.0</td>\n",
       "      <td>-0.0</td>\n",
       "      <td>...</td>\n",
       "      <td>0.0</td>\n",
       "      <td>-0.0</td>\n",
       "      <td>0.0</td>\n",
       "      <td>0.0</td>\n",
       "      <td>0.0</td>\n",
       "      <td>-0.0</td>\n",
       "      <td>-0.0</td>\n",
       "      <td>0.0</td>\n",
       "      <td>-0.0</td>\n",
       "      <td>-0.0</td>\n",
       "    </tr>\n",
       "    <tr>\n",
       "      <th>V3</th>\n",
       "      <td>-0.0</td>\n",
       "      <td>0.0</td>\n",
       "      <td>1.0</td>\n",
       "      <td>-0.0</td>\n",
       "      <td>-0.0</td>\n",
       "      <td>0.0</td>\n",
       "      <td>0.0</td>\n",
       "      <td>0.0</td>\n",
       "      <td>-0.0</td>\n",
       "      <td>0.0</td>\n",
       "      <td>...</td>\n",
       "      <td>0.0</td>\n",
       "      <td>-0.0</td>\n",
       "      <td>-0.0</td>\n",
       "      <td>0.0</td>\n",
       "      <td>0.0</td>\n",
       "      <td>-0.0</td>\n",
       "      <td>0.0</td>\n",
       "      <td>0.0</td>\n",
       "      <td>0.0</td>\n",
       "      <td>0.0</td>\n",
       "    </tr>\n",
       "    <tr>\n",
       "      <th>V4</th>\n",
       "      <td>0.0</td>\n",
       "      <td>-0.0</td>\n",
       "      <td>-0.0</td>\n",
       "      <td>1.0</td>\n",
       "      <td>-0.0</td>\n",
       "      <td>-0.0</td>\n",
       "      <td>0.0</td>\n",
       "      <td>0.0</td>\n",
       "      <td>0.0</td>\n",
       "      <td>0.0</td>\n",
       "      <td>...</td>\n",
       "      <td>-0.0</td>\n",
       "      <td>-0.0</td>\n",
       "      <td>-0.0</td>\n",
       "      <td>0.0</td>\n",
       "      <td>0.0</td>\n",
       "      <td>0.0</td>\n",
       "      <td>0.0</td>\n",
       "      <td>-0.0</td>\n",
       "      <td>-0.0</td>\n",
       "      <td>-0.0</td>\n",
       "    </tr>\n",
       "    <tr>\n",
       "      <th>V5</th>\n",
       "      <td>0.0</td>\n",
       "      <td>-0.0</td>\n",
       "      <td>-0.0</td>\n",
       "      <td>-0.0</td>\n",
       "      <td>1.0</td>\n",
       "      <td>0.0</td>\n",
       "      <td>-0.0</td>\n",
       "      <td>0.0</td>\n",
       "      <td>0.0</td>\n",
       "      <td>-0.0</td>\n",
       "      <td>...</td>\n",
       "      <td>-0.0</td>\n",
       "      <td>0.0</td>\n",
       "      <td>-0.0</td>\n",
       "      <td>0.0</td>\n",
       "      <td>0.0</td>\n",
       "      <td>-0.0</td>\n",
       "      <td>0.0</td>\n",
       "      <td>0.0</td>\n",
       "      <td>0.0</td>\n",
       "      <td>-0.0</td>\n",
       "    </tr>\n",
       "    <tr>\n",
       "      <th>V6</th>\n",
       "      <td>0.0</td>\n",
       "      <td>0.0</td>\n",
       "      <td>0.0</td>\n",
       "      <td>-0.0</td>\n",
       "      <td>0.0</td>\n",
       "      <td>1.0</td>\n",
       "      <td>0.0</td>\n",
       "      <td>-0.0</td>\n",
       "      <td>0.0</td>\n",
       "      <td>0.0</td>\n",
       "      <td>...</td>\n",
       "      <td>0.0</td>\n",
       "      <td>0.0</td>\n",
       "      <td>-0.0</td>\n",
       "      <td>-0.0</td>\n",
       "      <td>-0.0</td>\n",
       "      <td>-0.0</td>\n",
       "      <td>0.0</td>\n",
       "      <td>-0.0</td>\n",
       "      <td>-0.0</td>\n",
       "      <td>0.0</td>\n",
       "    </tr>\n",
       "    <tr>\n",
       "      <th>V7</th>\n",
       "      <td>0.0</td>\n",
       "      <td>0.0</td>\n",
       "      <td>0.0</td>\n",
       "      <td>0.0</td>\n",
       "      <td>-0.0</td>\n",
       "      <td>0.0</td>\n",
       "      <td>1.0</td>\n",
       "      <td>-0.0</td>\n",
       "      <td>0.0</td>\n",
       "      <td>0.0</td>\n",
       "      <td>...</td>\n",
       "      <td>-0.0</td>\n",
       "      <td>0.0</td>\n",
       "      <td>0.0</td>\n",
       "      <td>-0.0</td>\n",
       "      <td>0.0</td>\n",
       "      <td>-0.0</td>\n",
       "      <td>0.0</td>\n",
       "      <td>-0.0</td>\n",
       "      <td>-0.0</td>\n",
       "      <td>-0.0</td>\n",
       "    </tr>\n",
       "    <tr>\n",
       "      <th>V8</th>\n",
       "      <td>-0.0</td>\n",
       "      <td>-0.0</td>\n",
       "      <td>0.0</td>\n",
       "      <td>0.0</td>\n",
       "      <td>0.0</td>\n",
       "      <td>-0.0</td>\n",
       "      <td>-0.0</td>\n",
       "      <td>1.0</td>\n",
       "      <td>0.0</td>\n",
       "      <td>0.0</td>\n",
       "      <td>...</td>\n",
       "      <td>-0.0</td>\n",
       "      <td>-0.0</td>\n",
       "      <td>-0.0</td>\n",
       "      <td>0.0</td>\n",
       "      <td>0.0</td>\n",
       "      <td>-0.0</td>\n",
       "      <td>-0.0</td>\n",
       "      <td>-0.0</td>\n",
       "      <td>0.0</td>\n",
       "      <td>-0.0</td>\n",
       "    </tr>\n",
       "    <tr>\n",
       "      <th>V9</th>\n",
       "      <td>0.0</td>\n",
       "      <td>-0.0</td>\n",
       "      <td>-0.0</td>\n",
       "      <td>0.0</td>\n",
       "      <td>0.0</td>\n",
       "      <td>0.0</td>\n",
       "      <td>0.0</td>\n",
       "      <td>0.0</td>\n",
       "      <td>1.0</td>\n",
       "      <td>-0.0</td>\n",
       "      <td>...</td>\n",
       "      <td>0.0</td>\n",
       "      <td>-0.0</td>\n",
       "      <td>0.0</td>\n",
       "      <td>0.0</td>\n",
       "      <td>0.0</td>\n",
       "      <td>-0.0</td>\n",
       "      <td>0.0</td>\n",
       "      <td>-0.0</td>\n",
       "      <td>-0.0</td>\n",
       "      <td>0.0</td>\n",
       "    </tr>\n",
       "    <tr>\n",
       "      <th>V10</th>\n",
       "      <td>0.0</td>\n",
       "      <td>-0.0</td>\n",
       "      <td>0.0</td>\n",
       "      <td>0.0</td>\n",
       "      <td>-0.0</td>\n",
       "      <td>0.0</td>\n",
       "      <td>0.0</td>\n",
       "      <td>0.0</td>\n",
       "      <td>-0.0</td>\n",
       "      <td>1.0</td>\n",
       "      <td>...</td>\n",
       "      <td>0.0</td>\n",
       "      <td>-0.0</td>\n",
       "      <td>0.0</td>\n",
       "      <td>-0.0</td>\n",
       "      <td>0.0</td>\n",
       "      <td>-0.0</td>\n",
       "      <td>-0.0</td>\n",
       "      <td>-0.0</td>\n",
       "      <td>-0.0</td>\n",
       "      <td>-0.0</td>\n",
       "    </tr>\n",
       "    <tr>\n",
       "      <th>V11</th>\n",
       "      <td>0.0</td>\n",
       "      <td>0.0</td>\n",
       "      <td>-0.0</td>\n",
       "      <td>-0.0</td>\n",
       "      <td>0.0</td>\n",
       "      <td>0.0</td>\n",
       "      <td>-0.0</td>\n",
       "      <td>0.0</td>\n",
       "      <td>0.0</td>\n",
       "      <td>0.0</td>\n",
       "      <td>...</td>\n",
       "      <td>0.0</td>\n",
       "      <td>-0.0</td>\n",
       "      <td>-0.0</td>\n",
       "      <td>-0.0</td>\n",
       "      <td>0.0</td>\n",
       "      <td>0.0</td>\n",
       "      <td>-0.0</td>\n",
       "      <td>-0.0</td>\n",
       "      <td>-0.0</td>\n",
       "      <td>-0.0</td>\n",
       "    </tr>\n",
       "    <tr>\n",
       "      <th>V12</th>\n",
       "      <td>0.0</td>\n",
       "      <td>-0.0</td>\n",
       "      <td>0.0</td>\n",
       "      <td>-0.0</td>\n",
       "      <td>0.0</td>\n",
       "      <td>0.0</td>\n",
       "      <td>0.0</td>\n",
       "      <td>-0.0</td>\n",
       "      <td>-0.0</td>\n",
       "      <td>0.0</td>\n",
       "      <td>...</td>\n",
       "      <td>0.0</td>\n",
       "      <td>0.0</td>\n",
       "      <td>0.0</td>\n",
       "      <td>-0.0</td>\n",
       "      <td>0.0</td>\n",
       "      <td>0.0</td>\n",
       "      <td>0.0</td>\n",
       "      <td>-0.0</td>\n",
       "      <td>-0.0</td>\n",
       "      <td>0.0</td>\n",
       "    </tr>\n",
       "    <tr>\n",
       "      <th>V13</th>\n",
       "      <td>-0.0</td>\n",
       "      <td>0.0</td>\n",
       "      <td>-0.0</td>\n",
       "      <td>-0.0</td>\n",
       "      <td>-0.0</td>\n",
       "      <td>-0.0</td>\n",
       "      <td>-0.0</td>\n",
       "      <td>-0.0</td>\n",
       "      <td>-0.0</td>\n",
       "      <td>-0.0</td>\n",
       "      <td>...</td>\n",
       "      <td>-0.0</td>\n",
       "      <td>0.0</td>\n",
       "      <td>0.0</td>\n",
       "      <td>-0.0</td>\n",
       "      <td>-0.0</td>\n",
       "      <td>-0.0</td>\n",
       "      <td>0.0</td>\n",
       "      <td>-0.0</td>\n",
       "      <td>-0.0</td>\n",
       "      <td>0.0</td>\n",
       "    </tr>\n",
       "    <tr>\n",
       "      <th>V14</th>\n",
       "      <td>0.0</td>\n",
       "      <td>-0.0</td>\n",
       "      <td>0.0</td>\n",
       "      <td>-0.0</td>\n",
       "      <td>-0.0</td>\n",
       "      <td>0.0</td>\n",
       "      <td>-0.0</td>\n",
       "      <td>-0.0</td>\n",
       "      <td>0.0</td>\n",
       "      <td>0.0</td>\n",
       "      <td>...</td>\n",
       "      <td>-0.0</td>\n",
       "      <td>-0.0</td>\n",
       "      <td>0.0</td>\n",
       "      <td>0.0</td>\n",
       "      <td>0.0</td>\n",
       "      <td>0.0</td>\n",
       "      <td>-0.0</td>\n",
       "      <td>-0.0</td>\n",
       "      <td>0.0</td>\n",
       "      <td>0.0</td>\n",
       "    </tr>\n",
       "    <tr>\n",
       "      <th>V15</th>\n",
       "      <td>-0.0</td>\n",
       "      <td>0.0</td>\n",
       "      <td>0.0</td>\n",
       "      <td>-0.0</td>\n",
       "      <td>-0.0</td>\n",
       "      <td>-0.0</td>\n",
       "      <td>0.0</td>\n",
       "      <td>0.0</td>\n",
       "      <td>-0.0</td>\n",
       "      <td>0.0</td>\n",
       "      <td>...</td>\n",
       "      <td>-0.0</td>\n",
       "      <td>0.0</td>\n",
       "      <td>0.0</td>\n",
       "      <td>-0.0</td>\n",
       "      <td>0.0</td>\n",
       "      <td>-0.0</td>\n",
       "      <td>0.0</td>\n",
       "      <td>0.0</td>\n",
       "      <td>-0.0</td>\n",
       "      <td>-0.0</td>\n",
       "    </tr>\n",
       "    <tr>\n",
       "      <th>V16</th>\n",
       "      <td>0.0</td>\n",
       "      <td>0.0</td>\n",
       "      <td>0.0</td>\n",
       "      <td>-0.0</td>\n",
       "      <td>-0.0</td>\n",
       "      <td>-0.0</td>\n",
       "      <td>0.0</td>\n",
       "      <td>0.0</td>\n",
       "      <td>-0.0</td>\n",
       "      <td>-0.0</td>\n",
       "      <td>...</td>\n",
       "      <td>0.0</td>\n",
       "      <td>0.0</td>\n",
       "      <td>-0.0</td>\n",
       "      <td>0.0</td>\n",
       "      <td>0.0</td>\n",
       "      <td>-0.0</td>\n",
       "      <td>-0.0</td>\n",
       "      <td>-0.0</td>\n",
       "      <td>0.0</td>\n",
       "      <td>0.0</td>\n",
       "    </tr>\n",
       "    <tr>\n",
       "      <th>V17</th>\n",
       "      <td>-0.0</td>\n",
       "      <td>-0.0</td>\n",
       "      <td>0.0</td>\n",
       "      <td>-0.0</td>\n",
       "      <td>0.0</td>\n",
       "      <td>0.0</td>\n",
       "      <td>0.0</td>\n",
       "      <td>-0.0</td>\n",
       "      <td>0.0</td>\n",
       "      <td>0.0</td>\n",
       "      <td>...</td>\n",
       "      <td>-0.0</td>\n",
       "      <td>-0.0</td>\n",
       "      <td>-0.0</td>\n",
       "      <td>-0.0</td>\n",
       "      <td>0.0</td>\n",
       "      <td>-0.0</td>\n",
       "      <td>0.0</td>\n",
       "      <td>0.0</td>\n",
       "      <td>0.0</td>\n",
       "      <td>-0.0</td>\n",
       "    </tr>\n",
       "    <tr>\n",
       "      <th>V18</th>\n",
       "      <td>0.0</td>\n",
       "      <td>0.0</td>\n",
       "      <td>0.0</td>\n",
       "      <td>0.0</td>\n",
       "      <td>0.0</td>\n",
       "      <td>0.0</td>\n",
       "      <td>-0.0</td>\n",
       "      <td>-0.0</td>\n",
       "      <td>0.0</td>\n",
       "      <td>0.0</td>\n",
       "      <td>...</td>\n",
       "      <td>-0.0</td>\n",
       "      <td>-0.0</td>\n",
       "      <td>-0.0</td>\n",
       "      <td>-0.0</td>\n",
       "      <td>-0.0</td>\n",
       "      <td>-0.0</td>\n",
       "      <td>-0.0</td>\n",
       "      <td>0.0</td>\n",
       "      <td>0.0</td>\n",
       "      <td>0.0</td>\n",
       "    </tr>\n",
       "    <tr>\n",
       "      <th>V19</th>\n",
       "      <td>0.0</td>\n",
       "      <td>0.0</td>\n",
       "      <td>0.0</td>\n",
       "      <td>-0.0</td>\n",
       "      <td>-0.0</td>\n",
       "      <td>0.0</td>\n",
       "      <td>-0.0</td>\n",
       "      <td>-0.0</td>\n",
       "      <td>0.0</td>\n",
       "      <td>0.0</td>\n",
       "      <td>...</td>\n",
       "      <td>1.0</td>\n",
       "      <td>0.0</td>\n",
       "      <td>0.0</td>\n",
       "      <td>-0.0</td>\n",
       "      <td>0.0</td>\n",
       "      <td>0.0</td>\n",
       "      <td>0.0</td>\n",
       "      <td>0.0</td>\n",
       "      <td>-0.0</td>\n",
       "      <td>-0.0</td>\n",
       "    </tr>\n",
       "    <tr>\n",
       "      <th>V20</th>\n",
       "      <td>0.0</td>\n",
       "      <td>-0.0</td>\n",
       "      <td>-0.0</td>\n",
       "      <td>-0.0</td>\n",
       "      <td>0.0</td>\n",
       "      <td>0.0</td>\n",
       "      <td>0.0</td>\n",
       "      <td>-0.0</td>\n",
       "      <td>-0.0</td>\n",
       "      <td>-0.0</td>\n",
       "      <td>...</td>\n",
       "      <td>0.0</td>\n",
       "      <td>1.0</td>\n",
       "      <td>-0.0</td>\n",
       "      <td>0.0</td>\n",
       "      <td>0.0</td>\n",
       "      <td>0.0</td>\n",
       "      <td>-0.0</td>\n",
       "      <td>-0.0</td>\n",
       "      <td>-0.0</td>\n",
       "      <td>-0.0</td>\n",
       "    </tr>\n",
       "    <tr>\n",
       "      <th>V21</th>\n",
       "      <td>-0.0</td>\n",
       "      <td>0.0</td>\n",
       "      <td>-0.0</td>\n",
       "      <td>-0.0</td>\n",
       "      <td>-0.0</td>\n",
       "      <td>-0.0</td>\n",
       "      <td>0.0</td>\n",
       "      <td>-0.0</td>\n",
       "      <td>0.0</td>\n",
       "      <td>0.0</td>\n",
       "      <td>...</td>\n",
       "      <td>0.0</td>\n",
       "      <td>-0.0</td>\n",
       "      <td>1.0</td>\n",
       "      <td>0.0</td>\n",
       "      <td>0.0</td>\n",
       "      <td>0.0</td>\n",
       "      <td>-0.0</td>\n",
       "      <td>-0.0</td>\n",
       "      <td>-0.0</td>\n",
       "      <td>0.0</td>\n",
       "    </tr>\n",
       "    <tr>\n",
       "      <th>V22</th>\n",
       "      <td>0.0</td>\n",
       "      <td>0.0</td>\n",
       "      <td>0.0</td>\n",
       "      <td>0.0</td>\n",
       "      <td>0.0</td>\n",
       "      <td>-0.0</td>\n",
       "      <td>-0.0</td>\n",
       "      <td>0.0</td>\n",
       "      <td>0.0</td>\n",
       "      <td>-0.0</td>\n",
       "      <td>...</td>\n",
       "      <td>-0.0</td>\n",
       "      <td>0.0</td>\n",
       "      <td>0.0</td>\n",
       "      <td>1.0</td>\n",
       "      <td>0.0</td>\n",
       "      <td>0.0</td>\n",
       "      <td>-0.0</td>\n",
       "      <td>-0.0</td>\n",
       "      <td>-0.0</td>\n",
       "      <td>-0.0</td>\n",
       "    </tr>\n",
       "    <tr>\n",
       "      <th>V23</th>\n",
       "      <td>0.0</td>\n",
       "      <td>0.0</td>\n",
       "      <td>0.0</td>\n",
       "      <td>0.0</td>\n",
       "      <td>0.0</td>\n",
       "      <td>-0.0</td>\n",
       "      <td>0.0</td>\n",
       "      <td>0.0</td>\n",
       "      <td>0.0</td>\n",
       "      <td>0.0</td>\n",
       "      <td>...</td>\n",
       "      <td>0.0</td>\n",
       "      <td>0.0</td>\n",
       "      <td>0.0</td>\n",
       "      <td>0.0</td>\n",
       "      <td>1.0</td>\n",
       "      <td>-0.0</td>\n",
       "      <td>-0.0</td>\n",
       "      <td>0.0</td>\n",
       "      <td>0.0</td>\n",
       "      <td>0.0</td>\n",
       "    </tr>\n",
       "    <tr>\n",
       "      <th>V24</th>\n",
       "      <td>0.0</td>\n",
       "      <td>-0.0</td>\n",
       "      <td>-0.0</td>\n",
       "      <td>0.0</td>\n",
       "      <td>-0.0</td>\n",
       "      <td>-0.0</td>\n",
       "      <td>-0.0</td>\n",
       "      <td>-0.0</td>\n",
       "      <td>-0.0</td>\n",
       "      <td>-0.0</td>\n",
       "      <td>...</td>\n",
       "      <td>0.0</td>\n",
       "      <td>0.0</td>\n",
       "      <td>0.0</td>\n",
       "      <td>0.0</td>\n",
       "      <td>-0.0</td>\n",
       "      <td>1.0</td>\n",
       "      <td>0.0</td>\n",
       "      <td>0.0</td>\n",
       "      <td>-0.0</td>\n",
       "      <td>-0.0</td>\n",
       "    </tr>\n",
       "    <tr>\n",
       "      <th>V25</th>\n",
       "      <td>-0.0</td>\n",
       "      <td>-0.0</td>\n",
       "      <td>0.0</td>\n",
       "      <td>0.0</td>\n",
       "      <td>0.0</td>\n",
       "      <td>0.0</td>\n",
       "      <td>0.0</td>\n",
       "      <td>-0.0</td>\n",
       "      <td>0.0</td>\n",
       "      <td>-0.0</td>\n",
       "      <td>...</td>\n",
       "      <td>0.0</td>\n",
       "      <td>-0.0</td>\n",
       "      <td>-0.0</td>\n",
       "      <td>-0.0</td>\n",
       "      <td>-0.0</td>\n",
       "      <td>0.0</td>\n",
       "      <td>1.0</td>\n",
       "      <td>0.0</td>\n",
       "      <td>-0.0</td>\n",
       "      <td>0.0</td>\n",
       "    </tr>\n",
       "    <tr>\n",
       "      <th>V26</th>\n",
       "      <td>-0.0</td>\n",
       "      <td>0.0</td>\n",
       "      <td>0.0</td>\n",
       "      <td>-0.0</td>\n",
       "      <td>0.0</td>\n",
       "      <td>-0.0</td>\n",
       "      <td>-0.0</td>\n",
       "      <td>-0.0</td>\n",
       "      <td>-0.0</td>\n",
       "      <td>-0.0</td>\n",
       "      <td>...</td>\n",
       "      <td>0.0</td>\n",
       "      <td>-0.0</td>\n",
       "      <td>-0.0</td>\n",
       "      <td>-0.0</td>\n",
       "      <td>0.0</td>\n",
       "      <td>0.0</td>\n",
       "      <td>0.0</td>\n",
       "      <td>1.0</td>\n",
       "      <td>-0.0</td>\n",
       "      <td>-0.0</td>\n",
       "    </tr>\n",
       "    <tr>\n",
       "      <th>V27</th>\n",
       "      <td>0.0</td>\n",
       "      <td>-0.0</td>\n",
       "      <td>0.0</td>\n",
       "      <td>-0.0</td>\n",
       "      <td>0.0</td>\n",
       "      <td>-0.0</td>\n",
       "      <td>-0.0</td>\n",
       "      <td>0.0</td>\n",
       "      <td>-0.0</td>\n",
       "      <td>-0.0</td>\n",
       "      <td>...</td>\n",
       "      <td>-0.0</td>\n",
       "      <td>-0.0</td>\n",
       "      <td>-0.0</td>\n",
       "      <td>-0.0</td>\n",
       "      <td>0.0</td>\n",
       "      <td>-0.0</td>\n",
       "      <td>-0.0</td>\n",
       "      <td>-0.0</td>\n",
       "      <td>1.0</td>\n",
       "      <td>-0.0</td>\n",
       "    </tr>\n",
       "    <tr>\n",
       "      <th>V28</th>\n",
       "      <td>0.0</td>\n",
       "      <td>-0.0</td>\n",
       "      <td>0.0</td>\n",
       "      <td>-0.0</td>\n",
       "      <td>-0.0</td>\n",
       "      <td>0.0</td>\n",
       "      <td>-0.0</td>\n",
       "      <td>-0.0</td>\n",
       "      <td>0.0</td>\n",
       "      <td>-0.0</td>\n",
       "      <td>...</td>\n",
       "      <td>-0.0</td>\n",
       "      <td>-0.0</td>\n",
       "      <td>0.0</td>\n",
       "      <td>-0.0</td>\n",
       "      <td>0.0</td>\n",
       "      <td>-0.0</td>\n",
       "      <td>0.0</td>\n",
       "      <td>-0.0</td>\n",
       "      <td>-0.0</td>\n",
       "      <td>1.0</td>\n",
       "    </tr>\n",
       "  </tbody>\n",
       "</table>\n",
       "<p>28 rows × 28 columns</p>\n",
       "</div>"
      ],
      "text/plain": [
       "      V1   V2   V3   V4   V5   V6   V7   V8   V9  V10 ...   V19  V20  V21  \\\n",
       "V1   1.0  0.0 -0.0  0.0  0.0  0.0  0.0 -0.0  0.0  0.0 ...   0.0  0.0 -0.0   \n",
       "V2   0.0  1.0  0.0 -0.0 -0.0  0.0  0.0 -0.0 -0.0 -0.0 ...   0.0 -0.0  0.0   \n",
       "V3  -0.0  0.0  1.0 -0.0 -0.0  0.0  0.0  0.0 -0.0  0.0 ...   0.0 -0.0 -0.0   \n",
       "V4   0.0 -0.0 -0.0  1.0 -0.0 -0.0  0.0  0.0  0.0  0.0 ...  -0.0 -0.0 -0.0   \n",
       "V5   0.0 -0.0 -0.0 -0.0  1.0  0.0 -0.0  0.0  0.0 -0.0 ...  -0.0  0.0 -0.0   \n",
       "V6   0.0  0.0  0.0 -0.0  0.0  1.0  0.0 -0.0  0.0  0.0 ...   0.0  0.0 -0.0   \n",
       "V7   0.0  0.0  0.0  0.0 -0.0  0.0  1.0 -0.0  0.0  0.0 ...  -0.0  0.0  0.0   \n",
       "V8  -0.0 -0.0  0.0  0.0  0.0 -0.0 -0.0  1.0  0.0  0.0 ...  -0.0 -0.0 -0.0   \n",
       "V9   0.0 -0.0 -0.0  0.0  0.0  0.0  0.0  0.0  1.0 -0.0 ...   0.0 -0.0  0.0   \n",
       "V10  0.0 -0.0  0.0  0.0 -0.0  0.0  0.0  0.0 -0.0  1.0 ...   0.0 -0.0  0.0   \n",
       "V11  0.0  0.0 -0.0 -0.0  0.0  0.0 -0.0  0.0  0.0  0.0 ...   0.0 -0.0 -0.0   \n",
       "V12  0.0 -0.0  0.0 -0.0  0.0  0.0  0.0 -0.0 -0.0  0.0 ...   0.0  0.0  0.0   \n",
       "V13 -0.0  0.0 -0.0 -0.0 -0.0 -0.0 -0.0 -0.0 -0.0 -0.0 ...  -0.0  0.0  0.0   \n",
       "V14  0.0 -0.0  0.0 -0.0 -0.0  0.0 -0.0 -0.0  0.0  0.0 ...  -0.0 -0.0  0.0   \n",
       "V15 -0.0  0.0  0.0 -0.0 -0.0 -0.0  0.0  0.0 -0.0  0.0 ...  -0.0  0.0  0.0   \n",
       "V16  0.0  0.0  0.0 -0.0 -0.0 -0.0  0.0  0.0 -0.0 -0.0 ...   0.0  0.0 -0.0   \n",
       "V17 -0.0 -0.0  0.0 -0.0  0.0  0.0  0.0 -0.0  0.0  0.0 ...  -0.0 -0.0 -0.0   \n",
       "V18  0.0  0.0  0.0  0.0  0.0  0.0 -0.0 -0.0  0.0  0.0 ...  -0.0 -0.0 -0.0   \n",
       "V19  0.0  0.0  0.0 -0.0 -0.0  0.0 -0.0 -0.0  0.0  0.0 ...   1.0  0.0  0.0   \n",
       "V20  0.0 -0.0 -0.0 -0.0  0.0  0.0  0.0 -0.0 -0.0 -0.0 ...   0.0  1.0 -0.0   \n",
       "V21 -0.0  0.0 -0.0 -0.0 -0.0 -0.0  0.0 -0.0  0.0  0.0 ...   0.0 -0.0  1.0   \n",
       "V22  0.0  0.0  0.0  0.0  0.0 -0.0 -0.0  0.0  0.0 -0.0 ...  -0.0  0.0  0.0   \n",
       "V23  0.0  0.0  0.0  0.0  0.0 -0.0  0.0  0.0  0.0  0.0 ...   0.0  0.0  0.0   \n",
       "V24  0.0 -0.0 -0.0  0.0 -0.0 -0.0 -0.0 -0.0 -0.0 -0.0 ...   0.0  0.0  0.0   \n",
       "V25 -0.0 -0.0  0.0  0.0  0.0  0.0  0.0 -0.0  0.0 -0.0 ...   0.0 -0.0 -0.0   \n",
       "V26 -0.0  0.0  0.0 -0.0  0.0 -0.0 -0.0 -0.0 -0.0 -0.0 ...   0.0 -0.0 -0.0   \n",
       "V27  0.0 -0.0  0.0 -0.0  0.0 -0.0 -0.0  0.0 -0.0 -0.0 ...  -0.0 -0.0 -0.0   \n",
       "V28  0.0 -0.0  0.0 -0.0 -0.0  0.0 -0.0 -0.0  0.0 -0.0 ...  -0.0 -0.0  0.0   \n",
       "\n",
       "     V22  V23  V24  V25  V26  V27  V28  \n",
       "V1   0.0  0.0  0.0 -0.0 -0.0  0.0  0.0  \n",
       "V2   0.0  0.0 -0.0 -0.0  0.0 -0.0 -0.0  \n",
       "V3   0.0  0.0 -0.0  0.0  0.0  0.0  0.0  \n",
       "V4   0.0  0.0  0.0  0.0 -0.0 -0.0 -0.0  \n",
       "V5   0.0  0.0 -0.0  0.0  0.0  0.0 -0.0  \n",
       "V6  -0.0 -0.0 -0.0  0.0 -0.0 -0.0  0.0  \n",
       "V7  -0.0  0.0 -0.0  0.0 -0.0 -0.0 -0.0  \n",
       "V8   0.0  0.0 -0.0 -0.0 -0.0  0.0 -0.0  \n",
       "V9   0.0  0.0 -0.0  0.0 -0.0 -0.0  0.0  \n",
       "V10 -0.0  0.0 -0.0 -0.0 -0.0 -0.0 -0.0  \n",
       "V11 -0.0  0.0  0.0 -0.0 -0.0 -0.0 -0.0  \n",
       "V12 -0.0  0.0  0.0  0.0 -0.0 -0.0  0.0  \n",
       "V13 -0.0 -0.0 -0.0  0.0 -0.0 -0.0  0.0  \n",
       "V14  0.0  0.0  0.0 -0.0 -0.0  0.0  0.0  \n",
       "V15 -0.0  0.0 -0.0  0.0  0.0 -0.0 -0.0  \n",
       "V16  0.0  0.0 -0.0 -0.0 -0.0  0.0  0.0  \n",
       "V17 -0.0  0.0 -0.0  0.0  0.0  0.0 -0.0  \n",
       "V18 -0.0 -0.0 -0.0 -0.0  0.0  0.0  0.0  \n",
       "V19 -0.0  0.0  0.0  0.0  0.0 -0.0 -0.0  \n",
       "V20  0.0  0.0  0.0 -0.0 -0.0 -0.0 -0.0  \n",
       "V21  0.0  0.0  0.0 -0.0 -0.0 -0.0  0.0  \n",
       "V22  1.0  0.0  0.0 -0.0 -0.0 -0.0 -0.0  \n",
       "V23  0.0  1.0 -0.0 -0.0  0.0  0.0  0.0  \n",
       "V24  0.0 -0.0  1.0  0.0  0.0 -0.0 -0.0  \n",
       "V25 -0.0 -0.0  0.0  1.0  0.0 -0.0  0.0  \n",
       "V26 -0.0  0.0  0.0  0.0  1.0 -0.0 -0.0  \n",
       "V27 -0.0  0.0 -0.0 -0.0 -0.0  1.0 -0.0  \n",
       "V28 -0.0  0.0 -0.0  0.0 -0.0 -0.0  1.0  \n",
       "\n",
       "[28 rows x 28 columns]"
      ]
     },
     "execution_count": 8,
     "metadata": {},
     "output_type": "execute_result"
    }
   ],
   "source": [
    "Features = Credit.drop(['Class'],axis=1)\n",
    "Features.corr().round(2)"
   ]
  },
  {
   "cell_type": "markdown",
   "metadata": {},
   "source": [
    "# Distribuions of Frauds and Non-frauds"
   ]
  },
  {
   "cell_type": "code",
   "execution_count": 9,
   "metadata": {},
   "outputs": [
    {
     "data": {
      "image/png": "[encoded data removed]",
      "text/plain": [
       "<matplotlib.figure.Figure at 0x111760160>"
      ]
     },
     "metadata": {},
     "output_type": "display_data"
    },
    {
     "name": "stdout",
     "output_type": "stream",
     "text": [
      "Number of each class\n",
      "0    284315\n",
      "1       492\n",
      "Name: Class, dtype: int64\n"
     ]
    }
   ],
   "source": [
    "plt.figure(figsize=(8,8))\n",
    "count_classes = pd.value_counts(Credit['Class'], sort = True).sort_index()\n",
    "count_classes.plot(kind = 'bar')\n",
    "plt.title(\"Histogram for Two Classes\")\n",
    "plt.xlabel(\"Class\")\n",
    "plt.ylabel(\"Frequency\")\n",
    "plt.grid(False)\n",
    "plt.show()\n",
    "print(\"Number of each class\")\n",
    "print(Credit['Class'].value_counts())"
   ]
  },
  {
   "cell_type": "code",
   "execution_count": 10,
   "metadata": {},
   "outputs": [
    {
     "data": {
      "text/plain": [
       "0.001727485630620034"
      ]
     },
     "execution_count": 10,
     "metadata": {},
     "output_type": "execute_result"
    }
   ],
   "source": [
    "#Normalized distribution\n",
    "Credit['Class'].value_counts(normalize=True)[1]"
   ]
  },
  {
   "cell_type": "markdown",
   "metadata": {},
   "source": [
    "# Methodology\n",
    "\n",
    "## 1. Baseline (No resapmling)\n",
    "## 2. Undersample (20 balanced subsets)\n",
    "## 3. Oversample (Random Oversampling, SMOTE, ADASYN)"
   ]
  },
  {
   "cell_type": "markdown",
   "metadata": {
    "collapsed": true
   },
   "source": [
    "# Initialize Perforamce Trackers"
   ]
  },
  {
   "cell_type": "code",
   "execution_count": 11,
   "metadata": {
    "collapsed": true
   },
   "outputs": [],
   "source": [
    "#Baseline logistic regression and random forest\n",
    "Base_log_test, Base_log_train, Base_rf_train, Base_rf_test = [], [], [], []"
   ]
  },
  {
   "cell_type": "code",
   "execution_count": 12,
   "metadata": {
    "collapsed": true
   },
   "outputs": [],
   "source": [
    "#Logistic regression and random forest with undersampling\n",
    "U_log_train, U_rf_train = [], []  #training\n",
    "U_log, U_RF = [], []   #test"
   ]
  },
  {
   "cell_type": "code",
   "execution_count": 13,
   "metadata": {
    "collapsed": true
   },
   "outputs": [],
   "source": [
    "#Logistic regression and random forest with oversampling (Random Oversamping, SMOTE, ADASYN)\n",
    "RO_log_train, SMOTE_log_train, ADASYN_log_train = [], [], []   #training\n",
    "RO_log, SMOTE_log, ADASYN_log = [], [], []     #test"
   ]
  },
  {
   "cell_type": "markdown",
   "metadata": {},
   "source": [
    "# Test-train Split with Stratification"
   ]
  },
  {
   "cell_type": "code",
   "execution_count": 16,
   "metadata": {
    "collapsed": true
   },
   "outputs": [],
   "source": [
    "from sklearn.model_selection import train_test_split\n",
    "\n",
    "seeds = [0, 55, 23, 107, 2870]\n",
    "\n",
    "X = Credit.iloc[:, Credit.columns != 'Class']  \n",
    "y = Credit.iloc[:, Credit.columns == 'Class']\n",
    "X_train_total, X_test, y_train_total, y_test = train_test_split(X,y,test_size = 0.25, stratify=y, random_state = seeds[0])\n",
    "\n",
    "y_true = y_test.Class.values.ravel()"
   ]
  },
  {
   "cell_type": "markdown",
   "metadata": {},
   "source": [
    "## The stratification makes the proportions of fraud and non-fraud in the test set the same as the original test as shown below"
   ]
  },
  {
   "cell_type": "code",
   "execution_count": 17,
   "metadata": {},
   "outputs": [
    {
     "name": "stdout",
     "output_type": "stream",
     "text": [
      "Total training set counts:\n",
      "0    213236\n",
      "1       369\n",
      "Name: Class, dtype: int64\n",
      "0    0.998273\n",
      "1    0.001727\n",
      "Name: Class, dtype: float64\n"
     ]
    }
   ],
   "source": [
    "print(\"Total training set counts:\")\n",
    "print(y_train_total.Class.value_counts())\n",
    "print(y_train_total.Class.value_counts(normalize=True))"
   ]
  },
  {
   "cell_type": "code",
   "execution_count": 18,
   "metadata": {},
   "outputs": [
    {
     "name": "stdout",
     "output_type": "stream",
     "text": [
      "Test set counts:\n",
      "0    71079\n",
      "1      123\n",
      "Name: Class, dtype: int64\n",
      "0    0.998273\n",
      "1    0.001727\n",
      "Name: Class, dtype: float64\n"
     ]
    }
   ],
   "source": [
    "print(\"Test set counts:\")\n",
    "print(y_test.Class.value_counts())\n",
    "print(y_test.Class.value_counts(normalize=True))"
   ]
  },
  {
   "cell_type": "code",
   "execution_count": 19,
   "metadata": {},
   "outputs": [
    {
     "data": {
      "text/plain": [
       "369"
      ]
     },
     "execution_count": 19,
     "metadata": {},
     "output_type": "execute_result"
    }
   ],
   "source": [
    "number_records_fraud_train = len(y_train_total[y_train_total.Class == 1])\n",
    "fraud_indices_train = np.array(y_train_total[y_train_total.Class == 1].index)\n",
    "number_records_fraud_train"
   ]
  },
  {
   "cell_type": "code",
   "execution_count": 24,
   "metadata": {
    "collapsed": true
   },
   "outputs": [],
   "source": [
    "# This function generates scatter plot for variable V1 and V2 with different classes marked\n",
    "def illustration(predictors, response, title='Scatter Plot'):\n",
    "    \n",
    "    plt.figure(figsize=(5,5))\n",
    "    \n",
    "    c0 = plt.scatter(predictors.V1[response.Class == 0], predictors.V2[response.Class == 0], \n",
    "                 label=\"Non-fraud\", alpha=0.5)\n",
    "    \n",
    "    c1 = plt.scatter(predictors.V1[response.Class == 1], predictors.V2[response.Class == 1], \n",
    "                 label=\"Fraud\", alpha=0.5)\n",
    "    \n",
    "    plt.title(title)\n",
    "    plt.figlegend((c0, c1), ('Non-fraud', 'Fraud'), loc='lower center', ncol=2)\n",
    "    \n",
    "    return plt.show()"
   ]
  },
  {
   "cell_type": "code",
   "execution_count": 28,
   "metadata": {},
   "outputs": [
    {
     "data": {
      "image/png": "[encoded data removed]",
      "text/plain": [
       "<matplotlib.figure.Figure at 0x1128c2a58>"
      ]
     },
     "metadata": {},
     "output_type": "display_data"
    }
   ],
   "source": [
    "# The scatter plot for V1 and V2 on the training data without resampling \n",
    "illustration(X_train_total, y_train_total, 'Original')"
   ]
  },
  {
   "cell_type": "code",
   "execution_count": 29,
   "metadata": {
    "collapsed": true
   },
   "outputs": [],
   "source": [
    "from sklearn.model_selection import train_test_split\n",
    "from sklearn.linear_model import LogisticRegression\n",
    "from sklearn.ensemble import RandomForestClassifier, ExtraTreesClassifier\n",
    "from sklearn.model_selection import KFold, cross_val_score\n",
    "from sklearn.metrics import confusion_matrix,precision_recall_curve,auc,roc_auc_score,roc_curve,recall_score,precision_score,classification_report\n",
    "import matplotlib.pyplot as plt"
   ]
  },
  {
   "cell_type": "code",
   "execution_count": 30,
   "metadata": {
    "collapsed": true
   },
   "outputs": [],
   "source": [
    "# Function to undersample the Non-frauds in Training\n",
    "def Under_sample(Num_samples):\n",
    "    \n",
    "    # Indices of the non-frauds\n",
    "    normal_indices_train = y_train_total[y_train_total.Class == 0].index\n",
    "    \n",
    "    train_indices_list = []\n",
    "    \n",
    "    for i in range(Num_samples):\n",
    "        # Randomly select number_records_fraud from non-frauds\n",
    "        random_normal_indices = np.random.choice(normal_indices_train, number_records_fraud_train,\n",
    "                                                 replace = False)\n",
    "        \n",
    "        # Append the fraud with non-fraud indices\n",
    "        under_sample_indices = np.concatenate([fraud_indices_train,random_normal_indices])\n",
    "        train_indices_list.append(under_sample_indices)\n",
    "        \n",
    "        # Update normal_indices_train to remove the selectd ones \n",
    "        for i in range(len(random_normal_indices)):\n",
    "            normal_indices_train = normal_indices_train[normal_indices_train != random_normal_indices[i]]\n",
    "    \n",
    "    return(train_indices_list)"
   ]
  },
  {
   "cell_type": "code",
   "execution_count": 31,
   "metadata": {
    "collapsed": true
   },
   "outputs": [],
   "source": [
    "#Cross-validation \n",
    "\n",
    "def cv_score(clf, x, y):\n",
    "    result_recall = 0\n",
    "    nfold = 5\n",
    "    i = 0\n",
    "    # split data into 5 train/val groups with shuffle\n",
    "    for train, val in KFold(nfold, shuffle=True).split(x): \n",
    "        i += 1\n",
    "        \n",
    "        clf.fit(x.iloc[train,:], y.iloc[train,:].values.ravel()) # fit\n",
    "        y_pred = clf.predict(x.iloc[val,:]) #predict\n",
    "        \n",
    "        result_recall += recall_score(y.iloc[val,:].values.ravel(), y_pred) # evaluate recall score on hold-out data   \n",
    "    return result_recall/nfold # average"
   ]
  },
  {
   "cell_type": "code",
   "execution_count": 32,
   "metadata": {
    "collapsed": true
   },
   "outputs": [],
   "source": [
    "#Select the best regularization parameter for logistic regression based on cross-validaion\n",
    "\n",
    "def logistic_regression(X, y):\n",
    "    \n",
    "    Cs = [0.01, 0.1, 1, 10, 100]  #candidates for regularization parameter\n",
    "    max_score = 0\n",
    "    C_max = 0\n",
    "    \n",
    "    for c in Cs:\n",
    "        clf_c = LogisticRegression(C=c)\n",
    "        recall_c = cv_score(clf_c, X, y)  #run cross-validation\n",
    "        \n",
    "        if recall_c > max_score:\n",
    "            max_score = recall_c\n",
    "            C_max = c\n",
    "            \n",
    "    return max_score, C_max\n"
   ]
  },
  {
   "cell_type": "code",
   "execution_count": 33,
   "metadata": {
    "collapsed": true
   },
   "outputs": [],
   "source": [
    "#Prints and plots the confusion matrix\n",
    "\n",
    "import itertools\n",
    "\n",
    "def plot_confusion_matrix(cm, classes,\n",
    "                          normalize=False,\n",
    "                          title='Confusion matrix',\n",
    "                          cmap=plt.cm.Blues):\n",
    "   \n",
    "    plt.figure(figsize=(5,5))\n",
    "    plt.imshow(cm, interpolation='nearest', cmap=cmap)\n",
    "    plt.title(title)\n",
    "    plt.colorbar()\n",
    "    plt.grid(False)\n",
    "    tick_marks = np.arange(len(classes))\n",
    "    plt.xticks(tick_marks, classes, rotation=0)\n",
    "    plt.yticks(tick_marks, classes)\n",
    "\n",
    "    if normalize:\n",
    "        cm = cm.astype('float') / cm.sum(axis=1)[:, np.newaxis] #print(\"Normalized confusion matrix\")\n",
    "    else:\n",
    "        1    #print('Confusion matrix, without normalization')\n",
    "\n",
    "    thresh = cm.max() / 2.\n",
    "    for i, j in itertools.product(range(cm.shape[0]), range(cm.shape[1])):\n",
    "        plt.text(j, i, cm[i, j],\n",
    "                 horizontalalignment=\"center\",\n",
    "                 color=\"white\" if cm[i, j] > thresh else \"black\")\n",
    "\n",
    "    plt.tight_layout()\n",
    "    plt.ylabel('Actual')\n",
    "    plt.xlabel('Predicted')"
   ]
  },
  {
   "cell_type": "markdown",
   "metadata": {},
   "source": [
    "# Baseline Approach (No resampling)"
   ]
  },
  {
   "cell_type": "markdown",
   "metadata": {},
   "source": [
    "## Logistic Regression"
   ]
  },
  {
   "cell_type": "code",
   "execution_count": 39,
   "metadata": {},
   "outputs": [
    {
     "data": {
      "text/plain": [
       "<matplotlib.figure.Figure at 0x11244c0f0>"
      ]
     },
     "metadata": {},
     "output_type": "display_data"
    },
    {
     "data": {
      "image/png": "[encoded data removed]",
      "text/plain": [
       "<matplotlib.figure.Figure at 0x1124550f0>"
      ]
     },
     "metadata": {},
     "output_type": "display_data"
    },
    {
     "name": "stdout",
     "output_type": "stream",
     "text": [
      "Recall Score Train:  0.615176151762\n",
      "Precision Score Train:  0.86641221374\n",
      "True Negative Rate Train:  0.999835862612\n"
     ]
    },
    {
     "data": {
      "text/plain": [
       "<matplotlib.figure.Figure at 0x115ff7080>"
      ]
     },
     "metadata": {},
     "output_type": "display_data"
    },
    {
     "data": {
      "image/png": "[encoded data removed]",
      "text/plain": [
       "<matplotlib.figure.Figure at 0x113a93ef0>"
      ]
     },
     "metadata": {},
     "output_type": "display_data"
    },
    {
     "name": "stdout",
     "output_type": "stream",
     "text": [
      "Recall Score Test:  0.60162601626\n",
      "Precision Score Test:  0.850574712644\n",
      "True Negative Rate Test:  0.999817104911\n"
     ]
    }
   ],
   "source": [
    "#Logistic Regression\n",
    "\n",
    "# Train a logistic regression with best hyperparamer on the original training set\n",
    "max_score, C_max = logistic_regression(X_train_total, y_train_total)\n",
    "\n",
    "# Evaluate the classifer on training data\n",
    "clf_best_c = LogisticRegression(C=C_max)\n",
    "clf_best_c.fit(X_train_total, y_train_total.values.ravel())\n",
    "y_base_log_train = clf_best_c.predict(X_train_total)\n",
    "\n",
    "# Compute confusion matrix for training data\n",
    "cnf_matrix = confusion_matrix(y_train_total.values.ravel(), y_base_log_train)\n",
    "np.set_printoptions(precision=2)\n",
    "\n",
    "Base_log_train.append((cnf_matrix[1,1]/(cnf_matrix[1,0]+cnf_matrix[1,1]),\n",
    "             cnf_matrix[1,1]/(cnf_matrix[0,1]+cnf_matrix[1,1]),\n",
    "             cnf_matrix[0,0]/(cnf_matrix[0,0]+cnf_matrix[0,1])))\n",
    "\n",
    "# Plot confusion matrix\n",
    "class_names = [0,1]\n",
    "plt.figure()\n",
    "plot_confusion_matrix(cnf_matrix, classes=class_names, title='Train: Base + Logistic Regression ')\n",
    "plt.show()\n",
    "\n",
    "print(\"Recall Score Train: \", cnf_matrix[1,1]/(cnf_matrix[1,0]+cnf_matrix[1,1]))\n",
    "print(\"Precision Score Train: \", cnf_matrix[1,1]/(cnf_matrix[0,1]+cnf_matrix[1,1]))\n",
    "print(\"True Negative Rate Train: \", cnf_matrix[0,0]/(cnf_matrix[0,0]+cnf_matrix[0,1]))\n",
    "\n",
    "\n",
    "\n",
    "# Evaluate the classifer on test data\n",
    "y_base_log_test = clf_best_c.predict(X_test)\n",
    "\n",
    "# Compute confusion matrix for test data\n",
    "cnf_matrix = confusion_matrix(y_true, y_base_log_test)\n",
    "np.set_printoptions(precision=2)\n",
    "\n",
    "Base_log_test.append((cnf_matrix[1,1]/(cnf_matrix[1,0]+cnf_matrix[1,1]),\n",
    "             cnf_matrix[1,1]/(cnf_matrix[0,1]+cnf_matrix[1,1]),\n",
    "             cnf_matrix[0,0]/(cnf_matrix[0,0]+cnf_matrix[0,1])))\n",
    "\n",
    "\n",
    "# Plot confusion matrix\n",
    "class_names = [0,1]\n",
    "plt.figure()\n",
    "plot_confusion_matrix(cnf_matrix, classes=class_names, title='Test: Base + Logistic Regression ')\n",
    "plt.show()\n",
    "\n",
    "print(\"Recall Score Test: \", cnf_matrix[1,1]/(cnf_matrix[1,0]+cnf_matrix[1,1]))\n",
    "print(\"Precision Score Test: \", cnf_matrix[1,1]/(cnf_matrix[0,1]+cnf_matrix[1,1]))\n",
    "print(\"True Negative Rate Test: \", cnf_matrix[0,0]/(cnf_matrix[0,0]+cnf_matrix[0,1]))"
   ]
  },
  {
   "cell_type": "code",
   "execution_count": 40,
   "metadata": {},
   "outputs": [
    {
     "data": {
      "text/plain": [
       "[(0.64227642276422769, 0.85869565217391308, 0.9998171049114366),\n",
       " (0.61788617886178865, 0.89411764705882357, 0.9998733803233022),\n",
       " (0.65040650406504064, 0.86956521739130432, 0.999831173764403),\n",
       " (0.64227642276422769, 0.86813186813186816, 0.999831173764403),\n",
       " (0.60162601626016265, 0.85057471264367812, 0.9998171049114366)]"
      ]
     },
     "execution_count": 40,
     "metadata": {},
     "output_type": "execute_result"
    }
   ],
   "source": [
    "Base_log_test"
   ]
  },
  {
   "cell_type": "code",
   "execution_count": 41,
   "metadata": {},
   "outputs": [
    {
     "data": {
      "text/plain": [
       "[(0.6449864498644986, 0.89811320754716983, 0.99987337972950163),\n",
       " (0.6449864498644986, 0.875, 0.999840552251965),\n",
       " (0.62330623306233057, 0.87121212121212122, 0.999840552251965),\n",
       " (0.60433604336043356, 0.86100386100386095, 0.99983117297266877),\n",
       " (0.61517615176151763, 0.86641221374045807, 0.99983586261231683)]"
      ]
     },
     "execution_count": 41,
     "metadata": {},
     "output_type": "execute_result"
    }
   ],
   "source": [
    "Base_log_train"
   ]
  },
  {
   "cell_type": "code",
   "execution_count": null,
   "metadata": {
    "collapsed": true
   },
   "outputs": [],
   "source": []
  },
  {
   "cell_type": "markdown",
   "metadata": {},
   "source": [
    "## Random Forest"
   ]
  },
  {
   "cell_type": "code",
   "execution_count": 34,
   "metadata": {
    "collapsed": true
   },
   "outputs": [],
   "source": [
    "#Function to train random forest and select num_estimators based on out-of-bag recall\n",
    "def random_forest(X, y, seed=0):\n",
    "    \n",
    "    min_estimators = 40\n",
    "    max_estimators = 50\n",
    "    num_estimators_best = 0\n",
    "    max_score, precision_i = 0, 0\n",
    "    \n",
    "    rf_try = RandomForestClassifier(warm_start=True, oob_score=True, max_features=\"sqrt\", random_state=seed)\n",
    "    \n",
    "    for i in range(min_estimators, max_estimators + 1):\n",
    "        rf_try.set_params(n_estimators=i)\n",
    "        \n",
    "        #Evluate on oob\n",
    "        rf_try.fit(X, y.values.ravel())\n",
    "        y_pred_oob = np.argmax(rf_try.oob_decision_function_, axis=1)  #majority vote \n",
    "        oob_recall = recall_score(y.values.ravel(), y_pred_oob)       #Out-of-bag recall\n",
    "        oob_precsion = precision_score(y.values.ravel(), y_pred_oob)  #Out-of-bag precision\n",
    "        \n",
    "        if oob_recall > max_score:\n",
    "            max_score = oob_recall\n",
    "            precision_i = oob_precsion\n",
    "            num_estimators_best = i\n",
    "            \n",
    "    return max_score, precision_i, num_estimators_best"
   ]
  },
  {
   "cell_type": "code",
   "execution_count": 35,
   "metadata": {},
   "outputs": [],
   "source": [
    "# Train random forest on the original training set\n",
    "seed = 123\n",
    "recall_rf, precision_rf, num_estimators_best = random_forest(X_train_total, y_train_total, seed)\n",
    "Base_rf_train.append((recall_rf, precision_rf))  #OOB performance"
   ]
  },
  {
   "cell_type": "code",
   "execution_count": 37,
   "metadata": {},
   "outputs": [
    {
     "data": {
      "text/plain": [
       "[(0.7994579945799458, 0.9546925566343042),\n",
       " (0.7940379403794038, 0.948220064724919),\n",
       " (0.7886178861788617, 0.9572368421052632),\n",
       " (0.7859078590785907, 0.9539473684210527),\n",
       " (0.7696476964769647, 0.9435215946843853)]"
      ]
     },
     "execution_count": 37,
     "metadata": {},
     "output_type": "execute_result"
    }
   ],
   "source": [
    "Base_rf_train"
   ]
  },
  {
   "cell_type": "code",
   "execution_count": 38,
   "metadata": {},
   "outputs": [
    {
     "data": {
      "text/plain": [
       "<matplotlib.figure.Figure at 0x115d3eba8>"
      ]
     },
     "metadata": {},
     "output_type": "display_data"
    },
    {
     "data": {
      "image/png": "[encoded data removed]",
      "text/plain": [
       "<matplotlib.figure.Figure at 0x115d3eeb8>"
      ]
     },
     "metadata": {},
     "output_type": "display_data"
    },
    {
     "name": "stdout",
     "output_type": "stream",
     "text": [
      "Recall Score Test:  0.731707317073\n",
      "Precision Score Test:  0.927835051546\n",
      "True Negative Rate Test:  0.999901518029\n"
     ]
    }
   ],
   "source": [
    "#The best RF is obtained using num_estimators_best\n",
    "RF_best = RandomForestClassifier(n_estimators=num_estimators_best, max_features='sqrt', oob_score=True, random_state=seed)\n",
    "RF_best.fit(X_train_total, y_train_total.values.ravel())\n",
    "\n",
    "#predict on test set\n",
    "y_pred_base_rf = RF_best.predict(X_test)\n",
    "\n",
    "# Compute confusion matrix for test data\n",
    "cnf_matrix = confusion_matrix(y_true, y_pred_base_rf)\n",
    "np.set_printoptions(precision=2)\n",
    "\n",
    "Base_rf_test.append((cnf_matrix[1,1]/(cnf_matrix[1,0]+cnf_matrix[1,1]),\n",
    "             cnf_matrix[1,1]/(cnf_matrix[0,1]+cnf_matrix[1,1]),\n",
    "             cnf_matrix[0,0]/(cnf_matrix[0,0]+cnf_matrix[0,1])))\n",
    "\n",
    "\n",
    "# Plot confusion matrix\n",
    "class_names = [0,1]\n",
    "plt.figure()\n",
    "plot_confusion_matrix(cnf_matrix, classes=class_names, title='Test: Base + Random Forest:')\n",
    "plt.show()\n",
    "\n",
    "print(\"Recall Score Test: \", cnf_matrix[1,1]/(cnf_matrix[1,0]+cnf_matrix[1,1]))\n",
    "print(\"Precision Score Test: \", cnf_matrix[1,1]/(cnf_matrix[0,1]+cnf_matrix[1,1]))\n",
    "print(\"True Negative Rate Test: \", cnf_matrix[0,0]/(cnf_matrix[0,0]+cnf_matrix[0,1]))"
   ]
  },
  {
   "cell_type": "code",
   "execution_count": 40,
   "metadata": {},
   "outputs": [
    {
     "data": {
      "text/plain": [
       "[(0.7317073170731707, 0.9278350515463918, 0.9999015180292351),\n",
       " (0.7317073170731707, 0.9278350515463918, 0.9999015180292351),\n",
       " (0.7235772357723578, 0.9468085106382979, 0.9999296557351679),\n",
       " (0.8130081300813008, 0.9009009009009009, 0.9998452426173694),\n",
       " (0.7886178861788617, 0.941747572815534, 0.9999155868822015)]"
      ]
     },
     "execution_count": 40,
     "metadata": {},
     "output_type": "execute_result"
    }
   ],
   "source": [
    "Base_rf_test "
   ]
  },
  {
   "cell_type": "code",
   "execution_count": null,
   "metadata": {
    "collapsed": true
   },
   "outputs": [],
   "source": []
  },
  {
   "cell_type": "markdown",
   "metadata": {},
   "source": [
    "# Undersampling"
   ]
  },
  {
   "cell_type": "markdown",
   "metadata": {},
   "source": [
    "# Logistic Regression with Undersampling"
   ]
  },
  {
   "cell_type": "code",
   "execution_count": 115,
   "metadata": {},
   "outputs": [
    {
     "data": {
      "text/plain": [
       "<matplotlib.figure.Figure at 0x115fa4e80>"
      ]
     },
     "metadata": {},
     "output_type": "display_data"
    },
    {
     "data": {
      "image/png": "[encoded data removed]",
      "text/plain": [
       "<matplotlib.figure.Figure at 0x1160dec88>"
      ]
     },
     "metadata": {},
     "output_type": "display_data"
    },
    {
     "name": "stdout",
     "output_type": "stream",
     "text": [
      "Recall:  0.918699186992\n",
      "Precisiont:  0.0377295492487\n",
      "True Negative Rate:  0.959453565751\n"
     ]
    }
   ],
   "source": [
    "Num_of_samples = 20\n",
    "\n",
    "#run previously defined function Under_sample to take indices of all frauds and the same number of non-frauds\n",
    "Training_indices = Under_sample(Num_of_samples)  \n",
    "\n",
    "Recall_C, Best_C = [], []\n",
    "\n",
    "for indices in Training_indices:\n",
    "    #1st: obtain each under-sampled training set using train indices\n",
    "    X_train_undersample = X_train_total.loc[indices, :]\n",
    "    y_train_undersample = y_train_total.loc[indices, :]\n",
    "    \n",
    "    #2nd: train a classifier for the current under-sampled training set by cross-validation    \n",
    "    max_score, C_max = logistic_regression(X_train_undersample, y_train_undersample)\n",
    "    Recall_C.append(max_score)  \n",
    "    Best_C.append(C_max)\n",
    "    \n",
    "# Fit each classifer on each undersampled training set with the associated best C\n",
    "Y_pred_list, train_recall, train_precision = [], [], []\n",
    "\n",
    "for i in range(Num_of_samples):\n",
    "    X_train_undersample = X_train_total.loc[Training_indices[i], :]\n",
    "    y_train_undersample = y_train_total.loc[Training_indices[i], :]\n",
    "    \n",
    "    clf_best_c = LogisticRegression(C = Best_C[i])\n",
    "    clf_best_c.fit(X_train_undersample, y_train_undersample.values.ravel()) # fit\n",
    "    \n",
    "    #Evluate on training\n",
    "    y_pred_train = clf_best_c.predict(X_train_undersample)\n",
    "    train_recall.append(recall_score(y_train_undersample.values.ravel(), y_pred_train))\n",
    "    train_precision.append(precision_score(y_train_undersample.values.ravel(), y_pred_train))    \n",
    "    \n",
    "    #Predict on test\n",
    "    y_pred = clf_best_c.predict(X_test) #predict\n",
    "    Y_pred_list.append(y_pred) #append to the list of predictions\n",
    "\n",
    "# Avg training performacne on all undersampled sets\n",
    "U_log_train.append((np.mean(train_recall), np.mean(train_precision)))\n",
    "    \n",
    "# put together all predictions on test data \n",
    "Pred_all_array = np.asarray(Y_pred_list)\n",
    "P_total = np.sum(Pred_all_array, axis=0)\n",
    "    \n",
    "# Produce the final predict from the list of predictions \n",
    "Pred_final = np.where(P_total<10, 0, 1)\n",
    "\n",
    "# Compute confusion matrix for test performance\n",
    "cnf_matrix = confusion_matrix(y_true, Pred_final)\n",
    "np.set_printoptions(precision=2)\n",
    "\n",
    "# Plot confusion matrix\n",
    "class_names = [0,1]\n",
    "plt.figure()\n",
    "plot_confusion_matrix(cnf_matrix, classes=class_names, title='Undersampled + LR')\n",
    "plt.show()\n",
    "\n",
    "U_log.append((cnf_matrix[1,1]/(cnf_matrix[1,0]+cnf_matrix[1,1]),\n",
    "             cnf_matrix[1,1]/(cnf_matrix[0,1]+cnf_matrix[1,1]),\n",
    "             cnf_matrix[0,0]/(cnf_matrix[0,0]+cnf_matrix[0,1])))\n",
    "\n",
    "print(\"Recall: \", cnf_matrix[1,1]/(cnf_matrix[1,0]+cnf_matrix[1,1]))\n",
    "print(\"Precisiont: \", cnf_matrix[1,1]/(cnf_matrix[0,1]+cnf_matrix[1,1]))\n",
    "print(\"True Negative Rate: \", cnf_matrix[0,0]/(cnf_matrix[0,0]+cnf_matrix[0,1]))"
   ]
  },
  {
   "cell_type": "code",
   "execution_count": 116,
   "metadata": {},
   "outputs": [
    {
     "data": {
      "text/plain": [
       "[(0.92398373983739845, 0.96881034500586305),\n",
       " (0.92981029810298088, 0.97341221437752645),\n",
       " (0.93197831978319756, 0.97334334040999959),\n",
       " (0.94241192411924113, 0.96737229540858127),\n",
       " (0.92398373983739845, 0.96763488195179159)]"
      ]
     },
     "execution_count": 116,
     "metadata": {},
     "output_type": "execute_result"
    }
   ],
   "source": [
    "U_log_train"
   ]
  },
  {
   "cell_type": "code",
   "execution_count": 117,
   "metadata": {},
   "outputs": [
    {
     "data": {
      "text/plain": [
       "[(0.91056910569105687, 0.038043478260869568, 0.96015700839910523),\n",
       " (0.90243902439024393, 0.045158665581773796, 0.96698040208781777),\n",
       " (0.88617886178861793, 0.046049852133502323, 0.96823253000182896),\n",
       " (0.86178861788617889, 0.03633870414809736, 0.96045245431140003),\n",
       " (0.91869918699186992, 0.037729549248747912, 0.95945356575078433)]"
      ]
     },
     "execution_count": 117,
     "metadata": {},
     "output_type": "execute_result"
    }
   ],
   "source": [
    "U_log"
   ]
  },
  {
   "cell_type": "markdown",
   "metadata": {},
   "source": [
    "# Train Random Forest with Undersampling"
   ]
  },
  {
   "cell_type": "code",
   "execution_count": 95,
   "metadata": {},
   "outputs": [
    {
     "data": {
      "text/plain": [
       "<matplotlib.figure.Figure at 0x1127caa20>"
      ]
     },
     "metadata": {},
     "output_type": "display_data"
    },
    {
     "data": {
      "image/png": "[encoded data removed]",
      "text/plain": [
       "<matplotlib.figure.Figure at 0x1127ca5c0>"
      ]
     },
     "metadata": {},
     "output_type": "display_data"
    }
   ],
   "source": [
    "Num_of_samples = 20\n",
    "\n",
    "Training_indices = Under_sample(Num_of_samples)\n",
    "\n",
    "Recall_RF, Precision_RF, Best_num_estimators = [], [], []\n",
    "\n",
    "Y_pred_rf_list, train_recall, train_precision = [], [], []\n",
    "seed = 123\n",
    "\n",
    "for indices in Training_indices:\n",
    "    \n",
    "    #1st: obtain each under-sampled training set using train indices\n",
    "    X_train_undersample = X_train_total.loc[indices, :]\n",
    "    y_train_undersample = y_train_total.loc[indices, :]\n",
    "    \n",
    "    #2nd: train a classifier for the current under-sampled training set by best oob recall\n",
    "    # Train a random forest on the 50-50 training set\n",
    "    recall_undersample, precision_undersample, num_estimators_best = random_forest(X_train_undersample, \n",
    "                                                                                   y_train_undersample,\n",
    "                                                                                   seed)\n",
    "    Recall_RF.append(recall_undersample)    \n",
    "    Precision_RF.append(precision_undersample)\n",
    "    Best_num_estimators.append(num_estimators_best)\n",
    "    \n",
    "    #3th: the RF with the optimal n_estimators\n",
    "    RF_i = RandomForestClassifier(n_estimators=num_estimators_best, max_features='sqrt', oob_score=True, random_state=seed)\n",
    "    RF_i.fit(X_train_undersample, y_train_undersample.values.ravel()) \n",
    "    \n",
    "    #4th: predict on test\n",
    "    y_pred_rf = RF_i.predict(X_test) #predict\n",
    "    Y_pred_rf_list.append(y_pred_rf) #append to the list of predictions\n",
    "\n",
    "#record average oob recall and precsion for all RF's\n",
    "U_rf_train.append((np.mean(Recall_RF), np.mean(Precision_RF)))    \n",
    "    \n",
    "# Put all predictions together\n",
    "Pred_rf_array = np.asarray(Y_pred_rf_list)\n",
    "P_rf_total = np.sum(Pred_rf_array, axis=0)\n",
    "\n",
    "# Produce the final predict from the list of predictions by majority voting\n",
    "Pred_rf_final = np.where(P_rf_total<10, 0, 1)\n",
    "\n",
    "# Compute confusion matrix for test performance\n",
    "cnf_matrix = confusion_matrix(y_true, Pred_rf_final)\n",
    "np.set_printoptions(precision=2)\n",
    "\n",
    "# Plot confusion matrix\n",
    "class_names = [0,1]\n",
    "plt.figure(figsize=(6,6))\n",
    "plot_confusion_matrix(cnf_matrix, classes=class_names, title='Test: Underample + RF')\n",
    "plt.show()\n",
    "\n",
    "U_RF.append((cnf_matrix[1,1]/(cnf_matrix[1,0]+cnf_matrix[1,1]),\n",
    "             cnf_matrix[1,1]/(cnf_matrix[0,1]+cnf_matrix[1,1]),\n",
    "             cnf_matrix[0,0]/(cnf_matrix[0,0]+cnf_matrix[0,1])))"
   ]
  },
  {
   "cell_type": "code",
   "execution_count": 98,
   "metadata": {},
   "outputs": [
    {
     "data": {
      "text/plain": [
       "[(0.9074525745257453, 0.9658665812855487),\n",
       " (0.9128726287262872, 0.9663185258164614),\n",
       " (0.9186991869918698, 0.9656309917637704),\n",
       " (0.9077235772357722, 0.9654787505739695),\n",
       " (0.9067750677506774, 0.9652980478304153)]"
      ]
     },
     "execution_count": 98,
     "metadata": {},
     "output_type": "execute_result"
    }
   ],
   "source": [
    "U_rf_train"
   ]
  },
  {
   "cell_type": "code",
   "execution_count": 100,
   "metadata": {},
   "outputs": [
    {
     "data": {
      "text/plain": [
       "[(0.8861788617886179, 0.059955995599559955, 0.9759563302803922),\n",
       " (0.8861788617886179, 0.049771689497716896, 0.9707227169768848),\n",
       " (0.8617886178861789, 0.045689655172413794, 0.9688515595323514),\n",
       " (0.8861788617886179, 0.052580800771828265, 0.9723687727739557),\n",
       " (0.8861788617886179, 0.05151228733459357, 0.9717638120963997)]"
      ]
     },
     "execution_count": 100,
     "metadata": {},
     "output_type": "execute_result"
    }
   ],
   "source": [
    "U_RF"
   ]
  },
  {
   "cell_type": "markdown",
   "metadata": {
    "collapsed": true
   },
   "source": [
    "# Over-sampling"
   ]
  },
  {
   "cell_type": "code",
   "execution_count": 42,
   "metadata": {
    "collapsed": true
   },
   "outputs": [],
   "source": [
    "from imblearn.over_sampling import RandomOverSampler\n",
    "from imblearn.over_sampling import SMOTE, ADASYN"
   ]
  },
  {
   "cell_type": "markdown",
   "metadata": {},
   "source": [
    "# Random Oversampling"
   ]
  },
  {
   "cell_type": "code",
   "execution_count": 77,
   "metadata": {},
   "outputs": [
    {
     "data": {
      "text/plain": [
       "<matplotlib.figure.Figure at 0x116bacf28>"
      ]
     },
     "metadata": {},
     "output_type": "display_data"
    },
    {
     "data": {
      "image/png": "[encoded data removed]",
      "text/plain": [
       "<matplotlib.figure.Figure at 0x117cefcf8>"
      ]
     },
     "metadata": {},
     "output_type": "display_data"
    },
    {
     "name": "stdout",
     "output_type": "stream",
     "text": [
      "Recall Score Train:  0.91910840571\n",
      "Precision Score Train:  0.975001492448\n",
      "True Negative Rate Train:  0.976434560768\n"
     ]
    },
    {
     "data": {
      "text/plain": [
       "<matplotlib.figure.Figure at 0x1193265f8>"
      ]
     },
     "metadata": {},
     "output_type": "display_data"
    },
    {
     "data": {
      "image/png": "[encoded data removed]",
      "text/plain": [
       "<matplotlib.figure.Figure at 0x116d75ba8>"
      ]
     },
     "metadata": {},
     "output_type": "display_data"
    },
    {
     "name": "stdout",
     "output_type": "stream",
     "text": [
      "Recall Score in the testing dataset:  0.894308943089\n",
      "Precision Score in the testing dataset:  0.0605393505779\n",
      "True Negative Rate in the testing dataset:  0.975984467986\n"
     ]
    }
   ],
   "source": [
    "#Naive random over-sampling\n",
    "\n",
    "Random_Over_Sample = RandomOverSampler(random_state=0)\n",
    "X_resampled_train, y_resampled_train = Random_Over_Sample.fit_sample(X_train_total, \n",
    "                                                         y_train_total.values.ravel())\n",
    "\n",
    "X_resampled_train_df = pd.DataFrame(X_resampled_train, columns=X_train_total.columns)\n",
    "y_resampled_train_df = pd.DataFrame(y_resampled_train, columns=y_train_total.columns)\n",
    "\n",
    "# Train a logistic regression on the new randomly over-sampled training set\n",
    "max_score, C_max = logistic_regression(X_resampled_train_df, y_resampled_train_df)\n",
    "\n",
    "# Evaluate the classifer on training data\n",
    "clf_best_c = LogisticRegression(C=C_max)\n",
    "clf_best_c.fit(X_resampled_train_df, y_resampled_train_df.values.ravel())\n",
    "y_ro_log_train = clf_best_c.predict(X_resampled_train_df)\n",
    "\n",
    "# Compute confusion matrix for training performance\n",
    "cnf_matrix = confusion_matrix(y_resampled_train_df.values.ravel(), y_ro_log_train)\n",
    "np.set_printoptions(precision=2)\n",
    "\n",
    "RO_log_train.append((cnf_matrix[1,1]/(cnf_matrix[1,0]+cnf_matrix[1,1]),\n",
    "             cnf_matrix[1,1]/(cnf_matrix[0,1]+cnf_matrix[1,1]),\n",
    "             cnf_matrix[0,0]/(cnf_matrix[0,0]+cnf_matrix[0,1])))\n",
    "\n",
    "# Plot confusion matrix for training performance\n",
    "class_names = [0,1]\n",
    "plt.figure()\n",
    "plot_confusion_matrix(cnf_matrix, classes=class_names, title='Train: RO + Logistic Regression')\n",
    "plt.show()\n",
    "\n",
    "print(\"Recall Score Train: \", cnf_matrix[1,1]/(cnf_matrix[1,0]+cnf_matrix[1,1]))\n",
    "print(\"Precision Score Train: \", cnf_matrix[1,1]/(cnf_matrix[0,1]+cnf_matrix[1,1]))\n",
    "print(\"True Negative Rate Train: \", cnf_matrix[0,0]/(cnf_matrix[0,0]+cnf_matrix[0,1]))\n",
    "\n",
    "\n",
    "# Evaluate the classifer on test data\n",
    "y_pred_RanOverSample = clf_best_c.predict(X_test)\n",
    "\n",
    "# Compute confusion matrix\n",
    "cnf_matrix = confusion_matrix(y_true, y_pred_RanOverSample)\n",
    "np.set_printoptions(precision=2)\n",
    "\n",
    "RO_log.append((cnf_matrix[1,1]/(cnf_matrix[1,0]+cnf_matrix[1,1]),\n",
    "             cnf_matrix[1,1]/(cnf_matrix[0,1]+cnf_matrix[1,1]),\n",
    "             cnf_matrix[0,0]/(cnf_matrix[0,0]+cnf_matrix[0,1])))\n",
    "\n",
    "\n",
    "# Plot non-normalized confusion matrix\n",
    "class_names = [0,1]\n",
    "plt.figure()\n",
    "plot_confusion_matrix(cnf_matrix, classes=class_names, title='Test: RO + Logistic Regression')\n",
    "plt.show()\n",
    "\n",
    "print(\"Recall Score in the testing dataset: \", cnf_matrix[1,1]/(cnf_matrix[1,0]+cnf_matrix[1,1]))\n",
    "print(\"Precision Score in the testing dataset: \", cnf_matrix[1,1]/(cnf_matrix[0,1]+cnf_matrix[1,1]))\n",
    "print(\"True Negative Rate in the testing dataset: \", cnf_matrix[0,0]/(cnf_matrix[0,0]+cnf_matrix[0,1]))"
   ]
  },
  {
   "cell_type": "code",
   "execution_count": 45,
   "metadata": {},
   "outputs": [
    {
     "data": {
      "image/png": "[encoded data removed]",
      "text/plain": [
       "<matplotlib.figure.Figure at 0x11b210668>"
      ]
     },
     "metadata": {},
     "output_type": "display_data"
    }
   ],
   "source": [
    "illustration(X_resampled_train_df, y_resampled_train_df, \"Random Over-sampling\")"
   ]
  },
  {
   "cell_type": "code",
   "execution_count": 78,
   "metadata": {},
   "outputs": [
    {
     "data": {
      "text/plain": [
       "[(0.92396218274587782, 0.97625052647226418, 0.97752255716670733),\n",
       " (0.92197846517473603, 0.97746256189964797, 0.97874186347521053),\n",
       " (0.93842034178093758, 0.97603148976436327, 0.97695511076928854),\n",
       " (0.92244742913954492, 0.97461624599894958, 0.97597497608283779),\n",
       " (0.91910840571010521, 0.97500149244821199, 0.97643456076835056)]"
      ]
     },
     "execution_count": 78,
     "metadata": {},
     "output_type": "execute_result"
    }
   ],
   "source": [
    "RO_log_train"
   ]
  },
  {
   "cell_type": "code",
   "execution_count": 79,
   "metadata": {},
   "outputs": [
    {
     "data": {
      "text/plain": [
       "[(0.90243902439024393, 0.063903281519861826, 0.97712404507660489),\n",
       " (0.87804878048780488, 0.067669172932330823, 0.97906554678597058),\n",
       " (0.86178861788617889, 0.058145913329676356, 0.9758437794566609),\n",
       " (0.91056910569105687, 0.059957173447537475, 0.9752950941909706),\n",
       " (0.89430894308943087, 0.060539350577875621, 0.9759844679863251)]"
      ]
     },
     "execution_count": 79,
     "metadata": {},
     "output_type": "execute_result"
    }
   ],
   "source": [
    "RO_log"
   ]
  },
  {
   "cell_type": "markdown",
   "metadata": {
    "collapsed": true
   },
   "source": [
    "# Synthetic Minority Oversampling Technique (SMOTE)"
   ]
  },
  {
   "cell_type": "code",
   "execution_count": 80,
   "metadata": {},
   "outputs": [
    {
     "data": {
      "text/plain": [
       "<matplotlib.figure.Figure at 0x115cf0860>"
      ]
     },
     "metadata": {},
     "output_type": "display_data"
    },
    {
     "data": {
      "image/png": "[encoded data removed]",
      "text/plain": [
       "<matplotlib.figure.Figure at 0x115cf0898>"
      ]
     },
     "metadata": {},
     "output_type": "display_data"
    },
    {
     "name": "stdout",
     "output_type": "stream",
     "text": [
      "Recall Score Train:  0.918855165169\n",
      "Precision Score Train:  0.972859845382\n",
      "True Negative Rate Train:  0.974366429684\n"
     ]
    },
    {
     "data": {
      "text/plain": [
       "<matplotlib.figure.Figure at 0x114969f60>"
      ]
     },
     "metadata": {},
     "output_type": "display_data"
    },
    {
     "data": {
      "image/png": "[encoded data removed]",
      "text/plain": [
       "<matplotlib.figure.Figure at 0x116d1b320>"
      ]
     },
     "metadata": {},
     "output_type": "display_data"
    },
    {
     "name": "stdout",
     "output_type": "stream",
     "text": [
      "Recall Score in the testing dataset:  0.90243902439\n",
      "Precision Score in the testing dataset:  0.0562880324544\n",
      "True Negative Rate in the testing dataset:  0.973817864629\n"
     ]
    }
   ],
   "source": [
    "#SMOTE\n",
    "X_SMOTE_train, y_SMOTE_train = SMOTE().fit_sample(X_train_total,\n",
    "                                              y_train_total.values.ravel())\n",
    "\n",
    "X_SMOTE_train_df = pd.DataFrame(X_SMOTE_train, columns=X_train_total.columns)\n",
    "y_SMOTE_train_df = pd.DataFrame(y_SMOTE_train, columns=y_train_total.columns)\n",
    "\n",
    "# Train a logistic regression on the new SMOTE training set\n",
    "max_score, C_max = logistic_regression(X_SMOTE_train_df, y_SMOTE_train_df)\n",
    "\n",
    "# Evaluate the classifer on training data\n",
    "clf_best_smote = LogisticRegression(C=C_max)\n",
    "clf_best_smote.fit(X_SMOTE_train_df, y_SMOTE_train_df.values.ravel())\n",
    "y_SMOTE_log_train = clf_best_smote.predict(X_SMOTE_train_df)\n",
    "\n",
    "# Compute confusion matrix for training performance\n",
    "cnf_matrix = confusion_matrix(y_SMOTE_train_df.values.ravel(), y_SMOTE_log_train)\n",
    "np.set_printoptions(precision=2)\n",
    "\n",
    "SMOTE_log_train.append((cnf_matrix[1,1]/(cnf_matrix[1,0]+cnf_matrix[1,1]),\n",
    "             cnf_matrix[1,1]/(cnf_matrix[0,1]+cnf_matrix[1,1]),\n",
    "             cnf_matrix[0,0]/(cnf_matrix[0,0]+cnf_matrix[0,1])))\n",
    "\n",
    "# Plot confusion matrix for training performance\n",
    "class_names = [0,1]\n",
    "plt.figure()\n",
    "plot_confusion_matrix(cnf_matrix, classes=class_names, title='Train: SMOTE + Logistic Regression ')\n",
    "plt.show()\n",
    "\n",
    "print(\"Recall Score Train: \", cnf_matrix[1,1]/(cnf_matrix[1,0]+cnf_matrix[1,1]))\n",
    "print(\"Precision Score Train: \", cnf_matrix[1,1]/(cnf_matrix[0,1]+cnf_matrix[1,1]))\n",
    "print(\"True Negative Rate Train: \", cnf_matrix[0,0]/(cnf_matrix[0,0]+cnf_matrix[0,1]))\n",
    "\n",
    "\n",
    "# Evaluate the classifer on test data\n",
    "y_pred_SMOTE = clf_best_smote.predict(X_test)\n",
    "\n",
    "# Compute confusion matrix for test performance\n",
    "cnf_matrix = confusion_matrix(y_true, y_pred_SMOTE)\n",
    "np.set_printoptions(precision=2)\n",
    "\n",
    "SMOTE_log.append((cnf_matrix[1,1]/(cnf_matrix[1,0]+cnf_matrix[1,1]),\n",
    "             cnf_matrix[1,1]/(cnf_matrix[0,1]+cnf_matrix[1,1]),\n",
    "             cnf_matrix[0,0]/(cnf_matrix[0,0]+cnf_matrix[0,1])))\n",
    "\n",
    "# Plot non-normalized confusion matrix for test performance\n",
    "class_names = [0,1]\n",
    "plt.figure()\n",
    "plot_confusion_matrix(cnf_matrix, classes=class_names, title='Test: SMOTE + Logistic Regression')\n",
    "plt.show()\n",
    "\n",
    "print(\"Recall Score in the testing dataset: \", cnf_matrix[1,1]/(cnf_matrix[1,0]+cnf_matrix[1,1]))\n",
    "print(\"Precision Score in the testing dataset: \", cnf_matrix[1,1]/(cnf_matrix[0,1]+cnf_matrix[1,1]))\n",
    "print(\"True Negative Rate in the testing dataset: \", cnf_matrix[0,0]/(cnf_matrix[0,0]+cnf_matrix[0,1]))"
   ]
  },
  {
   "cell_type": "code",
   "execution_count": 53,
   "metadata": {},
   "outputs": [
    {
     "data": {
      "image/png": "[encoded data removed]",
      "text/plain": [
       "<matplotlib.figure.Figure at 0x10e569ba8>"
      ]
     },
     "metadata": {},
     "output_type": "display_data"
    }
   ],
   "source": [
    "illustration(X_SMOTE_train_df, y_SMOTE_train_df, \"SMOTE\")"
   ]
  },
  {
   "cell_type": "code",
   "execution_count": 81,
   "metadata": {},
   "outputs": [
    {
     "data": {
      "text/plain": [
       "[(0.920196402108462, 0.974284749600294, 0.9757123562625448),\n",
       " (0.9231977714832392, 0.9753510310453145, 0.9766690427507551),\n",
       " (0.9382421354743101, 0.974401309156792, 0.9753512540096418),\n",
       " (0.9177108930949746, 0.9727495513766895, 0.9742913954491736),\n",
       " (0.9188551651691084, 0.972859845381556, 0.9743664296835431)]"
      ]
     },
     "execution_count": 81,
     "metadata": {},
     "output_type": "execute_result"
    }
   ],
   "source": [
    "SMOTE_log_train"
   ]
  },
  {
   "cell_type": "code",
   "execution_count": 82,
   "metadata": {},
   "outputs": [
    {
     "data": {
      "text/plain": [
       "[(0.90243902439024393, 0.059358288770053474, 0.97525288763207141),\n",
       " (0.86991869918699183, 0.062573099415204683, 0.97744762869483248),\n",
       " (0.86178861788617889, 0.05478036175710594, 0.97426806792442211),\n",
       " (0.91869918699186992, 0.055802469135802467, 0.97310035312820942),\n",
       " (0.90243902439024393, 0.056288032454361057, 0.97381786462949671)]"
      ]
     },
     "execution_count": 82,
     "metadata": {},
     "output_type": "execute_result"
    }
   ],
   "source": [
    "SMOTE_log"
   ]
  },
  {
   "cell_type": "markdown",
   "metadata": {
    "collapsed": true
   },
   "source": [
    "# Adaptive Synthetic (ADASYN)"
   ]
  },
  {
   "cell_type": "code",
   "execution_count": 22,
   "metadata": {},
   "outputs": [
    {
     "data": {
      "text/plain": [
       "<matplotlib.figure.Figure at 0x10309c6a0>"
      ]
     },
     "metadata": {},
     "output_type": "display_data"
    },
    {
     "data": {
      "image/png": "[encoded data removed]",
      "text/plain": [
       "<matplotlib.figure.Figure at 0x10309c710>"
      ]
     },
     "metadata": {},
     "output_type": "display_data"
    },
    {
     "name": "stdout",
     "output_type": "stream",
     "text": [
      "Recall Score Train:  0.715349517704\n",
      "Precision Score Train:  0.839264985008\n",
      "True Negative Rate Train:  0.862987488041\n"
     ]
    },
    {
     "data": {
      "text/plain": [
       "<matplotlib.figure.Figure at 0x10d90d828>"
      ]
     },
     "metadata": {},
     "output_type": "display_data"
    },
    {
     "data": {
      "image/png": "[encoded data removed]",
      "text/plain": [
       "<matplotlib.figure.Figure at 0x10d90d358>"
      ]
     },
     "metadata": {},
     "output_type": "display_data"
    },
    {
     "name": "stdout",
     "output_type": "stream",
     "text": [
      "Recall Score in the testing dataset:  0.943089430894\n",
      "Precision Score in the testing dataset:  0.0117539771\n",
      "True Negative Rate in the testing dataset:  0.862786477019\n"
     ]
    }
   ],
   "source": [
    "#ADASYN\n",
    "X_ADASYN_train, y_ADASYN_train = ADASYN().fit_sample(X_train_total,\n",
    "                                              y_train_total.values.ravel())\n",
    "\n",
    "X_ADASYN_train_df = pd.DataFrame(X_ADASYN_train, columns=X_train_total.columns)\n",
    "y_ADASYN_train_df = pd.DataFrame(y_ADASYN_train, columns=y_train_total.columns)\n",
    "\n",
    "# Train a logistic regression on the new ADASYN training set\n",
    "max_score, C_max = logistic_regression(X_ADASYN_train_df, y_ADASYN_train_df)\n",
    "\n",
    "# Evaluate the classifer on training data\n",
    "clf_best_adasyn = LogisticRegression(C=C_max)\n",
    "clf_best_adasyn.fit(X_ADASYN_train_df, y_ADASYN_train_df.values.ravel())\n",
    "y_ADASYN_log_train = clf_best_adasyn.predict(X_ADASYN_train_df)\n",
    "\n",
    "# Compute confusion matrix\n",
    "cnf_matrix = confusion_matrix(y_ADASYN_train_df.values.ravel(), y_ADASYN_log_train)\n",
    "np.set_printoptions(precision=2)\n",
    "\n",
    "ADASYN_log_train.append((cnf_matrix[1,1]/(cnf_matrix[1,0]+cnf_matrix[1,1]),\n",
    "             cnf_matrix[1,1]/(cnf_matrix[0,1]+cnf_matrix[1,1]),\n",
    "             cnf_matrix[0,0]/(cnf_matrix[0,0]+cnf_matrix[0,1])))\n",
    "\n",
    "# Plot non-normalized confusion matrix\n",
    "class_names = [0,1]\n",
    "plt.figure()\n",
    "plot_confusion_matrix(cnf_matrix, classes=class_names, title='Train: ADASYN + Logistic Regression ')\n",
    "plt.show()\n",
    "\n",
    "print(\"Recall Score Train: \", cnf_matrix[1,1]/(cnf_matrix[1,0]+cnf_matrix[1,1]))\n",
    "print(\"Precision Score Train: \", cnf_matrix[1,1]/(cnf_matrix[0,1]+cnf_matrix[1,1]))\n",
    "print(\"True Negative Rate Train: \", cnf_matrix[0,0]/(cnf_matrix[0,0]+cnf_matrix[0,1]))\n",
    "\n",
    "\n",
    "# Evaluate the classifer on test data\n",
    "#clf_best_adasyn = LogisticRegression(C=C_max)\n",
    "#clf_best_adasyn.fit(X_ADASYN_train_df, y_ADASYN_train_df.values.ravel())\n",
    "y_pred_ADASYN = clf_best_adasyn.predict(X_test)\n",
    "\n",
    "# Compute confusion matrix\n",
    "cnf_matrix = confusion_matrix(y_true, y_pred_ADASYN)\n",
    "np.set_printoptions(precision=2)\n",
    "\n",
    "ADASYN_log.append((cnf_matrix[1,1]/(cnf_matrix[1,0]+cnf_matrix[1,1]),\n",
    "                          cnf_matrix[1,1]/(cnf_matrix[0,1]+cnf_matrix[1,1]),\n",
    "                          cnf_matrix[0,0]/(cnf_matrix[0,0]+cnf_matrix[0,1])))\n",
    "\n",
    "# Plot non-normalized confusion matrix\n",
    "class_names = [0,1]\n",
    "plt.figure()\n",
    "plot_confusion_matrix(cnf_matrix, classes=class_names, title='Test: ADASYN + Logistic Regression')\n",
    "plt.show()\n",
    "\n",
    "print(\"Recall Score in the testing dataset: \", cnf_matrix[1,1]/(cnf_matrix[1,0]+cnf_matrix[1,1]))\n",
    "print(\"Precision Score in the testing dataset: \", cnf_matrix[1,1]/(cnf_matrix[0,1]+cnf_matrix[1,1]))\n",
    "print(\"True Negative Rate in the testing dataset: \", cnf_matrix[0,0]/(cnf_matrix[0,0]+cnf_matrix[0,1]))"
   ]
  },
  {
   "cell_type": "code",
   "execution_count": 60,
   "metadata": {},
   "outputs": [
    {
     "data": {
      "image/png": "[encoded data removed]",
      "text/plain": [
       "<matplotlib.figure.Figure at 0x1174b2588>"
      ]
     },
     "metadata": {},
     "output_type": "display_data"
    }
   ],
   "source": [
    "illustration(X_ADASYN_train_df, y_ADASYN_train_df, 'ADASYN')"
   ]
  },
  {
   "cell_type": "code",
   "execution_count": 84,
   "metadata": {},
   "outputs": [
    {
     "data": {
      "text/plain": [
       "[(0.71572935179670905, 0.83937812436412829, 0.86302969479825176),\n",
       " (0.7319652412059594, 0.85352982993383275, 0.87438800202592437),\n",
       " (0.73055189522009689, 0.84937436959899681, 0.87043932544223301),\n",
       " (0.72034518337866993, 0.82636322061711454, 0.84865125963720944),\n",
       " (0.71745562823849385, 0.84734583114114026, 0.87073477274006261)]"
      ]
     },
     "execution_count": 84,
     "metadata": {},
     "output_type": "execute_result"
    }
   ],
   "source": [
    "ADASYN_log_train"
   ]
  },
  {
   "cell_type": "code",
   "execution_count": 85,
   "metadata": {},
   "outputs": [
    {
     "data": {
      "text/plain": [
       "[(0.94308943089430897, 0.011770674784373415, 0.86298344096005852),\n",
       " (0.94308943089430897, 0.01283043911071784, 0.87443548727472253),\n",
       " (0.89430894308943087, 0.011645140800338767, 0.86865318870552488),\n",
       " (0.97560975609756095, 0.010879419764279238, 0.84650881413638346),\n",
       " (0.95934959349593496, 0.012689536509302076, 0.87083386091531956)]"
      ]
     },
     "execution_count": 85,
     "metadata": {},
     "output_type": "execute_result"
    }
   ],
   "source": [
    "ADASYN_log"
   ]
  },
  {
   "cell_type": "code",
   "execution_count": null,
   "metadata": {
    "collapsed": true
   },
   "outputs": [],
   "source": []
  }
 ],
 "metadata": {
  "kernelspec": {
   "display_name": "Python 3",
   "language": "python",
   "name": "python3"
  },
  "language_info": {
   "codemirror_mode": {
    "name": "ipython",
    "version": 3
   },
   "file_extension": ".py",
   "mimetype": "text/x-python",
   "name": "python",
   "nbconvert_exporter": "python",
   "pygments_lexer": "ipython3",
   "version": "3.6.1"
  }
 },
 "nbformat": 4,
 "nbformat_minor": 2
}
